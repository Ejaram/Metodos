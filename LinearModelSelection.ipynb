{
 "cells": [
  {
   "cell_type": "markdown",
   "metadata": {},
   "source": [
    "## Linear Model Selection and Regularization"
   ]
  },
  {
   "cell_type": "markdown",
   "metadata": {},
   "source": [
    "In the regression settings, the standard linear model is commonly used to describe the relationship between a response $Y$ and a set of variables $X_1,X_2,\\ldots, X_p$. "
   ]
  },
  {
   "cell_type": "code",
   "execution_count": null,
   "metadata": {},
   "outputs": [],
   "source": []
  },
  {
   "cell_type": "markdown",
   "metadata": {},
   "source": [
    "Howevee, the linear model **has distinct advantages** in terms of inference and, on real-world problems, is often surpringly competitive in relation to non-linear models.\n",
    "\n",
    "It is often surprisingly competitive to non-linear methods."
   ]
  },
  {
   "cell_type": "markdown",
   "metadata": {},
   "source": [
    "By replacing \"plain least squares fitting\" with some alternative fitting procedures can yield better prediction accuracy and model interpretability"
   ]
  },
  {
   "cell_type": "markdown",
   "metadata": {},
   "source": [
    "### Prediction accuracy"
   ]
  },
  {
   "cell_type": "markdown",
   "metadata": {},
   "source": [
    "### Model interpretability"
   ]
  },
  {
   "cell_type": "markdown",
   "metadata": {},
   "source": [
    "There are many alternatives, both classical and modern, to using least squares to fit the models of interest. Now we discuss three important classes of methods."
   ]
  },
  {
   "cell_type": "markdown",
   "metadata": {},
   "source": [
    "### Subset selection"
   ]
  },
  {
   "cell_type": "code",
   "execution_count": 156,
   "metadata": {},
   "outputs": [],
   "source": [
    "import numpy as np\n",
    "import pandas as pd\n",
    "import matplotlib.pyplot as plt\n",
    "import seaborn as sns\n",
    "import statsmodels.api as sm\n",
    "import statsmodels.formula.api as smf\n",
    "import patsy\n",
    "import itertools\n",
    "from IPython.display import display, HTML\n",
    "from sklearn import linear_model\n",
    "from sklearn.model_selection import KFold\n",
    "from ipywidgets import interact\n",
    "import ipywidgets as widgets\n",
    "import warnings\n",
    "warnings.filterwarnings('ignore')"
   ]
  },
  {
   "cell_type": "code",
   "execution_count": 157,
   "metadata": {},
   "outputs": [
    {
     "data": {
      "text/html": [
       "<div>\n",
       "<style scoped>\n",
       "    .dataframe tbody tr th:only-of-type {\n",
       "        vertical-align: middle;\n",
       "    }\n",
       "\n",
       "    .dataframe tbody tr th {\n",
       "        vertical-align: top;\n",
       "    }\n",
       "\n",
       "    .dataframe thead th {\n",
       "        text-align: right;\n",
       "    }\n",
       "</style>\n",
       "<table border=\"1\" class=\"dataframe\">\n",
       "  <thead>\n",
       "    <tr style=\"text-align: right;\">\n",
       "      <th></th>\n",
       "      <th>MICROSOFT</th>\n",
       "      <th>SANDP</th>\n",
       "      <th>CPI</th>\n",
       "      <th>INDPRO</th>\n",
       "      <th>M1SUPPLY</th>\n",
       "      <th>CCREDIT</th>\n",
       "      <th>BMINUSA</th>\n",
       "      <th>USTB3M</th>\n",
       "      <th>USTB10Y</th>\n",
       "    </tr>\n",
       "    <tr>\n",
       "      <th>Date</th>\n",
       "      <th></th>\n",
       "      <th></th>\n",
       "      <th></th>\n",
       "      <th></th>\n",
       "      <th></th>\n",
       "      <th></th>\n",
       "      <th></th>\n",
       "      <th></th>\n",
       "      <th></th>\n",
       "    </tr>\n",
       "  </thead>\n",
       "  <tbody>\n",
       "    <tr>\n",
       "      <th>1986-03-01</th>\n",
       "      <td>0.095486</td>\n",
       "      <td>238.899994</td>\n",
       "      <td>108.8</td>\n",
       "      <td>56.5414</td>\n",
       "      <td>624.3</td>\n",
       "      <td>606.7990</td>\n",
       "      <td>1.50</td>\n",
       "      <td>6.76</td>\n",
       "      <td>7.78</td>\n",
       "    </tr>\n",
       "    <tr>\n",
       "      <th>1986-04-01</th>\n",
       "      <td>0.111979</td>\n",
       "      <td>235.520004</td>\n",
       "      <td>108.6</td>\n",
       "      <td>56.5654</td>\n",
       "      <td>647.0</td>\n",
       "      <td>614.3669</td>\n",
       "      <td>1.40</td>\n",
       "      <td>6.24</td>\n",
       "      <td>7.30</td>\n",
       "    </tr>\n",
       "    <tr>\n",
       "      <th>1986-05-01</th>\n",
       "      <td>0.121528</td>\n",
       "      <td>247.350006</td>\n",
       "      <td>108.9</td>\n",
       "      <td>56.6850</td>\n",
       "      <td>645.7</td>\n",
       "      <td>621.9152</td>\n",
       "      <td>1.20</td>\n",
       "      <td>6.33</td>\n",
       "      <td>7.71</td>\n",
       "    </tr>\n",
       "    <tr>\n",
       "      <th>1986-06-01</th>\n",
       "      <td>0.106771</td>\n",
       "      <td>250.839996</td>\n",
       "      <td>109.5</td>\n",
       "      <td>56.4959</td>\n",
       "      <td>662.8</td>\n",
       "      <td>627.8910</td>\n",
       "      <td>1.21</td>\n",
       "      <td>6.40</td>\n",
       "      <td>7.80</td>\n",
       "    </tr>\n",
       "    <tr>\n",
       "      <th>1986-07-01</th>\n",
       "      <td>0.098958</td>\n",
       "      <td>236.119995</td>\n",
       "      <td>109.5</td>\n",
       "      <td>56.8096</td>\n",
       "      <td>673.4</td>\n",
       "      <td>633.6083</td>\n",
       "      <td>1.28</td>\n",
       "      <td>6.00</td>\n",
       "      <td>7.30</td>\n",
       "    </tr>\n",
       "  </tbody>\n",
       "</table>\n",
       "</div>"
      ],
      "text/plain": [
       "            MICROSOFT       SANDP    CPI   INDPRO  M1SUPPLY   CCREDIT  \\\n",
       "Date                                                                    \n",
       "1986-03-01   0.095486  238.899994  108.8  56.5414     624.3  606.7990   \n",
       "1986-04-01   0.111979  235.520004  108.6  56.5654     647.0  614.3669   \n",
       "1986-05-01   0.121528  247.350006  108.9  56.6850     645.7  621.9152   \n",
       "1986-06-01   0.106771  250.839996  109.5  56.4959     662.8  627.8910   \n",
       "1986-07-01   0.098958  236.119995  109.5  56.8096     673.4  633.6083   \n",
       "\n",
       "            BMINUSA  USTB3M  USTB10Y  \n",
       "Date                                  \n",
       "1986-03-01     1.50    6.76     7.78  \n",
       "1986-04-01     1.40    6.24     7.30  \n",
       "1986-05-01     1.20    6.33     7.71  \n",
       "1986-06-01     1.21    6.40     7.80  \n",
       "1986-07-01     1.28    6.00     7.30  "
      ]
     },
     "execution_count": 157,
     "metadata": {},
     "output_type": "execute_result"
    }
   ],
   "source": [
    "data = pd.read_excel('macro.xls', index_col=0)\n",
    "data.head()"
   ]
  },
  {
   "cell_type": "code",
   "execution_count": 158,
   "metadata": {},
   "outputs": [],
   "source": [
    "def LogDiff(x):\n",
    "    x_diff = 100*np.log(x/x.shift(1))\n",
    "    x_diff = x_diff.dropna()\n",
    "    return x_diff"
   ]
  },
  {
   "cell_type": "code",
   "execution_count": 159,
   "metadata": {},
   "outputs": [],
   "source": [
    "data = pd.DataFrame({'dspread' : data['BMINUSA'] - \\\n",
    "data['BMINUSA'].shift(1),\n",
    "'dcredit' : data['CCREDIT'] - \\\n",
    "data['CCREDIT'].shift(1),\n",
    "'dprod' : data['INDPRO'] - \\\n",
    "data['INDPRO'].shift(1),\n",
    "'rmsoft' : LogDiff(data['MICROSOFT']),\n",
    "'rsandp' : LogDiff(data['SANDP']),\n",
    "'dmoney' : data['M1SUPPLY'] - \\\n",
    "data['M1SUPPLY'].shift(1),\n",
    "'inflation' : LogDiff(data['CPI']),\n",
    "'term' : data['USTB10Y'] - data['USTB3M'],\n",
    "'dinflation' : LogDiff(data['CPI']) - \\\n",
    "LogDiff(data['CPI']).shift(1),\n",
    "'mustb3m' : data['USTB3M']/12,\n",
    "'rterm' : (data['USTB10Y'] - data['USTB3M']) - \\\n",
    "(data['USTB10Y'] - data['USTB3M']).shift(1),\n",
    "'ermsoft' : LogDiff(data['MICROSOFT']) - \\\n",
    "data['USTB3M']/12,\n",
    "'ersandp' : LogDiff(data['SANDP']) - \\\n",
    "data['USTB3M']/12})"
   ]
  },
  {
   "cell_type": "code",
   "execution_count": 160,
   "metadata": {},
   "outputs": [
    {
     "data": {
      "text/html": [
       "<div>\n",
       "<style scoped>\n",
       "    .dataframe tbody tr th:only-of-type {\n",
       "        vertical-align: middle;\n",
       "    }\n",
       "\n",
       "    .dataframe tbody tr th {\n",
       "        vertical-align: top;\n",
       "    }\n",
       "\n",
       "    .dataframe thead th {\n",
       "        text-align: right;\n",
       "    }\n",
       "</style>\n",
       "<table border=\"1\" class=\"dataframe\">\n",
       "  <thead>\n",
       "    <tr style=\"text-align: right;\">\n",
       "      <th></th>\n",
       "      <th>dspread</th>\n",
       "      <th>dcredit</th>\n",
       "      <th>dprod</th>\n",
       "      <th>rmsoft</th>\n",
       "      <th>rsandp</th>\n",
       "      <th>dmoney</th>\n",
       "      <th>inflation</th>\n",
       "      <th>term</th>\n",
       "      <th>dinflation</th>\n",
       "      <th>mustb3m</th>\n",
       "      <th>rterm</th>\n",
       "      <th>ermsoft</th>\n",
       "      <th>ersandp</th>\n",
       "    </tr>\n",
       "    <tr>\n",
       "      <th>Date</th>\n",
       "      <th></th>\n",
       "      <th></th>\n",
       "      <th></th>\n",
       "      <th></th>\n",
       "      <th></th>\n",
       "      <th></th>\n",
       "      <th></th>\n",
       "      <th></th>\n",
       "      <th></th>\n",
       "      <th></th>\n",
       "      <th></th>\n",
       "      <th></th>\n",
       "      <th></th>\n",
       "    </tr>\n",
       "  </thead>\n",
       "  <tbody>\n",
       "    <tr>\n",
       "      <th>1986-03-01</th>\n",
       "      <td>NaN</td>\n",
       "      <td>NaN</td>\n",
       "      <td>NaN</td>\n",
       "      <td>NaN</td>\n",
       "      <td>NaN</td>\n",
       "      <td>NaN</td>\n",
       "      <td>NaN</td>\n",
       "      <td>1.02</td>\n",
       "      <td>NaN</td>\n",
       "      <td>0.563333</td>\n",
       "      <td>NaN</td>\n",
       "      <td>NaN</td>\n",
       "      <td>NaN</td>\n",
       "    </tr>\n",
       "    <tr>\n",
       "      <th>1986-04-01</th>\n",
       "      <td>-0.10</td>\n",
       "      <td>7.5679</td>\n",
       "      <td>0.0240</td>\n",
       "      <td>15.933171</td>\n",
       "      <td>-1.424918</td>\n",
       "      <td>22.7</td>\n",
       "      <td>-0.183993</td>\n",
       "      <td>1.06</td>\n",
       "      <td>NaN</td>\n",
       "      <td>0.520000</td>\n",
       "      <td>0.04</td>\n",
       "      <td>15.413171</td>\n",
       "      <td>-1.944918</td>\n",
       "    </tr>\n",
       "    <tr>\n",
       "      <th>1986-05-01</th>\n",
       "      <td>-0.20</td>\n",
       "      <td>7.5483</td>\n",
       "      <td>0.1196</td>\n",
       "      <td>8.183334</td>\n",
       "      <td>4.900851</td>\n",
       "      <td>-1.3</td>\n",
       "      <td>0.275862</td>\n",
       "      <td>1.38</td>\n",
       "      <td>0.459855</td>\n",
       "      <td>0.527500</td>\n",
       "      <td>0.32</td>\n",
       "      <td>7.655834</td>\n",
       "      <td>4.373351</td>\n",
       "    </tr>\n",
       "    <tr>\n",
       "      <th>1986-06-01</th>\n",
       "      <td>0.01</td>\n",
       "      <td>5.9758</td>\n",
       "      <td>-0.1891</td>\n",
       "      <td>-12.945833</td>\n",
       "      <td>1.401091</td>\n",
       "      <td>17.1</td>\n",
       "      <td>0.549452</td>\n",
       "      <td>1.40</td>\n",
       "      <td>0.273590</td>\n",
       "      <td>0.533333</td>\n",
       "      <td>0.02</td>\n",
       "      <td>-13.479167</td>\n",
       "      <td>0.867757</td>\n",
       "    </tr>\n",
       "    <tr>\n",
       "      <th>1986-07-01</th>\n",
       "      <td>0.07</td>\n",
       "      <td>5.7173</td>\n",
       "      <td>0.3137</td>\n",
       "      <td>-7.599084</td>\n",
       "      <td>-6.047514</td>\n",
       "      <td>10.6</td>\n",
       "      <td>0.000000</td>\n",
       "      <td>1.30</td>\n",
       "      <td>-0.549452</td>\n",
       "      <td>0.500000</td>\n",
       "      <td>-0.10</td>\n",
       "      <td>-8.099084</td>\n",
       "      <td>-6.547514</td>\n",
       "    </tr>\n",
       "  </tbody>\n",
       "</table>\n",
       "</div>"
      ],
      "text/plain": [
       "            dspread  dcredit   dprod     rmsoft    rsandp  dmoney  inflation  \\\n",
       "Date                                                                           \n",
       "1986-03-01      NaN      NaN     NaN        NaN       NaN     NaN        NaN   \n",
       "1986-04-01    -0.10   7.5679  0.0240  15.933171 -1.424918    22.7  -0.183993   \n",
       "1986-05-01    -0.20   7.5483  0.1196   8.183334  4.900851    -1.3   0.275862   \n",
       "1986-06-01     0.01   5.9758 -0.1891 -12.945833  1.401091    17.1   0.549452   \n",
       "1986-07-01     0.07   5.7173  0.3137  -7.599084 -6.047514    10.6   0.000000   \n",
       "\n",
       "            term  dinflation   mustb3m  rterm    ermsoft   ersandp  \n",
       "Date                                                                \n",
       "1986-03-01  1.02         NaN  0.563333    NaN        NaN       NaN  \n",
       "1986-04-01  1.06         NaN  0.520000   0.04  15.413171 -1.944918  \n",
       "1986-05-01  1.38    0.459855  0.527500   0.32   7.655834  4.373351  \n",
       "1986-06-01  1.40    0.273590  0.533333   0.02 -13.479167  0.867757  \n",
       "1986-07-01  1.30   -0.549452  0.500000  -0.10  -8.099084 -6.547514  "
      ]
     },
     "execution_count": 160,
     "metadata": {},
     "output_type": "execute_result"
    }
   ],
   "source": [
    "data.head()"
   ]
  },
  {
   "cell_type": "code",
   "execution_count": null,
   "metadata": {},
   "outputs": [],
   "source": []
  },
  {
   "cell_type": "markdown",
   "metadata": {},
   "source": [
    "Perform best subset selection by identifying the best model that contains a given number of predictors, where best is quantified using RSS."
   ]
  },
  {
   "cell_type": "code",
   "execution_count": 161,
   "metadata": {},
   "outputs": [],
   "source": [
    "def get_models(k, X, y):\n",
    "    \"\"\"\n",
    "    Fit all possible models that contain exactly k predictors.\n",
    "    \"\"\"\n",
    "    # List all available predictors\n",
    "    X_combos = itertools.combinations(list(X.columns), k)\n",
    "    \n",
    "    # Fit all models accumulating Residual Sum of Squares (RSS)\n",
    "    models = []\n",
    "    for X_label in X_combos:\n",
    "        # Parse patsy formula\n",
    "        X_smf = ' + '.join(X_label)\n",
    "        f     = 'ermsoft ~ {}'.format(X_smf)\n",
    "        # Fit model\n",
    "        model = smf.ols(formula=f, data=pd.concat([X, y], axis=1)).fit()\n",
    "        # Return results\n",
    "        models += [(f, model)]\n",
    "    return models\n",
    "\n",
    "\n",
    "def min_rss(statsmodels):\n",
    "    \"\"\"Return model with lowest Residual Sum of Squares (RSS)\"\"\"\n",
    "    return sorted(statsmodels, key=lambda tup: tup[1].ssr)[0]\n",
    "\n",
    "\n",
    "def max_adjr2(statsmodels):\n",
    "    \"\"\"Return model with lowest R-squared\"\"\"\n",
    "    return sorted(statsmodels, reverse=True, key=lambda tup: tup[1].rsquared_adj)[0]\n"
   ]
  },
  {
   "cell_type": "markdown",
   "metadata": {},
   "source": [
    "Which model with 2 predictors yields lowest RSS score?"
   ]
  },
  {
   "cell_type": "code",
   "execution_count": 162,
   "metadata": {},
   "outputs": [
    {
     "name": "stdout",
     "output_type": "stream",
     "text": [
      "This model yields the lowest RSS score for the subset of models with 3 predictors:\n"
     ]
    },
    {
     "data": {
      "text/plain": [
       "('ermsoft ~ dinflation + rterm + ersandp',\n",
       " <statsmodels.regression.linear_model.RegressionResultsWrapper at 0x143ec1d57c0>)"
      ]
     },
     "metadata": {},
     "output_type": "display_data"
    },
    {
     "name": "stdout",
     "output_type": "stream",
     "text": [
      "This model yields the highest adjusted R-squared score for the subset of models with 3 predictors:\n"
     ]
    },
    {
     "data": {
      "text/plain": [
       "('ermsoft ~ dinflation + rterm + ersandp',\n",
       " <statsmodels.regression.linear_model.RegressionResultsWrapper at 0x143ebfd3a90>)"
      ]
     },
     "execution_count": 162,
     "metadata": {},
     "output_type": "execute_result"
    }
   ],
   "source": [
    "X = data.drop(data[['ermsoft', \"rmsoft\", \"rsandp\", \"inflation\", \"term\"]], axis=1)\n",
    "y = data['ermsoft']\n",
    "\n",
    "# Set number ofr predictors in subset\n",
    "k = 3\n",
    "\n",
    "# Get all possible models in subset\n",
    "subset = get_models(3, X, y)\n",
    "\n",
    "# Display results\n",
    "print('This model yields the lowest RSS score for the subset of models with {} predictors:'.format(k))\n",
    "display(min_rss(subset))\n",
    "\n",
    "print('This model yields the highest adjusted R-squared score for the subset of models with {} predictors:'.format(k))\n",
    "max_adjr2(get_models(3, X, y))"
   ]
  },
  {
   "cell_type": "code",
   "execution_count": 92,
   "metadata": {},
   "outputs": [
    {
     "data": {
      "text/plain": [
       "Index(['dspread', 'dcredit', 'dprod', 'dmoney', 'dinflation', 'mustb3m',\n",
       "       'rterm', 'ersandp'],\n",
       "      dtype='object')"
      ]
     },
     "execution_count": 92,
     "metadata": {},
     "output_type": "execute_result"
    }
   ],
   "source": [
    "X.columns"
   ]
  },
  {
   "cell_type": "markdown",
   "metadata": {},
   "source": [
    "The model with 2 predictors that yields the lowest RSS score is the one that uses the predictors 'rterm', and 'ersandp'"
   ]
  },
  {
   "cell_type": "markdown",
   "metadata": {},
   "source": [
    "### How do the the maximum $R^2$, minimum RSS, and BIC statistics vary for each subset with k predictors? \n",
    "\n",
    "First we fit all possible models in each subset of models with k predictors. This turns out to be a very computationally expensive process, running on my laptop for XX minutes yielded results up to only k=6 and occupied XXGB of memeory. Not suprising as number of possible combinations without repetition is given by:\n",
    "\n",
    "$\\frac{p!}{k!(p-k)!}$\n",
    "\n",
    "Where *p* is number of predictors to choose from and we choose *k* of them.\n",
    "\n",
    "In this example p=8, there are 8 predictors.\n",
    "\n",
    "For k = 6 the number of possible combinations is given by:\n",
    "\n",
    "$\\frac{8!}{2!x 6!} = 28$"
   ]
  },
  {
   "cell_type": "code",
   "execution_count": 166,
   "metadata": {},
   "outputs": [
    {
     "data": {
      "text/plain": [
       "28.0"
      ]
     },
     "execution_count": 166,
     "metadata": {},
     "output_type": "execute_result"
    }
   ],
   "source": [
    "40320/(2*720)"
   ]
  },
  {
   "cell_type": "code",
   "execution_count": 163,
   "metadata": {},
   "outputs": [
    {
     "name": "stdout",
     "output_type": "stream",
     "text": [
      "Enter a number: 8\n",
      "The factorial of  8  is : \n",
      "40320\n"
     ]
    }
   ],
   "source": [
    "import math\n",
    "num = input(\"Enter a number: \")\n",
    "print(\"The factorial of \", num, \" is : \")\n",
    "print(math.factorial(int(num)))"
   ]
  },
  {
   "cell_type": "code",
   "execution_count": 165,
   "metadata": {},
   "outputs": [
    {
     "name": "stdout",
     "output_type": "stream",
     "text": [
      "Enter a number: 6\n",
      "The factorial of  6  is : \n",
      "720\n"
     ]
    }
   ],
   "source": [
    "import math\n",
    "num = input(\"Enter a number: \")\n",
    "print(\"The factorial of \", num, \" is : \")\n",
    "print(math.factorial(int(num)))"
   ]
  },
  {
   "cell_type": "code",
   "execution_count": 168,
   "metadata": {},
   "outputs": [
    {
     "data": {
      "image/png": "[encoded data removed]",
      "text/plain": [
       "<Figure size 432x288 with 1 Axes>"
      ]
     },
     "metadata": {
      "needs_background": "light"
     },
     "output_type": "display_data"
    }
   ],
   "source": [
    "# How does the number of possible combinations of the 8 features vary with k?\n",
    "# Lets do a quick plot to find out!\n",
    "\n",
    "from scipy.special import factorial\n",
    "\n",
    "n = 8\n",
    "k = np.arange(1, n+1)\n",
    "y = factorial(n) / (factorial(k)*factorial(n-k))\n",
    "\n",
    "ax = sns.lineplot(x=k, y=y)\n",
    "plt.xlabel('k')\n",
    "plt.ylabel('combinations');"
   ]
  },
  {
   "cell_type": "markdown",
   "metadata": {},
   "source": [
    "The plot above shows that there up to ~70 possible combinations of the predictors without repetition for some values of k when p = 8\n",
    "\n",
    "The objective is provide comparison of the $R^2$ statistic for all combinations of 8 predictors."
   ]
  },
  {
   "cell_type": "code",
   "execution_count": 169,
   "metadata": {},
   "outputs": [],
   "source": [
    "# Pick subset of predictors \n",
    "X = data.drop(data[['ermsoft', \"rmsoft\", \"rsandp\", \"inflation\", \"term\"]], axis=1)\n",
    "y = data['ermsoft']"
   ]
  },
  {
   "cell_type": "code",
   "execution_count": 170,
   "metadata": {},
   "outputs": [
    {
     "name": "stdout",
     "output_type": "stream",
     "text": [
      "Progess: k = 1, done\n",
      "Progess: k = 2, done\n",
      "Progess: k = 3, done\n",
      "Progess: k = 4, done\n",
      "Progess: k = 5, done\n",
      "Progess: k = 6, done\n",
      "Progess: k = 7, done\n",
      "Progess: k = 8, done\n"
     ]
    }
   ],
   "source": [
    "# get all model results\n",
    "model_subsets = []\n",
    "for k in range(len(X.columns)):\n",
    "    k=k+1\n",
    "    subset = get_models(k, X, y)\n",
    "    model_subsets += [subset]\n",
    "    print('Progess: k = {}, done'.format(k))"
   ]
  },
  {
   "cell_type": "code",
   "execution_count": 171,
   "metadata": {},
   "outputs": [
    {
     "data": {
      "image/png": "[encoded data removed]",
      "text/plain": [
       "<Figure size 432x288 with 1 Axes>"
      ]
     },
     "metadata": {
      "needs_background": "light"
     },
     "output_type": "display_data"
    },
    {
     "data": {
      "image/png": "[encoded data removed]",
      "text/plain": [
       "<Figure size 432x288 with 1 Axes>"
      ]
     },
     "metadata": {
      "needs_background": "light"
     },
     "output_type": "display_data"
    },
    {
     "data": {
      "image/png": "[encoded data removed]",
      "text/plain": [
       "<Figure size 432x288 with 1 Axes>"
      ]
     },
     "metadata": {
      "needs_background": "light"
     },
     "output_type": "display_data"
    }
   ],
   "source": [
    "# Get best rss score for each subset\n",
    "rss   = [min_rss(m)[1].ssr for m in model_subsets]\n",
    "\n",
    "# Get best r-squared score for each subset\n",
    "adjr2 = [max_adjr2(m)[1].rsquared_adj for m in model_subsets]\n",
    "k     = np.arange(1, len(rss)+1)\n",
    "\n",
    "\n",
    "# Get best BIC\n",
    "def min_bic(statsmodels):\n",
    "    \"\"\"Return model with lowest R-squared\"\"\"\n",
    "    return sorted(statsmodels, reverse=False, key=lambda tup: tup[1].bic)[0]\n",
    "\n",
    "bic = [min_bic(m)[1].bic for m in model_subsets]\n",
    "\n",
    "\n",
    "ax = sns.lineplot(x=k, y=rss)\n",
    "plt.xlabel('k')\n",
    "plt.ylabel('rss')\n",
    "plt.show()\n",
    "\n",
    "sns.lineplot(x=k, y=adjr2)\n",
    "plt.xlabel('k')\n",
    "plt.ylabel('$R^2$')\n",
    "plt.show()\n",
    "\n",
    "sns.lineplot(x=k, y=bic)\n",
    "plt.xlabel('k')\n",
    "plt.ylabel('BIC')\n",
    "plt.show()"
   ]
  },
  {
   "cell_type": "markdown",
   "metadata": {},
   "source": [
    "The stats above seem to confer that a model with around 4 predictors is best. But has each method chosen the same or similar models?"
   ]
  },
  {
   "cell_type": "code",
   "execution_count": 172,
   "metadata": {},
   "outputs": [
    {
     "name": "stdout",
     "output_type": "stream",
     "text": [
      "['dinflation', 'mustb3m', 'rterm', 'ersandp']\n"
     ]
    }
   ],
   "source": [
    "best_subset_4 = list(min_rss(model_subsets[3])[1].params.index)[1:]\n",
    "print(best_subset_4)"
   ]
  },
  {
   "cell_type": "code",
   "execution_count": 97,
   "metadata": {},
   "outputs": [
    {
     "data": {
      "text/plain": [
       "['dinflation', 'mustb3m', 'rterm', 'ersandp']"
      ]
     },
     "execution_count": 97,
     "metadata": {},
     "output_type": "execute_result"
    }
   ],
   "source": [
    "list(max_adjr2(model_subsets[3])[1].params.index)[1:]"
   ]
  },
  {
   "cell_type": "code",
   "execution_count": 98,
   "metadata": {},
   "outputs": [
    {
     "data": {
      "text/plain": [
       "['dinflation', 'mustb3m', 'rterm', 'ersandp']"
      ]
     },
     "execution_count": 98,
     "metadata": {},
     "output_type": "execute_result"
    }
   ],
   "source": [
    "list(min_bic(model_subsets[3])[1].params.index)[1:]"
   ]
  },
  {
   "cell_type": "markdown",
   "metadata": {},
   "source": [
    "All three statisticis yield the same model for the subset with 4 predictors. This is expected for RSS and R-squared stats because they are related."
   ]
  },
  {
   "cell_type": "markdown",
   "metadata": {},
   "source": [
    "### Forward and Backward Stepwise Selection"
   ]
  },
  {
   "cell_type": "code",
   "execution_count": 176,
   "metadata": {},
   "outputs": [],
   "source": [
    "def scale(df):\n",
    "    \"\"\"Xi = Xi - mu(Xi) / σ(Xi)\"\"\"\n",
    "    return (df-df.mean())/(df.std())\n",
    "\n",
    "\n",
    "def forward_stepwise(X, y, results=[(0, [])]):\n",
    "    \"\"\"Perform forward stepwise variable selection as described in\n",
    "    An Introductions to Statistical Learning (p.207)\n",
    "    Returns pandas dataframe object  with results for each step\"\"\"\n",
    "    # List predictors that havent's been used so far\n",
    "    p_all    = list(X.columns)\n",
    "    p_used   = results[-1][1]\n",
    "    p_unused = [p for p in p_all if p not in p_used]\n",
    "    \n",
    "    # Job done, exit recursion\n",
    "    if not p_unused:\n",
    "        rss   = [r[0] for r in results]\n",
    "        preds = [r[1] for r in results]\n",
    "        return pd.DataFrame({'rss': rss, 'predictors': preds}).drop(0).reset_index()\n",
    "    \n",
    "    # Get rss score for each possible additional predictor\n",
    "    r = []\n",
    "    for p in p_unused:\n",
    "        f     = 'ermsoft ~ {}'.format('+'.join([p]+p_used))\n",
    "        # Fit model\n",
    "        model = smf.ols(formula=f, data=pd.concat([X, y], axis=1)).fit()\n",
    "        r     += [(model.ssr, [p]+p_used)]\n",
    "    \n",
    "    # Choose predictor which yields lowest rss\n",
    "    min_rss     = sorted(r, key=lambda tup: tup[0])[0]   \n",
    "    new_results = results + [min_rss]\n",
    "    # Recursive call to self\n",
    "    return forward_stepwise(X, y, new_results)\n",
    "\n",
    "\n",
    "def backward_stepwise(X, y, results=[]):\n",
    "    \"\"\"Returns pandas dataframe object  with results for each step\"\"\"\n",
    "    # List predictors that havent's been used so far\n",
    "    p_all    = list(X.columns)\n",
    "\n",
    "    # Check if we're starting out here\n",
    "    if not results:\n",
    "        # Fit model with all features\n",
    "        f     = 'ermsoft ~ {}'.format('+'.join(p_all))\n",
    "        model = smf.ols(formula=f, data=pd.concat([X, y], axis=1)).fit()\n",
    "        # Begin backward stepwise recursion\n",
    "        return backward_stepwise(X, y, [(model.ssr, p_all)])\n",
    "    else:\n",
    "        p_used = results[-1][1]\n",
    "    \n",
    "    # Job done, exit recursion\n",
    "    if len(p_used) == 1:\n",
    "        rss   = [r[0] for r in results]\n",
    "        preds = [r[1] for r in results]\n",
    "        return pd.DataFrame({'rss': rss, 'predictors': preds})    \n",
    "    \n",
    "    # Get rss score for each possible removed predictor\n",
    "    r = []\n",
    "    for p in p_used:\n",
    "        p_test = [i for i in p_used if i != p]\n",
    "        f     = 'ermsoft ~ {}'.format('+'.join(p_test))\n",
    "        # Fit model\n",
    "        model = smf.ols(formula=f, data=pd.concat([X, y], axis=1)).fit()\n",
    "        r     += [(model.ssr, p_test)]\n",
    "    \n",
    "    # Choose removal of predictor which yields lowest rss\n",
    "    min_rss     = sorted(r, key=lambda tup: tup[0])[0]   \n",
    "    new_results = results + [min_rss]\n",
    "    return backward_stepwise(X, y, new_results)"
   ]
  },
  {
   "cell_type": "code",
   "execution_count": 177,
   "metadata": {},
   "outputs": [
    {
     "data": {
      "text/html": [
       "<h4>Forward Stepwise Selection</h4>"
      ],
      "text/plain": [
       "<IPython.core.display.HTML object>"
      ]
     },
     "metadata": {},
     "output_type": "display_data"
    },
    {
     "data": {
      "text/html": [
       "<div>\n",
       "<style scoped>\n",
       "    .dataframe tbody tr th:only-of-type {\n",
       "        vertical-align: middle;\n",
       "    }\n",
       "\n",
       "    .dataframe tbody tr th {\n",
       "        vertical-align: top;\n",
       "    }\n",
       "\n",
       "    .dataframe thead th {\n",
       "        text-align: right;\n",
       "    }\n",
       "</style>\n",
       "<table border=\"1\" class=\"dataframe\">\n",
       "  <thead>\n",
       "    <tr style=\"text-align: right;\">\n",
       "      <th></th>\n",
       "      <th>index</th>\n",
       "      <th>rss</th>\n",
       "      <th>predictors</th>\n",
       "    </tr>\n",
       "  </thead>\n",
       "  <tbody>\n",
       "    <tr>\n",
       "      <th>0</th>\n",
       "      <td>1</td>\n",
       "      <td>24159.704476</td>\n",
       "      <td>[ersandp]</td>\n",
       "    </tr>\n",
       "    <tr>\n",
       "      <th>1</th>\n",
       "      <td>2</td>\n",
       "      <td>23650.388354</td>\n",
       "      <td>[dinflation, ersandp]</td>\n",
       "    </tr>\n",
       "    <tr>\n",
       "      <th>2</th>\n",
       "      <td>3</td>\n",
       "      <td>23179.991633</td>\n",
       "      <td>[rterm, dinflation, ersandp]</td>\n",
       "    </tr>\n",
       "    <tr>\n",
       "      <th>3</th>\n",
       "      <td>4</td>\n",
       "      <td>22865.956746</td>\n",
       "      <td>[mustb3m, rterm, dinflation, ersandp]</td>\n",
       "    </tr>\n",
       "    <tr>\n",
       "      <th>4</th>\n",
       "      <td>5</td>\n",
       "      <td>22826.772983</td>\n",
       "      <td>[dcredit, mustb3m, rterm, dinflation, ersandp]</td>\n",
       "    </tr>\n",
       "    <tr>\n",
       "      <th>5</th>\n",
       "      <td>6</td>\n",
       "      <td>22801.910896</td>\n",
       "      <td>[dprod, dcredit, mustb3m, rterm, dinflation, e...</td>\n",
       "    </tr>\n",
       "    <tr>\n",
       "      <th>6</th>\n",
       "      <td>7</td>\n",
       "      <td>22791.048493</td>\n",
       "      <td>[dspread, dprod, dcredit, mustb3m, rterm, dinf...</td>\n",
       "    </tr>\n",
       "    <tr>\n",
       "      <th>7</th>\n",
       "      <td>8</td>\n",
       "      <td>22790.323273</td>\n",
       "      <td>[dmoney, dspread, dprod, dcredit, mustb3m, rte...</td>\n",
       "    </tr>\n",
       "  </tbody>\n",
       "</table>\n",
       "</div>"
      ],
      "text/plain": [
       "   index           rss                                         predictors\n",
       "0      1  24159.704476                                          [ersandp]\n",
       "1      2  23650.388354                              [dinflation, ersandp]\n",
       "2      3  23179.991633                       [rterm, dinflation, ersandp]\n",
       "3      4  22865.956746              [mustb3m, rterm, dinflation, ersandp]\n",
       "4      5  22826.772983     [dcredit, mustb3m, rterm, dinflation, ersandp]\n",
       "5      6  22801.910896  [dprod, dcredit, mustb3m, rterm, dinflation, e...\n",
       "6      7  22791.048493  [dspread, dprod, dcredit, mustb3m, rterm, dinf...\n",
       "7      8  22790.323273  [dmoney, dspread, dprod, dcredit, mustb3m, rte..."
      ]
     },
     "metadata": {},
     "output_type": "display_data"
    },
    {
     "data": {
      "text/html": [
       "<h4>Backward Stepwise Selection</h4>"
      ],
      "text/plain": [
       "<IPython.core.display.HTML object>"
      ]
     },
     "metadata": {},
     "output_type": "display_data"
    },
    {
     "data": {
      "text/html": [
       "<div>\n",
       "<style scoped>\n",
       "    .dataframe tbody tr th:only-of-type {\n",
       "        vertical-align: middle;\n",
       "    }\n",
       "\n",
       "    .dataframe tbody tr th {\n",
       "        vertical-align: top;\n",
       "    }\n",
       "\n",
       "    .dataframe thead th {\n",
       "        text-align: right;\n",
       "    }\n",
       "</style>\n",
       "<table border=\"1\" class=\"dataframe\">\n",
       "  <thead>\n",
       "    <tr style=\"text-align: right;\">\n",
       "      <th></th>\n",
       "      <th>rss</th>\n",
       "      <th>predictors</th>\n",
       "    </tr>\n",
       "  </thead>\n",
       "  <tbody>\n",
       "    <tr>\n",
       "      <th>0</th>\n",
       "      <td>22790.323273</td>\n",
       "      <td>[dspread, dcredit, dprod, dmoney, dinflation, ...</td>\n",
       "    </tr>\n",
       "    <tr>\n",
       "      <th>1</th>\n",
       "      <td>22791.048493</td>\n",
       "      <td>[dspread, dcredit, dprod, dinflation, mustb3m,...</td>\n",
       "    </tr>\n",
       "    <tr>\n",
       "      <th>2</th>\n",
       "      <td>22801.910896</td>\n",
       "      <td>[dcredit, dprod, dinflation, mustb3m, rterm, e...</td>\n",
       "    </tr>\n",
       "    <tr>\n",
       "      <th>3</th>\n",
       "      <td>22826.772983</td>\n",
       "      <td>[dcredit, dinflation, mustb3m, rterm, ersandp]</td>\n",
       "    </tr>\n",
       "    <tr>\n",
       "      <th>4</th>\n",
       "      <td>22865.956746</td>\n",
       "      <td>[dinflation, mustb3m, rterm, ersandp]</td>\n",
       "    </tr>\n",
       "    <tr>\n",
       "      <th>5</th>\n",
       "      <td>23179.991633</td>\n",
       "      <td>[dinflation, rterm, ersandp]</td>\n",
       "    </tr>\n",
       "    <tr>\n",
       "      <th>6</th>\n",
       "      <td>23650.388354</td>\n",
       "      <td>[dinflation, ersandp]</td>\n",
       "    </tr>\n",
       "    <tr>\n",
       "      <th>7</th>\n",
       "      <td>24159.704476</td>\n",
       "      <td>[ersandp]</td>\n",
       "    </tr>\n",
       "  </tbody>\n",
       "</table>\n",
       "</div>"
      ],
      "text/plain": [
       "            rss                                         predictors\n",
       "0  22790.323273  [dspread, dcredit, dprod, dmoney, dinflation, ...\n",
       "1  22791.048493  [dspread, dcredit, dprod, dinflation, mustb3m,...\n",
       "2  22801.910896  [dcredit, dprod, dinflation, mustb3m, rterm, e...\n",
       "3  22826.772983     [dcredit, dinflation, mustb3m, rterm, ersandp]\n",
       "4  22865.956746              [dinflation, mustb3m, rterm, ersandp]\n",
       "5  23179.991633                       [dinflation, rterm, ersandp]\n",
       "6  23650.388354                              [dinflation, ersandp]\n",
       "7  24159.704476                                          [ersandp]"
      ]
     },
     "metadata": {},
     "output_type": "display_data"
    }
   ],
   "source": [
    "X = scale(X)\n",
    "\n",
    "forward_stepwise_results = forward_stepwise(X, y)\n",
    "display(HTML('<h4>Forward Stepwise Selection</h4>'))\n",
    "display(forward_stepwise_results)\n",
    "\n",
    "backward_stepwise_results = backward_stepwise(X, y)\n",
    "display(HTML('<h4>Backward Stepwise Selection</h4>'))\n",
    "display(backward_stepwise_results)"
   ]
  },
  {
   "cell_type": "code",
   "execution_count": 179,
   "metadata": {},
   "outputs": [
    {
     "data": {
      "text/html": [
       "<h4>Comparison of methods for subset with 4 predictors</h4>"
      ],
      "text/plain": [
       "<IPython.core.display.HTML object>"
      ]
     },
     "metadata": {},
     "output_type": "display_data"
    },
    {
     "name": "stdout",
     "output_type": "stream",
     "text": [
      "Best Subset Selection       : ['dinflation', 'ersandp', 'mustb3m', 'rterm']\n",
      "Forward Stepwise Selection  : ['dinflation', 'ersandp', 'mustb3m', 'rterm']\n",
      "Backward Stepwise Selection : ['dinflation', 'ersandp', 'mustb3m', 'rterm']\n"
     ]
    }
   ],
   "source": [
    "display(HTML('<h4>Comparison of methods for subset with 4 predictors</h4>'))\n",
    "print('Best Subset Selection       : {}'.format(sorted(best_subset_4)))\n",
    "print('Forward Stepwise Selection  : {}'.format(sorted(forward_stepwise_results.loc[3]['predictors'])))\n",
    "print('Backward Stepwise Selection : {}'.format(sorted(backward_stepwise_results.loc[4]['predictors'])))"
   ]
  },
  {
   "cell_type": "markdown",
   "metadata": {},
   "source": [
    "The above results show that all three methods choose the same 4 predictors."
   ]
  },
  {
   "cell_type": "markdown",
   "metadata": {},
   "source": [
    "### Choosing Among Models Using the Validation Set Approach and Cross-Validation"
   ]
  },
  {
   "cell_type": "code",
   "execution_count": 180,
   "metadata": {},
   "outputs": [],
   "source": [
    "def best_subset_rss(X, y):\n",
    "    \"\"\"Perform best subset selection using Residual Sum of Squares to\n",
    "    select best model in each subset.\n",
    "    Notes: highly computationally expensive for large number of features in  X\n",
    "    Maxes out my laptop for p > 14\"\"\"\n",
    "    # get all model results\n",
    "    model_subsets = []\n",
    "    for k in range(len(X.columns)):\n",
    "        k=k+1\n",
    "        subset = get_models(k, X, y)\n",
    "        model_subsets += [subset]\n",
    "        print('Best subset selected: k = {}/{}, done'.format(k, len(X.columns)))\n",
    "    # Get best rss score for each subset\n",
    "    return [min_rss(m) for m in model_subsets]\n",
    "\n",
    "def mse(y_hat, y):\n",
    "    \"\"\"Calculate Mean Squared Error\"\"\"\n",
    "    return np.sum(np.square(y_hat - y)) / y.size"
   ]
  },
  {
   "cell_type": "code",
   "execution_count": null,
   "metadata": {},
   "outputs": [],
   "source": []
  },
  {
   "cell_type": "code",
   "execution_count": 181,
   "metadata": {},
   "outputs": [],
   "source": [
    "# Create index for 50% holdout set\n",
    "np.random.seed(1)\n",
    "train = np.random.rand(len(data)) < 0.5\n",
    "\n",
    "response   = 'ermsoft'\n",
    "\n",
    "# Assign train and test sets\n",
    "X_train = data[train][['dspread', 'dcredit', 'dprod', 'dmoney','dinflation', 'mustb3m', 'rterm', 'ersandp']]\n",
    "X_test  = data[~train][['dspread', 'dcredit', 'dprod', 'dmoney','dinflation', 'mustb3m', 'rterm', 'ersandp']]\n",
    "y_train = data[train][response]\n",
    "y_test  = data[~train][response]"
   ]
  },
  {
   "cell_type": "code",
   "execution_count": 182,
   "metadata": {},
   "outputs": [
    {
     "name": "stdout",
     "output_type": "stream",
     "text": [
      "Best subset selected: k = 1/8, done\n",
      "Best subset selected: k = 2/8, done\n",
      "Best subset selected: k = 3/8, done\n",
      "Best subset selected: k = 4/8, done\n",
      "Best subset selected: k = 5/8, done\n",
      "Best subset selected: k = 6/8, done\n",
      "Best subset selected: k = 7/8, done\n",
      "Best subset selected: k = 8/8, done\n"
     ]
    }
   ],
   "source": [
    "# Perform best_subset selection\n",
    "best_subsets = best_subset_rss(X_train, y_train)"
   ]
  },
  {
   "cell_type": "code",
   "execution_count": 103,
   "metadata": {},
   "outputs": [
    {
     "data": {
      "text/html": [
       "<div>\n",
       "<style scoped>\n",
       "    .dataframe tbody tr th:only-of-type {\n",
       "        vertical-align: middle;\n",
       "    }\n",
       "\n",
       "    .dataframe tbody tr th {\n",
       "        vertical-align: top;\n",
       "    }\n",
       "\n",
       "    .dataframe thead th {\n",
       "        text-align: right;\n",
       "    }\n",
       "</style>\n",
       "<table border=\"1\" class=\"dataframe\">\n",
       "  <thead>\n",
       "    <tr style=\"text-align: right;\">\n",
       "      <th></th>\n",
       "      <th>predictors</th>\n",
       "      <th>MSE</th>\n",
       "    </tr>\n",
       "  </thead>\n",
       "  <tbody>\n",
       "    <tr>\n",
       "      <th>0</th>\n",
       "      <td>1</td>\n",
       "      <td>63.729048</td>\n",
       "    </tr>\n",
       "    <tr>\n",
       "      <th>1</th>\n",
       "      <td>2</td>\n",
       "      <td>63.302836</td>\n",
       "    </tr>\n",
       "    <tr>\n",
       "      <th>2</th>\n",
       "      <td>3</td>\n",
       "      <td>62.143353</td>\n",
       "    </tr>\n",
       "    <tr>\n",
       "      <th>3</th>\n",
       "      <td>4</td>\n",
       "      <td>62.119221</td>\n",
       "    </tr>\n",
       "    <tr>\n",
       "      <th>4</th>\n",
       "      <td>5</td>\n",
       "      <td>62.434003</td>\n",
       "    </tr>\n",
       "    <tr>\n",
       "      <th>5</th>\n",
       "      <td>6</td>\n",
       "      <td>63.096877</td>\n",
       "    </tr>\n",
       "    <tr>\n",
       "      <th>6</th>\n",
       "      <td>7</td>\n",
       "      <td>61.449342</td>\n",
       "    </tr>\n",
       "    <tr>\n",
       "      <th>7</th>\n",
       "      <td>8</td>\n",
       "      <td>61.468369</td>\n",
       "    </tr>\n",
       "  </tbody>\n",
       "</table>\n",
       "</div>"
      ],
      "text/plain": [
       "   predictors        MSE\n",
       "0           1  63.729048\n",
       "1           2  63.302836\n",
       "2           3  62.143353\n",
       "3           4  62.119221\n",
       "4           5  62.434003\n",
       "5           6  63.096877\n",
       "6           7  61.449342\n",
       "7           8  61.468369"
      ]
     },
     "metadata": {},
     "output_type": "display_data"
    },
    {
     "data": {
      "image/png": "[encoded data removed]",
      "text/plain": [
       "<Figure size 432x288 with 1 Axes>"
      ]
     },
     "metadata": {
      "needs_background": "light"
     },
     "output_type": "display_data"
    }
   ],
   "source": [
    "# Using 50% hold out set\n",
    "# Measure mean squared error for each model selected by best subset selection\n",
    "MSEs = []\n",
    "for m in best_subsets:\n",
    "    model = m[1]\n",
    "    y_hat = model.predict(X_test)\n",
    "    r     = mse(y_hat, y_test)\n",
    "    MSEs += [r]\n",
    "\n",
    "results = pd.DataFrame({'predictors': np.arange(1, 9), 'MSE': MSEs})\n",
    "display(results)\n",
    "sns.lineplot(x='predictors', y='MSE', data=results);"
   ]
  },
  {
   "cell_type": "markdown",
   "metadata": {},
   "source": [
    "Above we performed best subset selection up to 10 predictors using the training set createad from a 50% hold-out set. We then use the test set to measure the MSE for the selected model in each subset of p predictors. \n",
    "\n",
    "We observe the lowest MSE for the model with 7 predictors."
   ]
  },
  {
   "cell_type": "code",
   "execution_count": 183,
   "metadata": {},
   "outputs": [
    {
     "data": {
      "text/plain": [
       "'ermsoft ~ dspread + dcredit + dprod + dinflation + mustb3m + rterm + ersandp'"
      ]
     },
     "execution_count": 183,
     "metadata": {},
     "output_type": "execute_result"
    }
   ],
   "source": [
    "# Which 7 predictors did best subset selection choose based on the TRAINING set?\n",
    "best_subsets[6][0]"
   ]
  },
  {
   "cell_type": "code",
   "execution_count": 184,
   "metadata": {},
   "outputs": [
    {
     "name": "stdout",
     "output_type": "stream",
     "text": [
      "Best subset selected: k = 1/8, done\n",
      "Best subset selected: k = 2/8, done\n",
      "Best subset selected: k = 3/8, done\n",
      "Best subset selected: k = 4/8, done\n",
      "Best subset selected: k = 5/8, done\n",
      "Best subset selected: k = 6/8, done\n",
      "Best subset selected: k = 7/8, done\n",
      "Best subset selected: k = 8/8, done\n"
     ]
    },
    {
     "data": {
      "text/plain": [
       "'ermsoft ~ dspread + dcredit + dprod + dinflation + mustb3m + rterm + ersandp'"
      ]
     },
     "execution_count": 184,
     "metadata": {},
     "output_type": "execute_result"
    }
   ],
   "source": [
    "# Which 7 predictors does best subset selection choose based on the FULL set?\n",
    "best_subsets_full = best_subset_rss(data[['dspread', 'dcredit', 'dprod', 'dmoney','dinflation', 'mustb3m', 'rterm', 'ersandp']], data['ermsoft'])\n",
    "best_subsets_full[6][0]"
   ]
  },
  {
   "cell_type": "markdown",
   "metadata": {},
   "source": [
    "Both models are the same."
   ]
  },
  {
   "cell_type": "code",
   "execution_count": 185,
   "metadata": {},
   "outputs": [],
   "source": [
    "def cross_val(formula, X, y, k):\n",
    "    \"\"\"Perform k-fold cross validation to return mean MSE score\n",
    "    Expects formula as Patsy formula\"\"\"\n",
    "    # Split dataset into k-folds\n",
    "    # Note: np.array_split doesn't raise excpetion is folds are unequal in size\n",
    "    X_folds = np.array_split(X, k)\n",
    "    y_folds = np.array_split(y, k)\n",
    "    \n",
    "    MSEs = []\n",
    "    for f in np.arange(len(X_folds)):\n",
    "        # Create training and test sets\n",
    "        X_test  = X_folds[f]\n",
    "        y_test  = y_folds[f]\n",
    "        X_train = X.drop(X_folds[f].index)\n",
    "        y_train = y.drop(y_folds[f].index)\n",
    "        \n",
    "        # Fit model\n",
    "        model = smf.ols(formula=formula, data=pd.concat([X_train, y_train], axis=1)).fit()\n",
    "        \n",
    "        # Measure MSE\n",
    "        y_hat = model.predict(X_test)\n",
    "        MSEs += [mse(y_hat, y_test)]\n",
    "    return (MSEs, formula)"
   ]
  },
  {
   "cell_type": "code",
   "execution_count": 186,
   "metadata": {},
   "outputs": [
    {
     "name": "stdout",
     "output_type": "stream",
     "text": [
      "Best subset selected: k = 1/8, done\n",
      "Best subset selected: k = 2/8, done\n",
      "Best subset selected: k = 3/8, done\n",
      "Best subset selected: k = 4/8, done\n",
      "Best subset selected: k = 5/8, done\n",
      "Best subset selected: k = 6/8, done\n",
      "Best subset selected: k = 7/8, done\n",
      "Best subset selected: k = 8/8, done\n"
     ]
    }
   ],
   "source": [
    "# Get best subsets of predictors for full dataset\n",
    "\n",
    "best_subsets_full = best_subset_rss(X, y)"
   ]
  },
  {
   "cell_type": "code",
   "execution_count": 187,
   "metadata": {},
   "outputs": [
    {
     "data": {
      "text/html": [
       "<div>\n",
       "<style scoped>\n",
       "    .dataframe tbody tr th:only-of-type {\n",
       "        vertical-align: middle;\n",
       "    }\n",
       "\n",
       "    .dataframe tbody tr th {\n",
       "        vertical-align: top;\n",
       "    }\n",
       "\n",
       "    .dataframe thead th {\n",
       "        text-align: right;\n",
       "    }\n",
       "</style>\n",
       "<table border=\"1\" class=\"dataframe\">\n",
       "  <thead>\n",
       "    <tr style=\"text-align: right;\">\n",
       "      <th></th>\n",
       "      <th>predictors</th>\n",
       "      <th>MSE_mean</th>\n",
       "      <th>MSE_folds</th>\n",
       "      <th>Model</th>\n",
       "    </tr>\n",
       "  </thead>\n",
       "  <tbody>\n",
       "    <tr>\n",
       "      <th>0</th>\n",
       "      <td>1</td>\n",
       "      <td>63.717523</td>\n",
       "      <td>[134.65920106142354, 76.97286126016476, 53.285...</td>\n",
       "      <td>ermsoft ~ ersandp</td>\n",
       "    </tr>\n",
       "    <tr>\n",
       "      <th>1</th>\n",
       "      <td>2</td>\n",
       "      <td>62.898537</td>\n",
       "      <td>[126.3899281554123, 74.42090716147204, 52.5294...</td>\n",
       "      <td>ermsoft ~ dinflation + ersandp</td>\n",
       "    </tr>\n",
       "    <tr>\n",
       "      <th>2</th>\n",
       "      <td>3</td>\n",
       "      <td>62.200584</td>\n",
       "      <td>[123.47000528573811, 70.02566006778459, 51.954...</td>\n",
       "      <td>ermsoft ~ dinflation + rterm + ersandp</td>\n",
       "    </tr>\n",
       "    <tr>\n",
       "      <th>3</th>\n",
       "      <td>4</td>\n",
       "      <td>61.502725</td>\n",
       "      <td>[122.57229995063736, 65.28271959572727, 51.526...</td>\n",
       "      <td>ermsoft ~ dinflation + mustb3m + rterm + ersandp</td>\n",
       "    </tr>\n",
       "    <tr>\n",
       "      <th>4</th>\n",
       "      <td>5</td>\n",
       "      <td>61.496333</td>\n",
       "      <td>[122.12426131822511, 64.69163375900831, 51.227...</td>\n",
       "      <td>ermsoft ~ dcredit + dinflation + mustb3m + rte...</td>\n",
       "    </tr>\n",
       "    <tr>\n",
       "      <th>5</th>\n",
       "      <td>6</td>\n",
       "      <td>61.564914</td>\n",
       "      <td>[122.37276679405389, 64.41763542420439, 51.463...</td>\n",
       "      <td>ermsoft ~ dcredit + dprod + dinflation + mustb...</td>\n",
       "    </tr>\n",
       "    <tr>\n",
       "      <th>6</th>\n",
       "      <td>7</td>\n",
       "      <td>61.579962</td>\n",
       "      <td>[122.30690300176789, 64.28844254764996, 51.522...</td>\n",
       "      <td>ermsoft ~ dspread + dcredit + dprod + dinflati...</td>\n",
       "    </tr>\n",
       "    <tr>\n",
       "      <th>7</th>\n",
       "      <td>8</td>\n",
       "      <td>61.608220</td>\n",
       "      <td>[122.3375290511312, 64.3746238201491, 51.55009...</td>\n",
       "      <td>ermsoft ~ dspread + dcredit + dprod + dmoney +...</td>\n",
       "    </tr>\n",
       "  </tbody>\n",
       "</table>\n",
       "</div>"
      ],
      "text/plain": [
       "   predictors   MSE_mean                                          MSE_folds  \\\n",
       "0           1  63.717523  [134.65920106142354, 76.97286126016476, 53.285...   \n",
       "1           2  62.898537  [126.3899281554123, 74.42090716147204, 52.5294...   \n",
       "2           3  62.200584  [123.47000528573811, 70.02566006778459, 51.954...   \n",
       "3           4  61.502725  [122.57229995063736, 65.28271959572727, 51.526...   \n",
       "4           5  61.496333  [122.12426131822511, 64.69163375900831, 51.227...   \n",
       "5           6  61.564914  [122.37276679405389, 64.41763542420439, 51.463...   \n",
       "6           7  61.579962  [122.30690300176789, 64.28844254764996, 51.522...   \n",
       "7           8  61.608220  [122.3375290511312, 64.3746238201491, 51.55009...   \n",
       "\n",
       "                                               Model  \n",
       "0                                  ermsoft ~ ersandp  \n",
       "1                     ermsoft ~ dinflation + ersandp  \n",
       "2             ermsoft ~ dinflation + rterm + ersandp  \n",
       "3   ermsoft ~ dinflation + mustb3m + rterm + ersandp  \n",
       "4  ermsoft ~ dcredit + dinflation + mustb3m + rte...  \n",
       "5  ermsoft ~ dcredit + dprod + dinflation + mustb...  \n",
       "6  ermsoft ~ dspread + dcredit + dprod + dinflati...  \n",
       "7  ermsoft ~ dspread + dcredit + dprod + dmoney +...  "
      ]
     },
     "metadata": {},
     "output_type": "display_data"
    }
   ],
   "source": [
    "# Perform cross validation for each subset of predictors\n",
    "results = []\n",
    "for sub in best_subsets_full:\n",
    "    results += [cross_val(sub[0], X, y, 10)]\n",
    "\n",
    "results_a_df = pd.DataFrame({'predictors': list(np.arange(1, 9)),\n",
    "                           'MSE_mean': [np.mean(i[0]) for i in results],\n",
    "                           'MSE_folds': [i[0] for i in results],\n",
    "                           'Model': [i[1] for i in results]})\n",
    "display(results_a_df)\n"
   ]
  },
  {
   "cell_type": "code",
   "execution_count": 111,
   "metadata": {},
   "outputs": [
    {
     "data": {
      "image/png": "[encoded data removed]",
      "text/plain": [
       "<Figure size 432x288 with 1 Axes>"
      ]
     },
     "metadata": {
      "needs_background": "light"
     },
     "output_type": "display_data"
    }
   ],
   "source": [
    "sns.lineplot(x='predictors', y='MSE_mean', data=results_a_df);"
   ]
  },
  {
   "cell_type": "code",
   "execution_count": 188,
   "metadata": {},
   "outputs": [
    {
     "data": {
      "text/html": [
       "<div>\n",
       "<style scoped>\n",
       "    .dataframe tbody tr th:only-of-type {\n",
       "        vertical-align: middle;\n",
       "    }\n",
       "\n",
       "    .dataframe tbody tr th {\n",
       "        vertical-align: top;\n",
       "    }\n",
       "\n",
       "    .dataframe thead th {\n",
       "        text-align: right;\n",
       "    }\n",
       "</style>\n",
       "<table border=\"1\" class=\"dataframe\">\n",
       "  <thead>\n",
       "    <tr style=\"text-align: right;\">\n",
       "      <th></th>\n",
       "      <th>predictors</th>\n",
       "      <th>MSE_mean</th>\n",
       "      <th>MSE_folds</th>\n",
       "      <th>Model</th>\n",
       "    </tr>\n",
       "  </thead>\n",
       "  <tbody>\n",
       "    <tr>\n",
       "      <th>4</th>\n",
       "      <td>5</td>\n",
       "      <td>61.496333</td>\n",
       "      <td>[122.12426131822511, 64.69163375900831, 51.227...</td>\n",
       "      <td>ermsoft ~ dcredit + dinflation + mustb3m + rte...</td>\n",
       "    </tr>\n",
       "  </tbody>\n",
       "</table>\n",
       "</div>"
      ],
      "text/plain": [
       "   predictors   MSE_mean                                          MSE_folds  \\\n",
       "4           5  61.496333  [122.12426131822511, 64.69163375900831, 51.227...   \n",
       "\n",
       "                                               Model  \n",
       "4  ermsoft ~ dcredit + dinflation + mustb3m + rte...  "
      ]
     },
     "metadata": {},
     "output_type": "display_data"
    },
    {
     "data": {
      "text/plain": [
       "'ermsoft ~ dcredit + dinflation + mustb3m + rterm + ersandp'"
      ]
     },
     "execution_count": 188,
     "metadata": {},
     "output_type": "execute_result"
    }
   ],
   "source": [
    "best_subset_choice = results_a_df[results_a_df['MSE_mean'] == results_a_df['MSE_mean'].min()]\n",
    "display(best_subset_choice)\n",
    "\n",
    "best_subset_choice['Model'].iloc[0]"
   ]
  },
  {
   "cell_type": "markdown",
   "metadata": {},
   "source": [
    "We see that 10-fold cross validation selects an 5 variable model. The estimated test MSE is 61.49."
   ]
  },
  {
   "cell_type": "markdown",
   "metadata": {},
   "source": [
    "### Can we get a better model by Backwards Stepwise on all features?"
   ]
  },
  {
   "cell_type": "code",
   "execution_count": null,
   "metadata": {},
   "outputs": [],
   "source": []
  },
  {
   "cell_type": "code",
   "execution_count": 189,
   "metadata": {},
   "outputs": [
    {
     "data": {
      "text/html": [
       "<div>\n",
       "<style scoped>\n",
       "    .dataframe tbody tr th:only-of-type {\n",
       "        vertical-align: middle;\n",
       "    }\n",
       "\n",
       "    .dataframe tbody tr th {\n",
       "        vertical-align: top;\n",
       "    }\n",
       "\n",
       "    .dataframe thead th {\n",
       "        text-align: right;\n",
       "    }\n",
       "</style>\n",
       "<table border=\"1\" class=\"dataframe\">\n",
       "  <thead>\n",
       "    <tr style=\"text-align: right;\">\n",
       "      <th></th>\n",
       "      <th>rss</th>\n",
       "      <th>predictors</th>\n",
       "      <th>predictor_count</th>\n",
       "    </tr>\n",
       "  </thead>\n",
       "  <tbody>\n",
       "    <tr>\n",
       "      <th>0</th>\n",
       "      <td>22790.323273</td>\n",
       "      <td>[dspread, dcredit, dprod, dmoney, dinflation, ...</td>\n",
       "      <td>1</td>\n",
       "    </tr>\n",
       "    <tr>\n",
       "      <th>1</th>\n",
       "      <td>22791.048493</td>\n",
       "      <td>[dspread, dcredit, dprod, dinflation, mustb3m,...</td>\n",
       "      <td>2</td>\n",
       "    </tr>\n",
       "    <tr>\n",
       "      <th>2</th>\n",
       "      <td>22801.910896</td>\n",
       "      <td>[dcredit, dprod, dinflation, mustb3m, rterm, e...</td>\n",
       "      <td>3</td>\n",
       "    </tr>\n",
       "    <tr>\n",
       "      <th>3</th>\n",
       "      <td>22826.772983</td>\n",
       "      <td>[dcredit, dinflation, mustb3m, rterm, ersandp]</td>\n",
       "      <td>4</td>\n",
       "    </tr>\n",
       "    <tr>\n",
       "      <th>4</th>\n",
       "      <td>22865.956746</td>\n",
       "      <td>[dinflation, mustb3m, rterm, ersandp]</td>\n",
       "      <td>5</td>\n",
       "    </tr>\n",
       "    <tr>\n",
       "      <th>5</th>\n",
       "      <td>23179.991633</td>\n",
       "      <td>[dinflation, rterm, ersandp]</td>\n",
       "      <td>6</td>\n",
       "    </tr>\n",
       "    <tr>\n",
       "      <th>6</th>\n",
       "      <td>23650.388354</td>\n",
       "      <td>[dinflation, ersandp]</td>\n",
       "      <td>7</td>\n",
       "    </tr>\n",
       "    <tr>\n",
       "      <th>7</th>\n",
       "      <td>24159.704476</td>\n",
       "      <td>[ersandp]</td>\n",
       "      <td>8</td>\n",
       "    </tr>\n",
       "  </tbody>\n",
       "</table>\n",
       "</div>"
      ],
      "text/plain": [
       "            rss                                         predictors  \\\n",
       "0  22790.323273  [dspread, dcredit, dprod, dmoney, dinflation, ...   \n",
       "1  22791.048493  [dspread, dcredit, dprod, dinflation, mustb3m,...   \n",
       "2  22801.910896  [dcredit, dprod, dinflation, mustb3m, rterm, e...   \n",
       "3  22826.772983     [dcredit, dinflation, mustb3m, rterm, ersandp]   \n",
       "4  22865.956746              [dinflation, mustb3m, rterm, ersandp]   \n",
       "5  23179.991633                       [dinflation, rterm, ersandp]   \n",
       "6  23650.388354                              [dinflation, ersandp]   \n",
       "7  24159.704476                                          [ersandp]   \n",
       "\n",
       "   predictor_count  \n",
       "0                1  \n",
       "1                2  \n",
       "2                3  \n",
       "3                4  \n",
       "4                5  \n",
       "5                6  \n",
       "6                7  \n",
       "7                8  "
      ]
     },
     "metadata": {},
     "output_type": "display_data"
    },
    {
     "data": {
      "image/png": "[encoded data removed]",
      "text/plain": [
       "<Figure size 432x288 with 1 Axes>"
      ]
     },
     "metadata": {
      "needs_background": "light"
     },
     "output_type": "display_data"
    }
   ],
   "source": [
    "backward_stepwise_subsets = backward_stepwise(X, y)\n",
    "backward_stepwise_subsets['predictor_count'] = np.arange(1, 9)\n",
    "display(backward_stepwise_subsets)\n",
    "\n",
    "sns.lineplot(x='predictor_count', y='rss', data=backward_stepwise_subsets);"
   ]
  },
  {
   "cell_type": "code",
   "execution_count": 190,
   "metadata": {},
   "outputs": [
    {
     "data": {
      "text/html": [
       "<div>\n",
       "<style scoped>\n",
       "    .dataframe tbody tr th:only-of-type {\n",
       "        vertical-align: middle;\n",
       "    }\n",
       "\n",
       "    .dataframe tbody tr th {\n",
       "        vertical-align: top;\n",
       "    }\n",
       "\n",
       "    .dataframe thead th {\n",
       "        text-align: right;\n",
       "    }\n",
       "</style>\n",
       "<table border=\"1\" class=\"dataframe\">\n",
       "  <thead>\n",
       "    <tr style=\"text-align: right;\">\n",
       "      <th></th>\n",
       "      <th>predictors</th>\n",
       "      <th>MSE_mean</th>\n",
       "      <th>MSE_folds</th>\n",
       "      <th>Model</th>\n",
       "    </tr>\n",
       "  </thead>\n",
       "  <tbody>\n",
       "    <tr>\n",
       "      <th>0</th>\n",
       "      <td>1</td>\n",
       "      <td>61.608220</td>\n",
       "      <td>[122.3375290511312, 64.3746238201491, 51.55009...</td>\n",
       "      <td>ermsoft ~ dspread + dcredit + dprod + dmoney +...</td>\n",
       "    </tr>\n",
       "    <tr>\n",
       "      <th>1</th>\n",
       "      <td>2</td>\n",
       "      <td>61.579962</td>\n",
       "      <td>[122.30690300176789, 64.28844254764996, 51.522...</td>\n",
       "      <td>ermsoft ~ dspread + dcredit + dprod + dinflati...</td>\n",
       "    </tr>\n",
       "    <tr>\n",
       "      <th>2</th>\n",
       "      <td>3</td>\n",
       "      <td>61.564914</td>\n",
       "      <td>[122.37276679405389, 64.41763542420439, 51.463...</td>\n",
       "      <td>ermsoft ~ dcredit + dprod + dinflation + mustb...</td>\n",
       "    </tr>\n",
       "    <tr>\n",
       "      <th>3</th>\n",
       "      <td>4</td>\n",
       "      <td>61.496333</td>\n",
       "      <td>[122.12426131822511, 64.69163375900831, 51.227...</td>\n",
       "      <td>ermsoft ~ dcredit + dinflation + mustb3m + rte...</td>\n",
       "    </tr>\n",
       "    <tr>\n",
       "      <th>4</th>\n",
       "      <td>5</td>\n",
       "      <td>61.502725</td>\n",
       "      <td>[122.57229995063736, 65.28271959572727, 51.526...</td>\n",
       "      <td>ermsoft ~ dinflation + mustb3m + rterm + ersandp</td>\n",
       "    </tr>\n",
       "    <tr>\n",
       "      <th>5</th>\n",
       "      <td>6</td>\n",
       "      <td>62.200584</td>\n",
       "      <td>[123.47000528573811, 70.02566006778459, 51.954...</td>\n",
       "      <td>ermsoft ~ dinflation + rterm + ersandp</td>\n",
       "    </tr>\n",
       "    <tr>\n",
       "      <th>6</th>\n",
       "      <td>7</td>\n",
       "      <td>62.898537</td>\n",
       "      <td>[126.3899281554123, 74.42090716147204, 52.5294...</td>\n",
       "      <td>ermsoft ~ dinflation + ersandp</td>\n",
       "    </tr>\n",
       "    <tr>\n",
       "      <th>7</th>\n",
       "      <td>8</td>\n",
       "      <td>63.717523</td>\n",
       "      <td>[134.65920106142354, 76.97286126016476, 53.285...</td>\n",
       "      <td>ermsoft ~ ersandp</td>\n",
       "    </tr>\n",
       "  </tbody>\n",
       "</table>\n",
       "</div>"
      ],
      "text/plain": [
       "   predictors   MSE_mean                                          MSE_folds  \\\n",
       "0           1  61.608220  [122.3375290511312, 64.3746238201491, 51.55009...   \n",
       "1           2  61.579962  [122.30690300176789, 64.28844254764996, 51.522...   \n",
       "2           3  61.564914  [122.37276679405389, 64.41763542420439, 51.463...   \n",
       "3           4  61.496333  [122.12426131822511, 64.69163375900831, 51.227...   \n",
       "4           5  61.502725  [122.57229995063736, 65.28271959572727, 51.526...   \n",
       "5           6  62.200584  [123.47000528573811, 70.02566006778459, 51.954...   \n",
       "6           7  62.898537  [126.3899281554123, 74.42090716147204, 52.5294...   \n",
       "7           8  63.717523  [134.65920106142354, 76.97286126016476, 53.285...   \n",
       "\n",
       "                                               Model  \n",
       "0  ermsoft ~ dspread + dcredit + dprod + dmoney +...  \n",
       "1  ermsoft ~ dspread + dcredit + dprod + dinflati...  \n",
       "2  ermsoft ~ dcredit + dprod + dinflation + mustb...  \n",
       "3  ermsoft ~ dcredit + dinflation + mustb3m + rte...  \n",
       "4   ermsoft ~ dinflation + mustb3m + rterm + ersandp  \n",
       "5             ermsoft ~ dinflation + rterm + ersandp  \n",
       "6                     ermsoft ~ dinflation + ersandp  \n",
       "7                                  ermsoft ~ ersandp  "
      ]
     },
     "metadata": {},
     "output_type": "display_data"
    }
   ],
   "source": [
    "# Perform cross validation for each subset of predictors\n",
    "results = []\n",
    "for preds in backward_stepwise_subsets['predictors']:\n",
    "    f = 'ermsoft ~ {}'.format(' + '.join(preds))\n",
    "    results += [cross_val(f, X, y, 10)]\n",
    "\n",
    "results_b_df = pd.DataFrame({'predictors': list(np.arange(1, len(results)+1)),\n",
    "                           'MSE_mean': [np.mean(i[0]) for i in results],\n",
    "                           'MSE_folds': [i[0] for i in results],\n",
    "                           'Model': [i[1] for i in results]})\n",
    "display(results_b_df)\n"
   ]
  },
  {
   "cell_type": "code",
   "execution_count": 120,
   "metadata": {},
   "outputs": [
    {
     "data": {
      "image/png": "[encoded data removed]",
      "text/plain": [
       "<Figure size 432x288 with 1 Axes>"
      ]
     },
     "metadata": {
      "needs_background": "light"
     },
     "output_type": "display_data"
    }
   ],
   "source": [
    "sns.lineplot(x='predictors', y='MSE_mean', data=results_b_df);"
   ]
  },
  {
   "cell_type": "code",
   "execution_count": 191,
   "metadata": {},
   "outputs": [
    {
     "data": {
      "text/html": [
       "</br><h4>Best Subset Selection from 10 predictors, with 10-fold Cross Validation</h4>"
      ],
      "text/plain": [
       "<IPython.core.display.HTML object>"
      ]
     },
     "metadata": {},
     "output_type": "display_data"
    },
    {
     "data": {
      "text/html": [
       "<div>\n",
       "<style scoped>\n",
       "    .dataframe tbody tr th:only-of-type {\n",
       "        vertical-align: middle;\n",
       "    }\n",
       "\n",
       "    .dataframe tbody tr th {\n",
       "        vertical-align: top;\n",
       "    }\n",
       "\n",
       "    .dataframe thead th {\n",
       "        text-align: right;\n",
       "    }\n",
       "</style>\n",
       "<table border=\"1\" class=\"dataframe\">\n",
       "  <thead>\n",
       "    <tr style=\"text-align: right;\">\n",
       "      <th></th>\n",
       "      <th>predictors</th>\n",
       "      <th>MSE_mean</th>\n",
       "      <th>MSE_folds</th>\n",
       "      <th>Model</th>\n",
       "    </tr>\n",
       "  </thead>\n",
       "  <tbody>\n",
       "    <tr>\n",
       "      <th>4</th>\n",
       "      <td>5</td>\n",
       "      <td>61.496333</td>\n",
       "      <td>[122.12426131822511, 64.69163375900831, 51.227...</td>\n",
       "      <td>ermsoft ~ dcredit + dinflation + mustb3m + rte...</td>\n",
       "    </tr>\n",
       "  </tbody>\n",
       "</table>\n",
       "</div>"
      ],
      "text/plain": [
       "   predictors   MSE_mean                                          MSE_folds  \\\n",
       "4           5  61.496333  [122.12426131822511, 64.69163375900831, 51.227...   \n",
       "\n",
       "                                               Model  \n",
       "4  ermsoft ~ dcredit + dinflation + mustb3m + rte...  "
      ]
     },
     "metadata": {},
     "output_type": "display_data"
    },
    {
     "name": "stdout",
     "output_type": "stream",
     "text": [
      "ermsoft ~ dcredit + dinflation + mustb3m + rterm + ersandp\n"
     ]
    },
    {
     "data": {
      "text/html": [
       "</br><h4>Backward Stepwise Selection from all 10 predictors, with 10-fold Cross Validation</h4>"
      ],
      "text/plain": [
       "<IPython.core.display.HTML object>"
      ]
     },
     "metadata": {},
     "output_type": "display_data"
    },
    {
     "data": {
      "text/html": [
       "<div>\n",
       "<style scoped>\n",
       "    .dataframe tbody tr th:only-of-type {\n",
       "        vertical-align: middle;\n",
       "    }\n",
       "\n",
       "    .dataframe tbody tr th {\n",
       "        vertical-align: top;\n",
       "    }\n",
       "\n",
       "    .dataframe thead th {\n",
       "        text-align: right;\n",
       "    }\n",
       "</style>\n",
       "<table border=\"1\" class=\"dataframe\">\n",
       "  <thead>\n",
       "    <tr style=\"text-align: right;\">\n",
       "      <th></th>\n",
       "      <th>predictors</th>\n",
       "      <th>MSE_mean</th>\n",
       "      <th>MSE_folds</th>\n",
       "      <th>Model</th>\n",
       "    </tr>\n",
       "  </thead>\n",
       "  <tbody>\n",
       "    <tr>\n",
       "      <th>3</th>\n",
       "      <td>4</td>\n",
       "      <td>61.496333</td>\n",
       "      <td>[122.12426131822511, 64.69163375900831, 51.227...</td>\n",
       "      <td>ermsoft ~ dcredit + dinflation + mustb3m + rte...</td>\n",
       "    </tr>\n",
       "  </tbody>\n",
       "</table>\n",
       "</div>"
      ],
      "text/plain": [
       "   predictors   MSE_mean                                          MSE_folds  \\\n",
       "3           4  61.496333  [122.12426131822511, 64.69163375900831, 51.227...   \n",
       "\n",
       "                                               Model  \n",
       "3  ermsoft ~ dcredit + dinflation + mustb3m + rte...  "
      ]
     },
     "metadata": {},
     "output_type": "display_data"
    },
    {
     "name": "stdout",
     "output_type": "stream",
     "text": [
      "ermsoft ~ dcredit + dinflation + mustb3m + rterm + ersandp\n"
     ]
    }
   ],
   "source": [
    "display(HTML('</br><h4>Best Subset Selection from 10 predictors, with 10-fold Cross Validation</h4>'))\n",
    "best_subset_choice = results_a_df[results_a_df['MSE_mean'] == results_a_df['MSE_mean'].min()]\n",
    "display(best_subset_choice)\n",
    "print(best_subset_choice['Model'].iloc[0])\n",
    "\n",
    "display(HTML('</br><h4>Backward Stepwise Selection from all 10 predictors, with 10-fold Cross Validation</h4>'))\n",
    "backward_select_choice = results_b_df[results_b_df['MSE_mean'] == results_b_df['MSE_mean'].min()]\n",
    "display(backward_select_choice)\n",
    "print(backward_select_choice['Model'].iloc[0])"
   ]
  },
  {
   "cell_type": "markdown",
   "metadata": {},
   "source": [
    "### Shrinkage"
   ]
  },
  {
   "cell_type": "markdown",
   "metadata": {},
   "source": [
    "## Ridge Regression and the Lasso\n",
    "\n",
    "### Ridge Regression\n",
    "\n",
    "Let's perform ridge regression with 10-fold cross-validation to produce results comparable to those obtained for model selection approaches above."
   ]
  },
  {
   "cell_type": "code",
   "execution_count": 192,
   "metadata": {},
   "outputs": [],
   "source": [
    "def ridge_cv(X, y, λ, k):\n",
    "    \"\"\"Perform ridge regresion with \n",
    "    k-fold cross validation to return mean MSE scores for each fold\"\"\"\n",
    "    # Split dataset into k-folds\n",
    "    # Note: np.array_split doesn't raise excpetion is folds are unequal in size\n",
    "    X_folds = np.array_split(X, k)\n",
    "    y_folds = np.array_split(y, k)\n",
    "    \n",
    "    MSEs = []\n",
    "    for f in np.arange(len(X_folds)):\n",
    "        # Create training and test sets\n",
    "        X_test  = X_folds[f]\n",
    "        y_test  = y_folds[f]\n",
    "        X_train = X.drop(X_folds[f].index)\n",
    "        y_train = y.drop(y_folds[f].index)\n",
    "        \n",
    "        # Fit model\n",
    "        model = linear_model.Ridge(alpha=λ, fit_intercept=False, solver='cholesky').fit(X_train, y_train)\n",
    "        \n",
    "        # Measure MSE\n",
    "        y_hat = model.predict(X_test)\n",
    "        MSEs += [mse(y_hat, y_test)]\n",
    "    return MSEs"
   ]
  },
  {
   "cell_type": "code",
   "execution_count": 193,
   "metadata": {},
   "outputs": [],
   "source": [
    "X.dropna(inplace=True)"
   ]
  },
  {
   "cell_type": "code",
   "execution_count": 194,
   "metadata": {},
   "outputs": [],
   "source": [
    "data.dropna(inplace=True)"
   ]
  },
  {
   "cell_type": "code",
   "execution_count": 195,
   "metadata": {},
   "outputs": [
    {
     "data": {
      "text/plain": [
       "(383, 13)"
      ]
     },
     "execution_count": 195,
     "metadata": {},
     "output_type": "execute_result"
    }
   ],
   "source": [
    "data.shape"
   ]
  },
  {
   "cell_type": "code",
   "execution_count": 196,
   "metadata": {},
   "outputs": [
    {
     "data": {
      "text/html": [
       "<div>\n",
       "<style scoped>\n",
       "    .dataframe tbody tr th:only-of-type {\n",
       "        vertical-align: middle;\n",
       "    }\n",
       "\n",
       "    .dataframe tbody tr th {\n",
       "        vertical-align: top;\n",
       "    }\n",
       "\n",
       "    .dataframe thead th {\n",
       "        text-align: right;\n",
       "    }\n",
       "</style>\n",
       "<table border=\"1\" class=\"dataframe\">\n",
       "  <thead>\n",
       "    <tr style=\"text-align: right;\">\n",
       "      <th></th>\n",
       "      <th>dspread</th>\n",
       "      <th>dcredit</th>\n",
       "      <th>dprod</th>\n",
       "      <th>rmsoft</th>\n",
       "      <th>rsandp</th>\n",
       "      <th>dmoney</th>\n",
       "      <th>inflation</th>\n",
       "      <th>term</th>\n",
       "      <th>dinflation</th>\n",
       "      <th>mustb3m</th>\n",
       "      <th>rterm</th>\n",
       "      <th>ermsoft</th>\n",
       "      <th>ersandp</th>\n",
       "    </tr>\n",
       "    <tr>\n",
       "      <th>Date</th>\n",
       "      <th></th>\n",
       "      <th></th>\n",
       "      <th></th>\n",
       "      <th></th>\n",
       "      <th></th>\n",
       "      <th></th>\n",
       "      <th></th>\n",
       "      <th></th>\n",
       "      <th></th>\n",
       "      <th></th>\n",
       "      <th></th>\n",
       "      <th></th>\n",
       "      <th></th>\n",
       "    </tr>\n",
       "  </thead>\n",
       "  <tbody>\n",
       "    <tr>\n",
       "      <th>1986-05-01</th>\n",
       "      <td>-0.20</td>\n",
       "      <td>7.5483</td>\n",
       "      <td>0.1196</td>\n",
       "      <td>8.183334</td>\n",
       "      <td>4.900851</td>\n",
       "      <td>-1.3</td>\n",
       "      <td>0.275862</td>\n",
       "      <td>1.38</td>\n",
       "      <td>0.459855</td>\n",
       "      <td>0.527500</td>\n",
       "      <td>0.32</td>\n",
       "      <td>7.655834</td>\n",
       "      <td>4.373351</td>\n",
       "    </tr>\n",
       "    <tr>\n",
       "      <th>1986-06-01</th>\n",
       "      <td>0.01</td>\n",
       "      <td>5.9758</td>\n",
       "      <td>-0.1891</td>\n",
       "      <td>-12.945833</td>\n",
       "      <td>1.401091</td>\n",
       "      <td>17.1</td>\n",
       "      <td>0.549452</td>\n",
       "      <td>1.40</td>\n",
       "      <td>0.273590</td>\n",
       "      <td>0.533333</td>\n",
       "      <td>0.02</td>\n",
       "      <td>-13.479167</td>\n",
       "      <td>0.867757</td>\n",
       "    </tr>\n",
       "    <tr>\n",
       "      <th>1986-07-01</th>\n",
       "      <td>0.07</td>\n",
       "      <td>5.7173</td>\n",
       "      <td>0.3137</td>\n",
       "      <td>-7.599084</td>\n",
       "      <td>-6.047514</td>\n",
       "      <td>10.6</td>\n",
       "      <td>0.000000</td>\n",
       "      <td>1.30</td>\n",
       "      <td>-0.549452</td>\n",
       "      <td>0.500000</td>\n",
       "      <td>-0.10</td>\n",
       "      <td>-8.099084</td>\n",
       "      <td>-6.547514</td>\n",
       "    </tr>\n",
       "    <tr>\n",
       "      <th>1986-08-01</th>\n",
       "      <td>0.18</td>\n",
       "      <td>6.9043</td>\n",
       "      <td>-0.0748</td>\n",
       "      <td>0.000000</td>\n",
       "      <td>6.877261</td>\n",
       "      <td>5.0</td>\n",
       "      <td>0.182482</td>\n",
       "      <td>1.48</td>\n",
       "      <td>0.182482</td>\n",
       "      <td>0.474167</td>\n",
       "      <td>0.18</td>\n",
       "      <td>-0.474167</td>\n",
       "      <td>6.403095</td>\n",
       "    </tr>\n",
       "    <tr>\n",
       "      <th>1986-09-01</th>\n",
       "      <td>-0.15</td>\n",
       "      <td>9.3754</td>\n",
       "      <td>0.1135</td>\n",
       "      <td>-0.881009</td>\n",
       "      <td>-8.931068</td>\n",
       "      <td>6.1</td>\n",
       "      <td>0.454753</td>\n",
       "      <td>2.10</td>\n",
       "      <td>0.272271</td>\n",
       "      <td>0.445833</td>\n",
       "      <td>0.62</td>\n",
       "      <td>-1.326843</td>\n",
       "      <td>-9.376901</td>\n",
       "    </tr>\n",
       "  </tbody>\n",
       "</table>\n",
       "</div>"
      ],
      "text/plain": [
       "            dspread  dcredit   dprod     rmsoft    rsandp  dmoney  inflation  \\\n",
       "Date                                                                           \n",
       "1986-05-01    -0.20   7.5483  0.1196   8.183334  4.900851    -1.3   0.275862   \n",
       "1986-06-01     0.01   5.9758 -0.1891 -12.945833  1.401091    17.1   0.549452   \n",
       "1986-07-01     0.07   5.7173  0.3137  -7.599084 -6.047514    10.6   0.000000   \n",
       "1986-08-01     0.18   6.9043 -0.0748   0.000000  6.877261     5.0   0.182482   \n",
       "1986-09-01    -0.15   9.3754  0.1135  -0.881009 -8.931068     6.1   0.454753   \n",
       "\n",
       "            term  dinflation   mustb3m  rterm    ermsoft   ersandp  \n",
       "Date                                                                \n",
       "1986-05-01  1.38    0.459855  0.527500   0.32   7.655834  4.373351  \n",
       "1986-06-01  1.40    0.273590  0.533333   0.02 -13.479167  0.867757  \n",
       "1986-07-01  1.30   -0.549452  0.500000  -0.10  -8.099084 -6.547514  \n",
       "1986-08-01  1.48    0.182482  0.474167   0.18  -0.474167  6.403095  \n",
       "1986-09-01  2.10    0.272271  0.445833   0.62  -1.326843 -9.376901  "
      ]
     },
     "execution_count": 196,
     "metadata": {},
     "output_type": "execute_result"
    }
   ],
   "source": [
    "data.head()"
   ]
  },
  {
   "cell_type": "code",
   "execution_count": 197,
   "metadata": {},
   "outputs": [],
   "source": [
    "X = data.drop(data[['ermsoft', \"rmsoft\", \"rsandp\", \"inflation\", \"term\"]], axis=1)\n",
    "y = data['ermsoft']"
   ]
  },
  {
   "cell_type": "code",
   "execution_count": 198,
   "metadata": {},
   "outputs": [
    {
     "data": {
      "image/png": "[encoded data removed]",
      "text/plain": [
       "<Figure size 432x288 with 1 Axes>"
      ]
     },
     "metadata": {
      "needs_background": "light"
     },
     "output_type": "display_data"
    }
   ],
   "source": [
    "#lambdas = np.arange(0, 0.08, 0.0005)\n",
    "lambdas = np.arange(1, 300, 1)\n",
    "MSEs    = [] \n",
    "for l in lambdas:\n",
    "    MSEs += [np.mean(ridge_cv(X, y, λ=l, k=10))]\n",
    "\n",
    "sns.scatterplot(x='λ', y='MSE', data=pd.DataFrame({'λ': lambdas, 'MSE': MSEs}));"
   ]
  },
  {
   "cell_type": "code",
   "execution_count": 199,
   "metadata": {},
   "outputs": [
    {
     "data": {
      "text/plain": [
       "(62.20300220778345, 7)"
      ]
     },
     "execution_count": 199,
     "metadata": {},
     "output_type": "execute_result"
    }
   ],
   "source": [
    "min(zip(MSEs, lambdas))"
   ]
  },
  {
   "cell_type": "markdown",
   "metadata": {},
   "source": [
    "Here we use 10-fold cross-validation to find the optimal value for lambda. The lowest MSE score achieved is 62,20 when λ=7.\n",
    "\n",
    "**Revision note:** This result is worst than our results for backward stepwise selection and best subset.\n"
   ]
  },
  {
   "cell_type": "code",
   "execution_count": 200,
   "metadata": {},
   "outputs": [
    {
     "data": {
      "text/plain": [
       "(array([-1.,  0.,  1.,  2.,  3.,  4.]),\n",
       " [Text(0, 0, ''),\n",
       "  Text(0, 0, ''),\n",
       "  Text(0, 0, ''),\n",
       "  Text(0, 0, ''),\n",
       "  Text(0, 0, ''),\n",
       "  Text(0, 0, '')])"
      ]
     },
     "execution_count": 200,
     "metadata": {},
     "output_type": "execute_result"
    },
    {
     "data": {
      "image/png": "[encoded data removed]",
      "text/plain": [
       "<Figure size 432x288 with 1 Axes>"
      ]
     },
     "metadata": {
      "needs_background": "light"
     },
     "output_type": "display_data"
    }
   ],
   "source": [
    "# What coefficients does ridge regression choose for the optimal lambda value?\n",
    "model = linear_model.Ridge(alpha=7, fit_intercept=False, solver='cholesky').fit(X, y)\n",
    "df = pd.DataFrame({'feature': X.columns, 'coefficient': model.coef_})\n",
    "ax = sns.barplot(x='coefficient', y='feature', data=df);\n",
    "plt.xticks(rotation=90)"
   ]
  },
  {
   "cell_type": "markdown",
   "metadata": {},
   "source": [
    "### The Lasso"
   ]
  },
  {
   "cell_type": "code",
   "execution_count": 201,
   "metadata": {},
   "outputs": [],
   "source": [
    "def lasso_cv(X, y, λ, k):\n",
    "    \"\"\"Perform the lasso with \n",
    "    k-fold cross validation to return mean MSE scores for each fold\"\"\"\n",
    "    # Split dataset into k-folds\n",
    "    # Note: np.array_split doesn't raise excpetion is folds are unequal in size\n",
    "    X_folds = np.array_split(X, k)\n",
    "    y_folds = np.array_split(y, k)\n",
    "    \n",
    "    MSEs = []\n",
    "    for f in np.arange(len(X_folds)):\n",
    "        # Create training and test sets\n",
    "        X_test  = X_folds[f]\n",
    "        y_test  = y_folds[f]\n",
    "        X_train = X.drop(X_folds[f].index)\n",
    "        y_train = y.drop(y_folds[f].index)\n",
    "        \n",
    "        # Fit model\n",
    "        model = linear_model.Lasso(alpha=λ, copy_X=True, fit_intercept=False, max_iter=10000,\n",
    "                                   normalize=False, positive=False, precompute=False, random_state=None,\n",
    "                                   selection='cyclic', tol=0.0001, warm_start=False).fit(X_train, y_train)\n",
    "        \n",
    "        # Measure MSE\n",
    "        y_hat = model.predict(X_test)\n",
    "        MSEs += [mse(y_hat, y_test)]\n",
    "    return MSEs"
   ]
  },
  {
   "cell_type": "code",
   "execution_count": 137,
   "metadata": {},
   "outputs": [
    {
     "data": {
      "image/png": "[encoded data removed]",
      "text/plain": [
       "<Figure size 432x288 with 1 Axes>"
      ]
     },
     "metadata": {
      "needs_background": "light"
     },
     "output_type": "display_data"
    }
   ],
   "source": [
    "X = data.drop(data[['ermsoft', \"rmsoft\", \"rsandp\", \"inflation\", \"term\"]], axis=1)\n",
    "y = data['ermsoft']\n",
    "\n",
    "#lambdas = np.arange(0, 0.08, 0.0005)\n",
    "\n",
    "lambdas = np.arange(0, 0.08, 0.0005)\n",
    "MSEs    = [] \n",
    "for l in lambdas:\n",
    "    MSEs += [np.mean(lasso_cv(X, y, λ=l, k=10))]\n",
    "\n",
    "sns.scatterplot(x='λ', y='MSE', data=pd.DataFrame({'λ': lambdas, 'MSE': MSEs}));"
   ]
  },
  {
   "cell_type": "code",
   "execution_count": 138,
   "metadata": {},
   "outputs": [
    {
     "data": {
      "text/plain": [
       "(62.357690956527065, 0.002)"
      ]
     },
     "execution_count": 138,
     "metadata": {},
     "output_type": "execute_result"
    }
   ],
   "source": [
    "min(zip(MSEs, lambdas))"
   ]
  },
  {
   "cell_type": "markdown",
   "metadata": {},
   "source": [
    "Here we use 10-fold cross-validation to find the optimal lambda value for the lasso. The lowest MSE score achieved is 62.35 when λ=0.002."
   ]
  },
  {
   "cell_type": "code",
   "execution_count": 202,
   "metadata": {},
   "outputs": [
    {
     "data": {
      "text/plain": [
       "(array([-1.,  0.,  1.,  2.,  3.,  4.,  5.,  6.]),\n",
       " [Text(0, 0, ''),\n",
       "  Text(0, 0, ''),\n",
       "  Text(0, 0, ''),\n",
       "  Text(0, 0, ''),\n",
       "  Text(0, 0, ''),\n",
       "  Text(0, 0, ''),\n",
       "  Text(0, 0, ''),\n",
       "  Text(0, 0, '')])"
      ]
     },
     "execution_count": 202,
     "metadata": {},
     "output_type": "execute_result"
    },
    {
     "data": {
      "image/png": "[encoded data removed]",
      "text/plain": [
       "<Figure size 432x288 with 1 Axes>"
      ]
     },
     "metadata": {
      "needs_background": "light"
     },
     "output_type": "display_data"
    }
   ],
   "source": [
    "# What coefficients does the lasso choose for the optimal lambda value?\n",
    "model = linear_model.Lasso(alpha=0.002, copy_X=True, fit_intercept=False, max_iter=10000,\n",
    "                           normalize=False, positive=False, precompute=False, random_state=None,\n",
    "                           selection='cyclic', tol=0.0001, warm_start=False).fit(X, y)\n",
    "df = pd.DataFrame({'feature': X.columns, 'coefficient': model.coef_})\n",
    "ax = sns.barplot(x='coefficient', y='feature', data=df);\n",
    "plt.xticks(rotation=90)"
   ]
  },
  {
   "cell_type": "code",
   "execution_count": 203,
   "metadata": {},
   "outputs": [
    {
     "data": {
      "text/html": [
       "<h4>Model chosen by lasso:</h4>"
      ],
      "text/plain": [
       "<IPython.core.display.HTML object>"
      ]
     },
     "metadata": {},
     "output_type": "display_data"
    },
    {
     "name": "stdout",
     "output_type": "stream",
     "text": [
      "Salary ~ dspread + dcredit + dprod + dmoney + dinflation + mustb3m + rterm + ersandp\n",
      "MSE: 62\n"
     ]
    },
    {
     "data": {
      "text/html": [
       "<h4>Model chosen by backward stepwise selection:</h4>"
      ],
      "text/plain": [
       "<IPython.core.display.HTML object>"
      ]
     },
     "metadata": {},
     "output_type": "display_data"
    },
    {
     "name": "stdout",
     "output_type": "stream",
     "text": [
      "ermsoft ~ dcredit + dinflation + mustb3m + rterm + ersandp\n",
      "MSE: 61\n"
     ]
    }
   ],
   "source": [
    "display(HTML('<h4>Model chosen by lasso:</h4>'))\n",
    "print('Salary ~ {}'.format(' + '.join(X.columns[model.coef_ != 0])))\n",
    "print('MSE: {:01.0f}'.format(min(MSEs)))\n",
    "\n",
    "display(HTML('<h4>Model chosen by backward stepwise selection:</h4>'))\n",
    "print(backward_select_choice['Model'].iloc[0])\n",
    "print('MSE: {:01.0f}'.format(backward_select_choice['MSE_mean'].iloc[0]))"
   ]
  },
  {
   "cell_type": "markdown",
   "metadata": {},
   "source": [
    "The results here suggesat that backward stepwise finds as simpler model thato utperforms lasso and ridge regression. "
   ]
  },
  {
   "cell_type": "markdown",
   "metadata": {},
   "source": [
    "### Dimension reduction"
   ]
  },
  {
   "cell_type": "markdown",
   "metadata": {},
   "source": [
    "#### PCR and PLS Regression\n",
    "\n",
    "##### Principle Components Regression"
   ]
  },
  {
   "cell_type": "code",
   "execution_count": 142,
   "metadata": {},
   "outputs": [],
   "source": [
    "# Deps for pca/pcr\n",
    "from sklearn.preprocessing import scale\n",
    "from sklearn.decomposition import PCA\n",
    "from sklearn.model_selection import cross_val_score\n",
    "from sklearn.linear_model import LinearRegression"
   ]
  },
  {
   "cell_type": "code",
   "execution_count": 204,
   "metadata": {},
   "outputs": [],
   "source": [
    "X = data.drop(data[['ermsoft', \"rmsoft\", \"rsandp\", \"inflation\", \"term\"]], axis=1)\n",
    "y = data['ermsoft']"
   ]
  },
  {
   "cell_type": "markdown",
   "metadata": {},
   "source": [
    "#### PCA\n",
    "\n",
    "What percentage of total variance in our dataset is ecplained by succesive accumulation of principal components?\n",
    "\n",
    "Get all principal components of the predictors in X, using principal component analysis (PCA)"
   ]
  },
  {
   "cell_type": "code",
   "execution_count": 205,
   "metadata": {},
   "outputs": [
    {
     "data": {
      "image/png": "[encoded data removed]",
      "text/plain": [
       "<Figure size 432x288 with 1 Axes>"
      ]
     },
     "metadata": {
      "needs_background": "light"
     },
     "output_type": "display_data"
    }
   ],
   "source": [
    "# Get principle components\n",
    "pca = PCA()\n",
    "X_reduced = pca.fit_transform(scale(X))\n",
    "\n",
    "# What variance (%c umulative) is explained by principle components?\n",
    "variance_explained   = np.cumsum(np.around(pca.explained_variance_ratio_ *100, decimals=1))\n",
    "principal_components = np.arange(1, len(variance_explained)+1)\n",
    "\n",
    "sns.lineplot(x='principal components count', y='% variance explained', \n",
    "             data=pd.DataFrame({'principal components count': principal_components, \n",
    "                                '% variance explained': variance_explained}));"
   ]
  },
  {
   "cell_type": "code",
   "execution_count": 206,
   "metadata": {},
   "outputs": [
    {
     "data": {
      "text/plain": [
       "(383, 8)"
      ]
     },
     "execution_count": 206,
     "metadata": {},
     "output_type": "execute_result"
    }
   ],
   "source": [
    "X_reduced = pca.fit_transform(scale(X))\n",
    "X_reduced.shape"
   ]
  },
  {
   "cell_type": "markdown",
   "metadata": {},
   "source": [
    "#### PCR \n",
    "\n",
    "How does linear regression perform when these principle components are used as predictors?"
   ]
  },
  {
   "cell_type": "code",
   "execution_count": 207,
   "metadata": {},
   "outputs": [
    {
     "data": {
      "application/vnd.jupyter.widget-view+json": {
       "model_id": "9af24dc2bd6d4509adbffb56fe3479af",
       "version_major": 2,
       "version_minor": 0
      },
      "text/plain": [
       "interactive(children=(IntSlider(value=10, description='seed', max=50, min=1), IntSlider(value=10, description=…"
      ]
     },
     "metadata": {},
     "output_type": "display_data"
    }
   ],
   "source": [
    "def pcr_cv(seed, cv_folds):\n",
    "    \"\"\"Perform Principle Component Regression evaluated with\n",
    "    k-fold cross validation\"\"\"\n",
    "    # Load data\n",
    "    X = data.drop(data[['ermsoft', \"rmsoft\", \"rsandp\", \"inflation\", \"term\"]], axis=1)\n",
    "    y = data['ermsoft']\n",
    "    \n",
    "    # Get all principle components\n",
    "    pca = PCA()\n",
    "    X_reduced = pca.fit_transform(scale(X))\n",
    "    \n",
    "    # Get cv MSE for cumulative components\n",
    "    M = X_reduced.shape[1]\n",
    "    MSEs = []\n",
    "    for m in range(M):\n",
    "        model = LinearRegression()\n",
    "        cv    = KFold(n_splits=cv_folds, random_state=seed, shuffle=True)\n",
    "        cv10  = cross_val_score(model, X_reduced[:, 0:m+1], y, cv=cv, scoring='neg_mean_squared_error')\n",
    "        MSEs += [np.mean(np.abs(cv10))]\n",
    "        \n",
    "    ax = sns.lineplot(x='principal components count', y='MSE', \n",
    "                 data=pd.DataFrame({'principal components count': principal_components, \n",
    "                                    'MSE': MSEs}));\n",
    "    ax.axes.set_ylim(10, 100)\n",
    "\n",
    "\n",
    "interact(pcr_cv, \n",
    "         seed=widgets.IntSlider(min=1, max=50, step=1, value=10), \n",
    "         cv_folds=widgets.IntSlider(min=2, max=100, step=1, value=10));"
   ]
  },
  {
   "cell_type": "markdown",
   "metadata": {},
   "source": [
    "Above I've implemented the same with interactive sliders to control the random seed used to shuffle observations before splitting into cross validation folds, and a seperate control for number of cross validation folds k. \n",
    "\n",
    "Interacting with the seed slider we see that there is some significant variability in the results. With 10 folds, most seed values would lead us to conclude the between 8 principal components are optimal, but there are some seed values – such as 8 – that suggest 6-7 components is in fact optimal. This is a significantly different conclusion!\n",
    "\n",
    "The results seem to have higher variance when cv_folds is lower, with variance decreasing as the number of folds increases.\n",
    "\n",
    "**Revision note:** The above point seems counter to what we learned in ch.5, e.g. we expect LOOCV to exhibit highest variance and lowest bias."
   ]
  },
  {
   "cell_type": "code",
   "execution_count": 209,
   "metadata": {},
   "outputs": [
    {
     "data": {
      "application/vnd.jupyter.widget-view+json": {
       "model_id": "2d09b9a95f134394905d688b084b8b98",
       "version_major": 2,
       "version_minor": 0
      },
      "text/plain": [
       "interactive(children=(IntSlider(value=10, description='seed', max=50, min=1), Output()), _dom_classes=('widget…"
      ]
     },
     "metadata": {},
     "output_type": "display_data"
    }
   ],
   "source": [
    "def pcr_holdout(seed):\n",
    "    \"\"\"Perform Principle Component Regression evaluated with\n",
    "    k-fold hold-out set\"\"\"\n",
    "    # With 50% holdout set\n",
    "    np.random.seed(seed)\n",
    "    train = np.random.rand(len(data)) < 0.5\n",
    "    \n",
    "    pca = PCA()\n",
    "    X_train = pca.fit_transform(scale(data.drop('ermsoft', axis=1)[train]))\n",
    "    y_train = data['ermsoft'][train]\n",
    "    X_test  = pca.fit_transform(scale(data.drop('ermsoft', axis=1)[~train]))\n",
    "    y_test  = data['ermsoft'][~train]\n",
    "    \n",
    "    \n",
    "    # Get cv MSE for cumulative components\n",
    "    M = X_reduced.shape[1]\n",
    "    \n",
    "    MSEs = []\n",
    "    for m in range(M):\n",
    "        model = LinearRegression().fit(X_train[:, 0:m+1], y_train)\n",
    "        y_hat = model.predict(X_test[:, 0:m+1])\n",
    "        MSEs += [mse(y_hat, y_test)]\n",
    "    \n",
    "    # Plot results\n",
    "    ax = sns.lineplot(x='principal components count', y='MSE', \n",
    "                      data=pd.DataFrame({'principal components count': principal_components, \n",
    "                                         'MSE': MSEs}))\n",
    "    ax.axes.set_ylim(10, 100);\n",
    "\n",
    "interact(pcr_holdout, seed=widgets.IntSlider(min=1, max=50, step=1, value=10));"
   ]
  },
  {
   "cell_type": "code",
   "execution_count": null,
   "metadata": {},
   "outputs": [],
   "source": []
  }
 ],
 "metadata": {
  "kernelspec": {
   "display_name": "Python 3",
   "language": "python",
   "name": "python3"
  },
  "language_info": {
   "codemirror_mode": {
    "name": "ipython",
    "version": 3
   },
   "file_extension": ".py",
   "mimetype": "text/x-python",
   "name": "python",
   "nbconvert_exporter": "python",
   "pygments_lexer": "ipython3",
   "version": "3.8.3"
  },
  "latex_envs": {
   "LaTeX_envs_menu_present": true,
   "autoclose": false,
   "autocomplete": true,
   "bibliofile": "biblio.bib",
   "cite_by": "apalike",
   "current_citInitial": 1,
   "eqLabelWithNumbers": true,
   "eqNumInitial": 1,
   "hotkeys": {
    "equation": "Ctrl-E",
    "itemize": "Ctrl-I"
   },
   "labels_anchors": false,
   "latex_user_defs": false,
   "report_style_numbering": false,
   "user_envs_cfg": false
  },
  "toc": {
   "base_numbering": 1,
   "nav_menu": {},
   "number_sections": true,
   "sideBar": true,
   "skip_h1_title": false,
   "title_cell": "Table of Contents",
   "title_sidebar": "Contents",
   "toc_cell": false,
   "toc_position": {},
   "toc_section_display": true,
   "toc_window_display": false
  },
  "varInspector": {
   "cols": {
    "lenName": 16,
    "lenType": 16,
    "lenVar": 40
   },
   "kernels_config": {
    "python": {
     "delete_cmd_postfix": "",
     "delete_cmd_prefix": "del ",
     "library": "var_list.py",
     "varRefreshCmd": "print(var_dic_list())"
    },
    "r": {
     "delete_cmd_postfix": ") ",
     "delete_cmd_prefix": "rm(",
     "library": "var_list.r",
     "varRefreshCmd": "cat(var_dic_list()) "
    }
   },
   "types_to_exclude": [
    "module",
    "function",
    "builtin_function_or_method",
    "instance",
    "_Feature"
   ],
   "window_display": false
  }
 },
 "nbformat": 4,
 "nbformat_minor": 4
}
