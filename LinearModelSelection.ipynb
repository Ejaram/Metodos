{
 "cells": [
  {
   "cell_type": "markdown",
   "metadata": {},
   "source": [
    "## Linear Model Selection and Regularization"
   ]
  },
  {
   "cell_type": "markdown",
   "metadata": {},
   "source": [
    "In the regression settings, the standard linear model is commonly used to describe the relationship between a response $Y$ and a set of variables $X_1,X_2,\\ldots, X_p$. "
   ]
  },
  {
   "cell_type": "code",
   "execution_count": null,
   "metadata": {},
   "outputs": [],
   "source": []
  },
  {
   "cell_type": "markdown",
   "metadata": {},
   "source": [
    "Howevee, the linear model **has distinct advantages** in terms of inference and, on real-world problems, is often surpringly competitive in relation to non-linear models.\n",
    "\n",
    "It is often surprisingly competitive to non-linear methods."
   ]
  },
  {
   "cell_type": "markdown",
   "metadata": {},
   "source": [
    "By replacing \"plain least squares fitting\" with some alternative fitting procedures can yield better prediction accuracy and model interpretability"
   ]
  },
  {
   "cell_type": "markdown",
   "metadata": {},
   "source": [
    "### Prediction accuracy"
   ]
  },
  {
   "cell_type": "markdown",
   "metadata": {},
   "source": [
    "### Model interpretability"
   ]
  },
  {
   "cell_type": "markdown",
   "metadata": {},
   "source": [
    "There are many alternatives, both classical and modern, to using least squares to fit the models of interest. Now we discuss three important classes of methods."
   ]
  },
  {
   "cell_type": "markdown",
   "metadata": {},
   "source": [
    "### Subset selection"
   ]
  },
  {
   "cell_type": "code",
   "execution_count": 154,
   "metadata": {},
   "outputs": [],
   "source": [
    "import numpy as np\n",
    "import pandas as pd\n",
    "import matplotlib.pyplot as plt\n",
    "import seaborn as sns\n",
    "import statsmodels.api as sm\n",
    "import statsmodels.formula.api as smf\n",
    "import patsy\n",
    "import itertools\n",
    "from IPython.display import display, HTML\n",
    "from sklearn import linear_model\n",
    "from sklearn.model_selection import KFold\n",
    "from ipywidgets import interact\n",
    "import ipywidgets as widgets\n",
    "import warnings\n",
    "import datetime\n",
    "import pandas_datareader as web\n",
    "warnings.filterwarnings('ignore')"
   ]
  },
  {
   "cell_type": "code",
   "execution_count": 155,
   "metadata": {},
   "outputs": [],
   "source": [
    "start = datetime.datetime(1986,3,1)\n",
    "end = datetime.datetime(2018,3,1)"
   ]
  },
  {
   "cell_type": "code",
   "execution_count": 156,
   "metadata": {},
   "outputs": [
    {
     "data": {
      "text/html": [
       "<div>\n",
       "<style scoped>\n",
       "    .dataframe tbody tr th:only-of-type {\n",
       "        vertical-align: middle;\n",
       "    }\n",
       "\n",
       "    .dataframe tbody tr th {\n",
       "        vertical-align: top;\n",
       "    }\n",
       "\n",
       "    .dataframe thead th {\n",
       "        text-align: right;\n",
       "    }\n",
       "</style>\n",
       "<table border=\"1\" class=\"dataframe\">\n",
       "  <thead>\n",
       "    <tr style=\"text-align: right;\">\n",
       "      <th></th>\n",
       "      <th>High</th>\n",
       "      <th>Low</th>\n",
       "      <th>Open</th>\n",
       "      <th>Close</th>\n",
       "      <th>Volume</th>\n",
       "      <th>Adj Close</th>\n",
       "    </tr>\n",
       "    <tr>\n",
       "      <th>Date</th>\n",
       "      <th></th>\n",
       "      <th></th>\n",
       "      <th></th>\n",
       "      <th></th>\n",
       "      <th></th>\n",
       "      <th></th>\n",
       "    </tr>\n",
       "  </thead>\n",
       "  <tbody>\n",
       "    <tr>\n",
       "      <th>1999-10-01</th>\n",
       "      <td>14.250</td>\n",
       "      <td>14.0000</td>\n",
       "      <td>14.000</td>\n",
       "      <td>14.125</td>\n",
       "      <td>3162400.0</td>\n",
       "      <td>9.149607</td>\n",
       "    </tr>\n",
       "    <tr>\n",
       "      <th>1999-10-04</th>\n",
       "      <td>14.125</td>\n",
       "      <td>14.0000</td>\n",
       "      <td>14.125</td>\n",
       "      <td>14.000</td>\n",
       "      <td>533400.0</td>\n",
       "      <td>9.068636</td>\n",
       "    </tr>\n",
       "    <tr>\n",
       "      <th>1999-10-05</th>\n",
       "      <td>14.125</td>\n",
       "      <td>14.0000</td>\n",
       "      <td>14.000</td>\n",
       "      <td>14.125</td>\n",
       "      <td>270600.0</td>\n",
       "      <td>9.149607</td>\n",
       "    </tr>\n",
       "    <tr>\n",
       "      <th>1999-10-06</th>\n",
       "      <td>14.875</td>\n",
       "      <td>14.1250</td>\n",
       "      <td>14.125</td>\n",
       "      <td>14.875</td>\n",
       "      <td>205400.0</td>\n",
       "      <td>9.635420</td>\n",
       "    </tr>\n",
       "    <tr>\n",
       "      <th>1999-10-07</th>\n",
       "      <td>14.875</td>\n",
       "      <td>14.0625</td>\n",
       "      <td>14.875</td>\n",
       "      <td>14.125</td>\n",
       "      <td>214200.0</td>\n",
       "      <td>9.149607</td>\n",
       "    </tr>\n",
       "  </tbody>\n",
       "</table>\n",
       "</div>"
      ],
      "text/plain": [
       "              High      Low    Open   Close     Volume  Adj Close\n",
       "Date                                                             \n",
       "1999-10-01  14.250  14.0000  14.000  14.125  3162400.0   9.149607\n",
       "1999-10-04  14.125  14.0000  14.125  14.000   533400.0   9.068636\n",
       "1999-10-05  14.125  14.0000  14.000  14.125   270600.0   9.149607\n",
       "1999-10-06  14.875  14.1250  14.125  14.875   205400.0   9.635420\n",
       "1999-10-07  14.875  14.0625  14.875  14.125   214200.0   9.149607"
      ]
     },
     "execution_count": 156,
     "metadata": {},
     "output_type": "execute_result"
    }
   ],
   "source": [
    "df_spy = web.DataReader('BLK','yahoo',start, end)\n",
    "df_spy.head()"
   ]
  },
  {
   "cell_type": "code",
   "execution_count": 157,
   "metadata": {},
   "outputs": [
    {
     "data": {
      "text/html": [
       "<div>\n",
       "<style scoped>\n",
       "    .dataframe tbody tr th:only-of-type {\n",
       "        vertical-align: middle;\n",
       "    }\n",
       "\n",
       "    .dataframe tbody tr th {\n",
       "        vertical-align: top;\n",
       "    }\n",
       "\n",
       "    .dataframe thead th {\n",
       "        text-align: right;\n",
       "    }\n",
       "</style>\n",
       "<table border=\"1\" class=\"dataframe\">\n",
       "  <thead>\n",
       "    <tr style=\"text-align: right;\">\n",
       "      <th></th>\n",
       "      <th>MICROSOFT</th>\n",
       "      <th>SANDP</th>\n",
       "      <th>CPI</th>\n",
       "      <th>INDPRO</th>\n",
       "      <th>M1SUPPLY</th>\n",
       "      <th>CCREDIT</th>\n",
       "      <th>BMINUSA</th>\n",
       "      <th>USTB3M</th>\n",
       "      <th>USTB10Y</th>\n",
       "    </tr>\n",
       "    <tr>\n",
       "      <th>Date</th>\n",
       "      <th></th>\n",
       "      <th></th>\n",
       "      <th></th>\n",
       "      <th></th>\n",
       "      <th></th>\n",
       "      <th></th>\n",
       "      <th></th>\n",
       "      <th></th>\n",
       "      <th></th>\n",
       "    </tr>\n",
       "  </thead>\n",
       "  <tbody>\n",
       "    <tr>\n",
       "      <th>1986-03-01</th>\n",
       "      <td>0.095486</td>\n",
       "      <td>238.899994</td>\n",
       "      <td>108.8</td>\n",
       "      <td>56.5414</td>\n",
       "      <td>624.3</td>\n",
       "      <td>606.7990</td>\n",
       "      <td>1.50</td>\n",
       "      <td>6.76</td>\n",
       "      <td>7.78</td>\n",
       "    </tr>\n",
       "    <tr>\n",
       "      <th>1986-04-01</th>\n",
       "      <td>0.111979</td>\n",
       "      <td>235.520004</td>\n",
       "      <td>108.6</td>\n",
       "      <td>56.5654</td>\n",
       "      <td>647.0</td>\n",
       "      <td>614.3669</td>\n",
       "      <td>1.40</td>\n",
       "      <td>6.24</td>\n",
       "      <td>7.30</td>\n",
       "    </tr>\n",
       "    <tr>\n",
       "      <th>1986-05-01</th>\n",
       "      <td>0.121528</td>\n",
       "      <td>247.350006</td>\n",
       "      <td>108.9</td>\n",
       "      <td>56.6850</td>\n",
       "      <td>645.7</td>\n",
       "      <td>621.9152</td>\n",
       "      <td>1.20</td>\n",
       "      <td>6.33</td>\n",
       "      <td>7.71</td>\n",
       "    </tr>\n",
       "    <tr>\n",
       "      <th>1986-06-01</th>\n",
       "      <td>0.106771</td>\n",
       "      <td>250.839996</td>\n",
       "      <td>109.5</td>\n",
       "      <td>56.4959</td>\n",
       "      <td>662.8</td>\n",
       "      <td>627.8910</td>\n",
       "      <td>1.21</td>\n",
       "      <td>6.40</td>\n",
       "      <td>7.80</td>\n",
       "    </tr>\n",
       "    <tr>\n",
       "      <th>1986-07-01</th>\n",
       "      <td>0.098958</td>\n",
       "      <td>236.119995</td>\n",
       "      <td>109.5</td>\n",
       "      <td>56.8096</td>\n",
       "      <td>673.4</td>\n",
       "      <td>633.6083</td>\n",
       "      <td>1.28</td>\n",
       "      <td>6.00</td>\n",
       "      <td>7.30</td>\n",
       "    </tr>\n",
       "  </tbody>\n",
       "</table>\n",
       "</div>"
      ],
      "text/plain": [
       "            MICROSOFT       SANDP    CPI   INDPRO  M1SUPPLY   CCREDIT  \\\n",
       "Date                                                                    \n",
       "1986-03-01   0.095486  238.899994  108.8  56.5414     624.3  606.7990   \n",
       "1986-04-01   0.111979  235.520004  108.6  56.5654     647.0  614.3669   \n",
       "1986-05-01   0.121528  247.350006  108.9  56.6850     645.7  621.9152   \n",
       "1986-06-01   0.106771  250.839996  109.5  56.4959     662.8  627.8910   \n",
       "1986-07-01   0.098958  236.119995  109.5  56.8096     673.4  633.6083   \n",
       "\n",
       "            BMINUSA  USTB3M  USTB10Y  \n",
       "Date                                  \n",
       "1986-03-01     1.50    6.76     7.78  \n",
       "1986-04-01     1.40    6.24     7.30  \n",
       "1986-05-01     1.20    6.33     7.71  \n",
       "1986-06-01     1.21    6.40     7.80  \n",
       "1986-07-01     1.28    6.00     7.30  "
      ]
     },
     "execution_count": 157,
     "metadata": {},
     "output_type": "execute_result"
    }
   ],
   "source": [
    "data = pd.read_excel('macro.xlsx', index_col=0)\n",
    "data.head()"
   ]
  },
  {
   "cell_type": "code",
   "execution_count": 158,
   "metadata": {},
   "outputs": [],
   "source": [
    "new_df = pd.merge(data, df_spy.Close, left_index=True, right_index = True )"
   ]
  },
  {
   "cell_type": "code",
   "execution_count": 159,
   "metadata": {},
   "outputs": [],
   "source": [
    "new_df.head()\n",
    "new_df.drop(\"MICROSOFT\", axis =1 , inplace = True)"
   ]
  },
  {
   "cell_type": "code",
   "execution_count": 160,
   "metadata": {},
   "outputs": [],
   "source": [
    "data = new_df\n",
    "data.rename(columns= {\"Close\": \"MICROSOFT\"}, inplace = True)"
   ]
  },
  {
   "cell_type": "code",
   "execution_count": 161,
   "metadata": {},
   "outputs": [],
   "source": [
    "def LogDiff(x):\n",
    "    x_diff = 100*np.log(x/x.shift(1))\n",
    "    x_diff = x_diff.dropna()\n",
    "    return x_diff"
   ]
  },
  {
   "cell_type": "code",
   "execution_count": 162,
   "metadata": {},
   "outputs": [],
   "source": [
    "data = pd.DataFrame({'dspread' : data['BMINUSA'] - \\\n",
    "data['BMINUSA'].shift(1),\n",
    "'dcredit' : data['CCREDIT'] - \\\n",
    "data['CCREDIT'].shift(1),\n",
    "'dprod' : data['INDPRO'] - \\\n",
    "data['INDPRO'].shift(1),\n",
    "'rmsoft' : LogDiff(data['MICROSOFT']),\n",
    "'rsandp' : LogDiff(data['SANDP']),\n",
    "'dmoney' : data['M1SUPPLY'] - \\\n",
    "data['M1SUPPLY'].shift(1),\n",
    "'inflation' : LogDiff(data['CPI']),\n",
    "'term' : data['USTB10Y'] - data['USTB3M'],\n",
    "'dinflation' : LogDiff(data['CPI']) - \\\n",
    "LogDiff(data['CPI']).shift(1),\n",
    "'mustb3m' : data['USTB3M']/12,\n",
    "'rterm' : (data['USTB10Y'] - data['USTB3M']) - \\\n",
    "(data['USTB10Y'] - data['USTB3M']).shift(1),\n",
    "'ermsoft' : LogDiff(data['MICROSOFT']) - \\\n",
    "data['USTB3M']/12,\n",
    "'ersandp' : LogDiff(data['SANDP']) - \\\n",
    "data['USTB3M']/12})"
   ]
  },
  {
   "cell_type": "code",
   "execution_count": 163,
   "metadata": {},
   "outputs": [
    {
     "data": {
      "text/html": [
       "<div>\n",
       "<style scoped>\n",
       "    .dataframe tbody tr th:only-of-type {\n",
       "        vertical-align: middle;\n",
       "    }\n",
       "\n",
       "    .dataframe tbody tr th {\n",
       "        vertical-align: top;\n",
       "    }\n",
       "\n",
       "    .dataframe thead th {\n",
       "        text-align: right;\n",
       "    }\n",
       "</style>\n",
       "<table border=\"1\" class=\"dataframe\">\n",
       "  <thead>\n",
       "    <tr style=\"text-align: right;\">\n",
       "      <th></th>\n",
       "      <th>dspread</th>\n",
       "      <th>dcredit</th>\n",
       "      <th>dprod</th>\n",
       "      <th>rmsoft</th>\n",
       "      <th>rsandp</th>\n",
       "      <th>dmoney</th>\n",
       "      <th>inflation</th>\n",
       "      <th>term</th>\n",
       "      <th>dinflation</th>\n",
       "      <th>mustb3m</th>\n",
       "      <th>rterm</th>\n",
       "      <th>ermsoft</th>\n",
       "      <th>ersandp</th>\n",
       "    </tr>\n",
       "    <tr>\n",
       "      <th>Date</th>\n",
       "      <th></th>\n",
       "      <th></th>\n",
       "      <th></th>\n",
       "      <th></th>\n",
       "      <th></th>\n",
       "      <th></th>\n",
       "      <th></th>\n",
       "      <th></th>\n",
       "      <th></th>\n",
       "      <th></th>\n",
       "      <th></th>\n",
       "      <th></th>\n",
       "      <th></th>\n",
       "    </tr>\n",
       "  </thead>\n",
       "  <tbody>\n",
       "    <tr>\n",
       "      <th>1999-10-01</th>\n",
       "      <td>NaN</td>\n",
       "      <td>NaN</td>\n",
       "      <td>NaN</td>\n",
       "      <td>NaN</td>\n",
       "      <td>NaN</td>\n",
       "      <td>NaN</td>\n",
       "      <td>NaN</td>\n",
       "      <td>1.09</td>\n",
       "      <td>NaN</td>\n",
       "      <td>0.418333</td>\n",
       "      <td>NaN</td>\n",
       "      <td>NaN</td>\n",
       "      <td>NaN</td>\n",
       "    </tr>\n",
       "    <tr>\n",
       "      <th>1999-11-01</th>\n",
       "      <td>-0.04</td>\n",
       "      <td>12.5657</td>\n",
       "      <td>0.4464</td>\n",
       "      <td>4.329681</td>\n",
       "      <td>1.888246</td>\n",
       "      <td>17.9</td>\n",
       "      <td>0.059435</td>\n",
       "      <td>0.80</td>\n",
       "      <td>NaN</td>\n",
       "      <td>0.435833</td>\n",
       "      <td>-0.29</td>\n",
       "      <td>3.893847</td>\n",
       "      <td>1.452412</td>\n",
       "    </tr>\n",
       "    <tr>\n",
       "      <th>1999-12-01</th>\n",
       "      <td>-0.15</td>\n",
       "      <td>21.6611</td>\n",
       "      <td>0.7115</td>\n",
       "      <td>22.990033</td>\n",
       "      <td>5.623278</td>\n",
       "      <td>35.2</td>\n",
       "      <td>0.000000</td>\n",
       "      <td>0.92</td>\n",
       "      <td>-0.059435</td>\n",
       "      <td>0.446667</td>\n",
       "      <td>0.12</td>\n",
       "      <td>22.543367</td>\n",
       "      <td>5.176611</td>\n",
       "    </tr>\n",
       "    <tr>\n",
       "      <th>2000-02-01</th>\n",
       "      <td>-0.03</td>\n",
       "      <td>-4.2935</td>\n",
       "      <td>0.2774</td>\n",
       "      <td>-4.475790</td>\n",
       "      <td>-7.255785</td>\n",
       "      <td>-50.8</td>\n",
       "      <td>0.887317</td>\n",
       "      <td>0.79</td>\n",
       "      <td>0.887317</td>\n",
       "      <td>0.477500</td>\n",
       "      <td>-0.13</td>\n",
       "      <td>-4.953290</td>\n",
       "      <td>-7.733285</td>\n",
       "    </tr>\n",
       "    <tr>\n",
       "      <th>2000-03-01</th>\n",
       "      <td>0.08</td>\n",
       "      <td>4.4365</td>\n",
       "      <td>0.3597</td>\n",
       "      <td>20.322824</td>\n",
       "      <td>9.232375</td>\n",
       "      <td>11.5</td>\n",
       "      <td>0.821119</td>\n",
       "      <td>0.40</td>\n",
       "      <td>-0.066198</td>\n",
       "      <td>0.488333</td>\n",
       "      <td>-0.39</td>\n",
       "      <td>19.834491</td>\n",
       "      <td>8.744042</td>\n",
       "    </tr>\n",
       "  </tbody>\n",
       "</table>\n",
       "</div>"
      ],
      "text/plain": [
       "            dspread  dcredit   dprod     rmsoft    rsandp  dmoney  inflation  \\\n",
       "Date                                                                           \n",
       "1999-10-01      NaN      NaN     NaN        NaN       NaN     NaN        NaN   \n",
       "1999-11-01    -0.04  12.5657  0.4464   4.329681  1.888246    17.9   0.059435   \n",
       "1999-12-01    -0.15  21.6611  0.7115  22.990033  5.623278    35.2   0.000000   \n",
       "2000-02-01    -0.03  -4.2935  0.2774  -4.475790 -7.255785   -50.8   0.887317   \n",
       "2000-03-01     0.08   4.4365  0.3597  20.322824  9.232375    11.5   0.821119   \n",
       "\n",
       "            term  dinflation   mustb3m  rterm    ermsoft   ersandp  \n",
       "Date                                                                \n",
       "1999-10-01  1.09         NaN  0.418333    NaN        NaN       NaN  \n",
       "1999-11-01  0.80         NaN  0.435833  -0.29   3.893847  1.452412  \n",
       "1999-12-01  0.92   -0.059435  0.446667   0.12  22.543367  5.176611  \n",
       "2000-02-01  0.79    0.887317  0.477500  -0.13  -4.953290 -7.733285  \n",
       "2000-03-01  0.40   -0.066198  0.488333  -0.39  19.834491  8.744042  "
      ]
     },
     "execution_count": 163,
     "metadata": {},
     "output_type": "execute_result"
    }
   ],
   "source": [
    "data.head()"
   ]
  },
  {
   "cell_type": "code",
   "execution_count": null,
   "metadata": {},
   "outputs": [],
   "source": []
  },
  {
   "cell_type": "markdown",
   "metadata": {},
   "source": [
    "Perform best subset selection by identifying the best model that contains a given number of predictors, where best is quantified using RSS."
   ]
  },
  {
   "cell_type": "code",
   "execution_count": 164,
   "metadata": {},
   "outputs": [],
   "source": [
    "def get_models(k, X, y):\n",
    "    \"\"\"\n",
    "    Fit all possible models that contain exactly k predictors.\n",
    "    \"\"\"\n",
    "    # List all available predictors\n",
    "    X_combos = itertools.combinations(list(X.columns), k)\n",
    "    \n",
    "    # Fit all models accumulating Residual Sum of Squares (RSS)\n",
    "    models = []\n",
    "    for X_label in X_combos:\n",
    "        # Parse patsy formula\n",
    "        X_smf = ' + '.join(X_label)\n",
    "        f     = 'ermsoft ~ {}'.format(X_smf)\n",
    "        # Fit model\n",
    "        model = smf.ols(formula=f, data=pd.concat([X, y], axis=1)).fit()\n",
    "        # Return results\n",
    "        models += [(f, model)]\n",
    "    return models\n",
    "\n",
    "\n",
    "def min_rss(statsmodels):\n",
    "    \"\"\"Return model with lowest Residual Sum of Squares (RSS)\"\"\"\n",
    "    return sorted(statsmodels, key=lambda tup: tup[1].ssr)[0]\n",
    "\n",
    "\n",
    "def max_adjr2(statsmodels):\n",
    "    \"\"\"Return model with lowest R-squared\"\"\"\n",
    "    return sorted(statsmodels, reverse=True, key=lambda tup: tup[1].rsquared_adj)[0]\n"
   ]
  },
  {
   "cell_type": "markdown",
   "metadata": {},
   "source": [
    "Which model with 2 predictors yields lowest RSS score?"
   ]
  },
  {
   "cell_type": "code",
   "execution_count": 105,
   "metadata": {},
   "outputs": [
    {
     "name": "stdout",
     "output_type": "stream",
     "text": [
      "This model yields the lowest RSS score for the subset of models with 3 predictors:\n"
     ]
    },
    {
     "data": {
      "text/plain": [
       "('ermsoft ~ dspread + mustb3m + ersandp',\n",
       " <statsmodels.regression.linear_model.RegressionResultsWrapper at 0x7f5be449f340>)"
      ]
     },
     "metadata": {},
     "output_type": "display_data"
    },
    {
     "name": "stdout",
     "output_type": "stream",
     "text": [
      "This model yields the highest adjusted R-squared score for the subset of models with 3 predictors:\n"
     ]
    },
    {
     "data": {
      "text/plain": [
       "('ermsoft ~ dspread + mustb3m + ersandp',\n",
       " <statsmodels.regression.linear_model.RegressionResultsWrapper at 0x7f5be43d2950>)"
      ]
     },
     "execution_count": 105,
     "metadata": {},
     "output_type": "execute_result"
    }
   ],
   "source": [
    "X = data.drop(data[['ermsoft', \"rmsoft\", \"rsandp\", \"inflation\", \"term\"]], axis=1)\n",
    "y = data['ermsoft']\n",
    "\n",
    "# Set number ofr predictors in subset\n",
    "k = 3\n",
    "\n",
    "# Get all possible models in subset\n",
    "subset = get_models(3, X, y)\n",
    "\n",
    "# Display results\n",
    "print('This model yields the lowest RSS score for the subset of models with {} predictors:'.format(k))\n",
    "display(min_rss(subset))\n",
    "\n",
    "print('This model yields the highest adjusted R-squared score for the subset of models with {} predictors:'.format(k))\n",
    "max_adjr2(get_models(3, X, y))"
   ]
  },
  {
   "cell_type": "code",
   "execution_count": 106,
   "metadata": {},
   "outputs": [
    {
     "data": {
      "text/plain": [
       "Index(['dspread', 'dcredit', 'dprod', 'dmoney', 'dinflation', 'mustb3m',\n",
       "       'rterm', 'ersandp'],\n",
       "      dtype='object')"
      ]
     },
     "execution_count": 106,
     "metadata": {},
     "output_type": "execute_result"
    }
   ],
   "source": [
    "X.columns"
   ]
  },
  {
   "cell_type": "markdown",
   "metadata": {},
   "source": [
    "The model with 2 predictors that yields the lowest RSS score is the one that uses the predictors 'rterm', and 'ersandp'"
   ]
  },
  {
   "cell_type": "markdown",
   "metadata": {},
   "source": [
    "### How do the the maximum $R^2$, minimum RSS, and BIC statistics vary for each subset with k predictors? \n",
    "\n",
    "First we fit all possible models in each subset of models with k predictors. This turns out to be a very computationally expensive process, running on my laptop for XX minutes yielded results up to only k=6 and occupied XXGB of memeory. Not suprising as number of possible combinations without repetition is given by:\n",
    "\n",
    "$\\frac{p!}{k!(p-k)!}$\n",
    "\n",
    "Where *p* is number of predictors to choose from and we choose *k* of them.\n",
    "\n",
    "In this example p=8, there are 8 predictors.\n",
    "\n",
    "For k = 6 the number of possible combinations is given by:\n",
    "\n",
    "$\\frac{8!}{2!x 6!} = 28$"
   ]
  },
  {
   "cell_type": "code",
   "execution_count": 107,
   "metadata": {},
   "outputs": [
    {
     "data": {
      "text/plain": [
       "28.0"
      ]
     },
     "execution_count": 107,
     "metadata": {},
     "output_type": "execute_result"
    }
   ],
   "source": [
    "40320/(2*720)"
   ]
  },
  {
   "cell_type": "code",
   "execution_count": 108,
   "metadata": {},
   "outputs": [
    {
     "name": "stdout",
     "output_type": "stream",
     "text": [
      "The factorial of  9  is : \n",
      "362880\n"
     ]
    }
   ],
   "source": [
    "import math\n",
    "num = input(\"Enter a number: \")\n",
    "print(\"The factorial of \", num, \" is : \")\n",
    "print(math.factorial(int(num)))"
   ]
  },
  {
   "cell_type": "code",
   "execution_count": 109,
   "metadata": {},
   "outputs": [
    {
     "name": "stdout",
     "output_type": "stream",
     "text": [
      "The factorial of  9  is : \n",
      "362880\n"
     ]
    }
   ],
   "source": [
    "import math\n",
    "num = input(\"Enter a number: \")\n",
    "print(\"The factorial of \", num, \" is : \")\n",
    "print(math.factorial(int(num)))"
   ]
  },
  {
   "cell_type": "code",
   "execution_count": 110,
   "metadata": {},
   "outputs": [
    {
     "data": {
      "image/png": "[encoded data removed]",
      "text/plain": [
       "<Figure size 640x480 with 1 Axes>"
      ]
     },
     "metadata": {},
     "output_type": "display_data"
    }
   ],
   "source": [
    "# How does the number of possible combinations of the 8 features vary with k?\n",
    "# Lets do a quick plot to find out!\n",
    "\n",
    "from scipy.special import factorial\n",
    "\n",
    "n = 8\n",
    "k = np.arange(1, n+1)\n",
    "y = factorial(n) / (factorial(k)*factorial(n-k))\n",
    "\n",
    "ax = sns.lineplot(x=k, y=y)\n",
    "plt.xlabel('k')\n",
    "plt.ylabel('combinations');"
   ]
  },
  {
   "cell_type": "markdown",
   "metadata": {},
   "source": [
    "The plot above shows that there up to ~70 possible combinations of the predictors without repetition for some values of k when p = 8\n",
    "\n",
    "The objective is provide comparison of the $R^2$ statistic for all combinations of 8 predictors."
   ]
  },
  {
   "cell_type": "code",
   "execution_count": 111,
   "metadata": {},
   "outputs": [],
   "source": [
    "# Pick subset of predictors \n",
    "X = data.drop(data[['ermsoft', \"rmsoft\", \"rsandp\", \"inflation\", \"term\"]], axis=1)\n",
    "y = data['ermsoft']"
   ]
  },
  {
   "cell_type": "code",
   "execution_count": 112,
   "metadata": {},
   "outputs": [
    {
     "name": "stdout",
     "output_type": "stream",
     "text": [
      "Progess: k = 1, done\n",
      "Progess: k = 2, done\n",
      "Progess: k = 3, done\n",
      "Progess: k = 4, done\n",
      "Progess: k = 5, done\n",
      "Progess: k = 6, done\n",
      "Progess: k = 7, done\n",
      "Progess: k = 8, done\n"
     ]
    }
   ],
   "source": [
    "# get all model results\n",
    "model_subsets = []\n",
    "for k in range(len(X.columns)):\n",
    "    k=k+1\n",
    "    subset = get_models(k, X, y)\n",
    "    model_subsets += [subset]\n",
    "    print('Progess: k = {}, done'.format(k))"
   ]
  },
  {
   "cell_type": "code",
   "execution_count": 113,
   "metadata": {},
   "outputs": [
    {
     "data": {
      "image/png": "[encoded data removed]",
      "text/plain": [
       "<Figure size 640x480 with 1 Axes>"
      ]
     },
     "metadata": {},
     "output_type": "display_data"
    },
    {
     "data": {
      "image/png": "[encoded data removed]",
      "text/plain": [
       "<Figure size 640x480 with 1 Axes>"
      ]
     },
     "metadata": {},
     "output_type": "display_data"
    },
    {
     "data": {
      "image/png": "[encoded data removed]",
      "text/plain": [
       "<Figure size 640x480 with 1 Axes>"
      ]
     },
     "metadata": {},
     "output_type": "display_data"
    }
   ],
   "source": [
    "# Get best rss score for each subset\n",
    "rss   = [min_rss(m)[1].ssr for m in model_subsets]\n",
    "\n",
    "# Get best r-squared score for each subset\n",
    "adjr2 = [max_adjr2(m)[1].rsquared_adj for m in model_subsets]\n",
    "k     = np.arange(1, len(rss)+1)\n",
    "\n",
    "\n",
    "# Get best BIC\n",
    "def min_bic(statsmodels):\n",
    "    \"\"\"Return model with lowest R-squared\"\"\"\n",
    "    return sorted(statsmodels, reverse=False, key=lambda tup: tup[1].bic)[0]\n",
    "\n",
    "bic = [min_bic(m)[1].bic for m in model_subsets]\n",
    "\n",
    "\n",
    "ax = sns.lineplot(x=k, y=rss)\n",
    "plt.xlabel('k')\n",
    "plt.ylabel('rss')\n",
    "plt.show()\n",
    "\n",
    "sns.lineplot(x=k, y=adjr2)\n",
    "plt.xlabel('k')\n",
    "plt.ylabel('$R^2$')\n",
    "plt.show()\n",
    "\n",
    "sns.lineplot(x=k, y=bic)\n",
    "plt.xlabel('k')\n",
    "plt.ylabel('BIC')\n",
    "plt.show()"
   ]
  },
  {
   "cell_type": "markdown",
   "metadata": {},
   "source": [
    "The stats above seem to confer that a model with around 4 predictors is best. But has each method chosen the same or similar models?"
   ]
  },
  {
   "cell_type": "code",
   "execution_count": 114,
   "metadata": {},
   "outputs": [
    {
     "name": "stdout",
     "output_type": "stream",
     "text": [
      "['dspread', 'dinflation', 'mustb3m', 'ersandp']\n"
     ]
    }
   ],
   "source": [
    "best_subset_4 = list(min_rss(model_subsets[3])[1].params.index)[1:]\n",
    "print(best_subset_4)"
   ]
  },
  {
   "cell_type": "code",
   "execution_count": 115,
   "metadata": {},
   "outputs": [
    {
     "data": {
      "text/plain": [
       "['dspread', 'dinflation', 'mustb3m', 'ersandp']"
      ]
     },
     "execution_count": 115,
     "metadata": {},
     "output_type": "execute_result"
    }
   ],
   "source": [
    "list(max_adjr2(model_subsets[3])[1].params.index)[1:]"
   ]
  },
  {
   "cell_type": "code",
   "execution_count": 116,
   "metadata": {},
   "outputs": [
    {
     "data": {
      "text/plain": [
       "['dspread', 'dinflation', 'mustb3m', 'ersandp']"
      ]
     },
     "execution_count": 116,
     "metadata": {},
     "output_type": "execute_result"
    }
   ],
   "source": [
    "list(min_bic(model_subsets[3])[1].params.index)[1:]"
   ]
  },
  {
   "cell_type": "markdown",
   "metadata": {},
   "source": [
    "All three statisticis yield the same model for the subset with 4 predictors. This is expected for RSS and R-squared stats because they are related."
   ]
  },
  {
   "cell_type": "markdown",
   "metadata": {},
   "source": [
    "### Forward and Backward Stepwise Selection"
   ]
  },
  {
   "cell_type": "code",
   "execution_count": 117,
   "metadata": {},
   "outputs": [],
   "source": [
    "def scale(df):\n",
    "    \"\"\"Xi = Xi - mu(Xi) / σ(Xi)\"\"\"\n",
    "    return (df-df.mean())/(df.std())\n",
    "\n",
    "\n",
    "def forward_stepwise(X, y, results=[(0, [])]):\n",
    "    \"\"\"Perform forward stepwise variable selection as described in\n",
    "    An Introductions to Statistical Learning (p.207)\n",
    "    Returns pandas dataframe object  with results for each step\"\"\"\n",
    "    # List predictors that havent's been used so far\n",
    "    p_all    = list(X.columns)\n",
    "    p_used   = results[-1][1]\n",
    "    p_unused = [p for p in p_all if p not in p_used]\n",
    "    \n",
    "    # Job done, exit recursion\n",
    "    if not p_unused:\n",
    "        rss   = [r[0] for r in results]\n",
    "        preds = [r[1] for r in results]\n",
    "        return pd.DataFrame({'rss': rss, 'predictors': preds}).drop(0).reset_index()\n",
    "    \n",
    "    # Get rss score for each possible additional predictor\n",
    "    r = []\n",
    "    for p in p_unused:\n",
    "        f     = 'ermsoft ~ {}'.format('+'.join([p]+p_used))\n",
    "        # Fit model\n",
    "        model = smf.ols(formula=f, data=pd.concat([X, y], axis=1)).fit()\n",
    "        r     += [(model.ssr, [p]+p_used)]\n",
    "    \n",
    "    # Choose predictor which yields lowest rss\n",
    "    min_rss     = sorted(r, key=lambda tup: tup[0])[0]   \n",
    "    new_results = results + [min_rss]\n",
    "    # Recursive call to self\n",
    "    return forward_stepwise(X, y, new_results)\n",
    "\n",
    "\n",
    "def backward_stepwise(X, y, results=[]):\n",
    "    \"\"\"Returns pandas dataframe object  with results for each step\"\"\"\n",
    "    # List predictors that havent's been used so far\n",
    "    p_all    = list(X.columns)\n",
    "\n",
    "    # Check if we're starting out here\n",
    "    if not results:\n",
    "        # Fit model with all features\n",
    "        f     = 'ermsoft ~ {}'.format('+'.join(p_all))\n",
    "        model = smf.ols(formula=f, data=pd.concat([X, y], axis=1)).fit()\n",
    "        # Begin backward stepwise recursion\n",
    "        return backward_stepwise(X, y, [(model.ssr, p_all)])\n",
    "    else:\n",
    "        p_used = results[-1][1]\n",
    "    \n",
    "    # Job done, exit recursion\n",
    "    if len(p_used) == 1:\n",
    "        rss   = [r[0] for r in results]\n",
    "        preds = [r[1] for r in results]\n",
    "        return pd.DataFrame({'rss': rss, 'predictors': preds})    \n",
    "    \n",
    "    # Get rss score for each possible removed predictor\n",
    "    r = []\n",
    "    for p in p_used:\n",
    "        p_test = [i for i in p_used if i != p]\n",
    "        f     = 'ermsoft ~ {}'.format('+'.join(p_test))\n",
    "        # Fit model\n",
    "        model = smf.ols(formula=f, data=pd.concat([X, y], axis=1)).fit()\n",
    "        r     += [(model.ssr, p_test)]\n",
    "    \n",
    "    # Choose removal of predictor which yields lowest rss\n",
    "    min_rss     = sorted(r, key=lambda tup: tup[0])[0]   \n",
    "    new_results = results + [min_rss]\n",
    "    return backward_stepwise(X, y, new_results)"
   ]
  },
  {
   "cell_type": "code",
   "execution_count": 118,
   "metadata": {},
   "outputs": [
    {
     "data": {
      "text/html": [
       "<h4>Forward Stepwise Selection</h4>"
      ],
      "text/plain": [
       "<IPython.core.display.HTML object>"
      ]
     },
     "metadata": {},
     "output_type": "display_data"
    },
    {
     "data": {
      "text/html": [
       "<div>\n",
       "<style scoped>\n",
       "    .dataframe tbody tr th:only-of-type {\n",
       "        vertical-align: middle;\n",
       "    }\n",
       "\n",
       "    .dataframe tbody tr th {\n",
       "        vertical-align: top;\n",
       "    }\n",
       "\n",
       "    .dataframe thead th {\n",
       "        text-align: right;\n",
       "    }\n",
       "</style>\n",
       "<table border=\"1\" class=\"dataframe\">\n",
       "  <thead>\n",
       "    <tr style=\"text-align: right;\">\n",
       "      <th></th>\n",
       "      <th>index</th>\n",
       "      <th>rss</th>\n",
       "      <th>predictors</th>\n",
       "    </tr>\n",
       "  </thead>\n",
       "  <tbody>\n",
       "    <tr>\n",
       "      <th>0</th>\n",
       "      <td>1</td>\n",
       "      <td>12075.293990</td>\n",
       "      <td>[dspread]</td>\n",
       "    </tr>\n",
       "    <tr>\n",
       "      <th>1</th>\n",
       "      <td>2</td>\n",
       "      <td>11469.185321</td>\n",
       "      <td>[mustb3m, dspread]</td>\n",
       "    </tr>\n",
       "    <tr>\n",
       "      <th>2</th>\n",
       "      <td>3</td>\n",
       "      <td>11347.337171</td>\n",
       "      <td>[ersandp, mustb3m, dspread]</td>\n",
       "    </tr>\n",
       "    <tr>\n",
       "      <th>3</th>\n",
       "      <td>4</td>\n",
       "      <td>11260.323344</td>\n",
       "      <td>[dinflation, ersandp, mustb3m, dspread]</td>\n",
       "    </tr>\n",
       "    <tr>\n",
       "      <th>4</th>\n",
       "      <td>5</td>\n",
       "      <td>11195.170348</td>\n",
       "      <td>[dmoney, dinflation, ersandp, mustb3m, dspread]</td>\n",
       "    </tr>\n",
       "    <tr>\n",
       "      <th>5</th>\n",
       "      <td>6</td>\n",
       "      <td>11168.473506</td>\n",
       "      <td>[dprod, dmoney, dinflation, ersandp, mustb3m, ...</td>\n",
       "    </tr>\n",
       "    <tr>\n",
       "      <th>6</th>\n",
       "      <td>7</td>\n",
       "      <td>11149.337886</td>\n",
       "      <td>[dcredit, dprod, dmoney, dinflation, ersandp, ...</td>\n",
       "    </tr>\n",
       "    <tr>\n",
       "      <th>7</th>\n",
       "      <td>8</td>\n",
       "      <td>11138.319180</td>\n",
       "      <td>[rterm, dcredit, dprod, dmoney, dinflation, er...</td>\n",
       "    </tr>\n",
       "  </tbody>\n",
       "</table>\n",
       "</div>"
      ],
      "text/plain": [
       "   index           rss                                         predictors\n",
       "0      1  12075.293990                                          [dspread]\n",
       "1      2  11469.185321                                 [mustb3m, dspread]\n",
       "2      3  11347.337171                        [ersandp, mustb3m, dspread]\n",
       "3      4  11260.323344            [dinflation, ersandp, mustb3m, dspread]\n",
       "4      5  11195.170348    [dmoney, dinflation, ersandp, mustb3m, dspread]\n",
       "5      6  11168.473506  [dprod, dmoney, dinflation, ersandp, mustb3m, ...\n",
       "6      7  11149.337886  [dcredit, dprod, dmoney, dinflation, ersandp, ...\n",
       "7      8  11138.319180  [rterm, dcredit, dprod, dmoney, dinflation, er..."
      ]
     },
     "metadata": {},
     "output_type": "display_data"
    },
    {
     "data": {
      "text/html": [
       "<h4>Backward Stepwise Selection</h4>"
      ],
      "text/plain": [
       "<IPython.core.display.HTML object>"
      ]
     },
     "metadata": {},
     "output_type": "display_data"
    },
    {
     "data": {
      "text/html": [
       "<div>\n",
       "<style scoped>\n",
       "    .dataframe tbody tr th:only-of-type {\n",
       "        vertical-align: middle;\n",
       "    }\n",
       "\n",
       "    .dataframe tbody tr th {\n",
       "        vertical-align: top;\n",
       "    }\n",
       "\n",
       "    .dataframe thead th {\n",
       "        text-align: right;\n",
       "    }\n",
       "</style>\n",
       "<table border=\"1\" class=\"dataframe\">\n",
       "  <thead>\n",
       "    <tr style=\"text-align: right;\">\n",
       "      <th></th>\n",
       "      <th>rss</th>\n",
       "      <th>predictors</th>\n",
       "    </tr>\n",
       "  </thead>\n",
       "  <tbody>\n",
       "    <tr>\n",
       "      <th>0</th>\n",
       "      <td>11138.319180</td>\n",
       "      <td>[dspread, dcredit, dprod, dmoney, dinflation, ...</td>\n",
       "    </tr>\n",
       "    <tr>\n",
       "      <th>1</th>\n",
       "      <td>11149.337886</td>\n",
       "      <td>[dspread, dcredit, dprod, dmoney, dinflation, ...</td>\n",
       "    </tr>\n",
       "    <tr>\n",
       "      <th>2</th>\n",
       "      <td>11168.473506</td>\n",
       "      <td>[dspread, dprod, dmoney, dinflation, mustb3m, ...</td>\n",
       "    </tr>\n",
       "    <tr>\n",
       "      <th>3</th>\n",
       "      <td>11195.170348</td>\n",
       "      <td>[dspread, dmoney, dinflation, mustb3m, ersandp]</td>\n",
       "    </tr>\n",
       "    <tr>\n",
       "      <th>4</th>\n",
       "      <td>11260.323344</td>\n",
       "      <td>[dspread, dinflation, mustb3m, ersandp]</td>\n",
       "    </tr>\n",
       "    <tr>\n",
       "      <th>5</th>\n",
       "      <td>11347.337171</td>\n",
       "      <td>[dspread, mustb3m, ersandp]</td>\n",
       "    </tr>\n",
       "    <tr>\n",
       "      <th>6</th>\n",
       "      <td>11469.185321</td>\n",
       "      <td>[dspread, mustb3m]</td>\n",
       "    </tr>\n",
       "    <tr>\n",
       "      <th>7</th>\n",
       "      <td>12075.293990</td>\n",
       "      <td>[dspread]</td>\n",
       "    </tr>\n",
       "  </tbody>\n",
       "</table>\n",
       "</div>"
      ],
      "text/plain": [
       "            rss                                         predictors\n",
       "0  11138.319180  [dspread, dcredit, dprod, dmoney, dinflation, ...\n",
       "1  11149.337886  [dspread, dcredit, dprod, dmoney, dinflation, ...\n",
       "2  11168.473506  [dspread, dprod, dmoney, dinflation, mustb3m, ...\n",
       "3  11195.170348    [dspread, dmoney, dinflation, mustb3m, ersandp]\n",
       "4  11260.323344            [dspread, dinflation, mustb3m, ersandp]\n",
       "5  11347.337171                        [dspread, mustb3m, ersandp]\n",
       "6  11469.185321                                 [dspread, mustb3m]\n",
       "7  12075.293990                                          [dspread]"
      ]
     },
     "metadata": {},
     "output_type": "display_data"
    }
   ],
   "source": [
    "X = scale(X)\n",
    "\n",
    "forward_stepwise_results = forward_stepwise(X, y)\n",
    "display(HTML('<h4>Forward Stepwise Selection</h4>'))\n",
    "display(forward_stepwise_results)\n",
    "\n",
    "backward_stepwise_results = backward_stepwise(X, y)\n",
    "display(HTML('<h4>Backward Stepwise Selection</h4>'))\n",
    "display(backward_stepwise_results)"
   ]
  },
  {
   "cell_type": "code",
   "execution_count": 119,
   "metadata": {},
   "outputs": [
    {
     "data": {
      "text/html": [
       "<h4>Comparison of methods for subset with 4 predictors</h4>"
      ],
      "text/plain": [
       "<IPython.core.display.HTML object>"
      ]
     },
     "metadata": {},
     "output_type": "display_data"
    },
    {
     "name": "stdout",
     "output_type": "stream",
     "text": [
      "Best Subset Selection       : ['dinflation', 'dspread', 'ersandp', 'mustb3m']\n",
      "Forward Stepwise Selection  : ['dinflation', 'dspread', 'ersandp', 'mustb3m']\n",
      "Backward Stepwise Selection : ['dinflation', 'dspread', 'ersandp', 'mustb3m']\n"
     ]
    }
   ],
   "source": [
    "display(HTML('<h4>Comparison of methods for subset with 4 predictors</h4>'))\n",
    "print('Best Subset Selection       : {}'.format(sorted(best_subset_4)))\n",
    "print('Forward Stepwise Selection  : {}'.format(sorted(forward_stepwise_results.loc[3]['predictors'])))\n",
    "print('Backward Stepwise Selection : {}'.format(sorted(backward_stepwise_results.loc[4]['predictors'])))"
   ]
  },
  {
   "cell_type": "markdown",
   "metadata": {},
   "source": [
    "The above results show that all three methods choose the same 4 predictors."
   ]
  },
  {
   "cell_type": "markdown",
   "metadata": {},
   "source": [
    "### Choosing Among Models Using the Validation Set Approach and Cross-Validation"
   ]
  },
  {
   "cell_type": "code",
   "execution_count": 120,
   "metadata": {},
   "outputs": [],
   "source": [
    "def best_subset_rss(X, y):\n",
    "    \"\"\"Perform best subset selection using Residual Sum of Squares to\n",
    "    select best model in each subset.\n",
    "    Notes: highly computationally expensive for large number of features in  X\n",
    "    Maxes out my laptop for p > 14\"\"\"\n",
    "    # get all model results\n",
    "    model_subsets = []\n",
    "    for k in range(len(X.columns)):\n",
    "        k=k+1\n",
    "        subset = get_models(k, X, y)\n",
    "        model_subsets += [subset]\n",
    "        print('Best subset selected: k = {}/{}, done'.format(k, len(X.columns)))\n",
    "    # Get best rss score for each subset\n",
    "    return [min_rss(m) for m in model_subsets]\n",
    "\n",
    "def mse(y_hat, y):\n",
    "    \"\"\"Calculate Mean Squared Error\"\"\"\n",
    "    return np.sum(np.square(y_hat - y)) / y.size"
   ]
  },
  {
   "cell_type": "code",
   "execution_count": 121,
   "metadata": {},
   "outputs": [],
   "source": [
    "# Create index for 50% holdout set\n",
    "np.random.seed(1)\n",
    "train = np.random.rand(len(data)) < 0.5\n",
    "\n",
    "response   = 'ermsoft'\n",
    "\n",
    "# Assign train and test sets\n",
    "X_train = data[train][['dspread', 'dcredit', 'dprod', 'dmoney','dinflation', 'mustb3m', 'rterm', 'ersandp']]\n",
    "X_test  = data[~train][['dspread', 'dcredit', 'dprod', 'dmoney','dinflation', 'mustb3m', 'rterm', 'ersandp']]\n",
    "y_train = data[train][response]\n",
    "y_test  = data[~train][response]"
   ]
  },
  {
   "cell_type": "code",
   "execution_count": 122,
   "metadata": {},
   "outputs": [
    {
     "name": "stdout",
     "output_type": "stream",
     "text": [
      "Best subset selected: k = 1/8, done\n",
      "Best subset selected: k = 2/8, done\n",
      "Best subset selected: k = 3/8, done\n",
      "Best subset selected: k = 4/8, done\n",
      "Best subset selected: k = 5/8, done\n",
      "Best subset selected: k = 6/8, done\n",
      "Best subset selected: k = 7/8, done\n",
      "Best subset selected: k = 8/8, done\n"
     ]
    }
   ],
   "source": [
    "# Perform best_subset selection\n",
    "best_subsets = best_subset_rss(X_train, y_train)"
   ]
  },
  {
   "cell_type": "code",
   "execution_count": 123,
   "metadata": {},
   "outputs": [
    {
     "data": {
      "text/html": [
       "<div>\n",
       "<style scoped>\n",
       "    .dataframe tbody tr th:only-of-type {\n",
       "        vertical-align: middle;\n",
       "    }\n",
       "\n",
       "    .dataframe tbody tr th {\n",
       "        vertical-align: top;\n",
       "    }\n",
       "\n",
       "    .dataframe thead th {\n",
       "        text-align: right;\n",
       "    }\n",
       "</style>\n",
       "<table border=\"1\" class=\"dataframe\">\n",
       "  <thead>\n",
       "    <tr style=\"text-align: right;\">\n",
       "      <th></th>\n",
       "      <th>predictors</th>\n",
       "      <th>MSE</th>\n",
       "    </tr>\n",
       "  </thead>\n",
       "  <tbody>\n",
       "    <tr>\n",
       "      <th>0</th>\n",
       "      <td>1</td>\n",
       "      <td>106.738755</td>\n",
       "    </tr>\n",
       "    <tr>\n",
       "      <th>1</th>\n",
       "      <td>2</td>\n",
       "      <td>100.394987</td>\n",
       "    </tr>\n",
       "    <tr>\n",
       "      <th>2</th>\n",
       "      <td>3</td>\n",
       "      <td>107.196139</td>\n",
       "    </tr>\n",
       "    <tr>\n",
       "      <th>3</th>\n",
       "      <td>4</td>\n",
       "      <td>132.479794</td>\n",
       "    </tr>\n",
       "    <tr>\n",
       "      <th>4</th>\n",
       "      <td>5</td>\n",
       "      <td>117.482074</td>\n",
       "    </tr>\n",
       "    <tr>\n",
       "      <th>5</th>\n",
       "      <td>6</td>\n",
       "      <td>121.904736</td>\n",
       "    </tr>\n",
       "    <tr>\n",
       "      <th>6</th>\n",
       "      <td>7</td>\n",
       "      <td>122.412871</td>\n",
       "    </tr>\n",
       "    <tr>\n",
       "      <th>7</th>\n",
       "      <td>8</td>\n",
       "      <td>121.836952</td>\n",
       "    </tr>\n",
       "  </tbody>\n",
       "</table>\n",
       "</div>"
      ],
      "text/plain": [
       "   predictors         MSE\n",
       "0           1  106.738755\n",
       "1           2  100.394987\n",
       "2           3  107.196139\n",
       "3           4  132.479794\n",
       "4           5  117.482074\n",
       "5           6  121.904736\n",
       "6           7  122.412871\n",
       "7           8  121.836952"
      ]
     },
     "metadata": {},
     "output_type": "display_data"
    },
    {
     "data": {
      "image/png": "[encoded data removed]",
      "text/plain": [
       "<Figure size 640x480 with 1 Axes>"
      ]
     },
     "metadata": {},
     "output_type": "display_data"
    }
   ],
   "source": [
    "# Using 50% hold out set\n",
    "# Measure mean squared error for each model selected by best subset selection\n",
    "MSEs = []\n",
    "for m in best_subsets:\n",
    "    model = m[1]\n",
    "    y_hat = model.predict(X_test)\n",
    "    r     = mse(y_hat, y_test)\n",
    "    MSEs += [r]\n",
    "\n",
    "results = pd.DataFrame({'predictors': np.arange(1, 9), 'MSE': MSEs})\n",
    "display(results)\n",
    "sns.lineplot(x='predictors', y='MSE', data=results);"
   ]
  },
  {
   "cell_type": "markdown",
   "metadata": {},
   "source": [
    "Above we performed best subset selection up to 10 predictors using the training set createad from a 50% hold-out set. We then use the test set to measure the MSE for the selected model in each subset of p predictors. \n",
    "\n",
    "We observe the lowest MSE for the model with 7 predictors."
   ]
  },
  {
   "cell_type": "code",
   "execution_count": 124,
   "metadata": {},
   "outputs": [
    {
     "data": {
      "text/plain": [
       "'ermsoft ~ dspread + dcredit + dmoney + dinflation + mustb3m + rterm + ersandp'"
      ]
     },
     "execution_count": 124,
     "metadata": {},
     "output_type": "execute_result"
    }
   ],
   "source": [
    "# Which 7 predictors did best subset selection choose based on the TRAINING set?\n",
    "best_subsets[6][0]"
   ]
  },
  {
   "cell_type": "code",
   "execution_count": 125,
   "metadata": {},
   "outputs": [
    {
     "name": "stdout",
     "output_type": "stream",
     "text": [
      "Best subset selected: k = 1/8, done\n",
      "Best subset selected: k = 2/8, done\n",
      "Best subset selected: k = 3/8, done\n",
      "Best subset selected: k = 4/8, done\n",
      "Best subset selected: k = 5/8, done\n",
      "Best subset selected: k = 6/8, done\n",
      "Best subset selected: k = 7/8, done\n",
      "Best subset selected: k = 8/8, done\n"
     ]
    },
    {
     "data": {
      "text/plain": [
       "'ermsoft ~ dspread + dcredit + dprod + dmoney + dinflation + mustb3m + ersandp'"
      ]
     },
     "execution_count": 125,
     "metadata": {},
     "output_type": "execute_result"
    }
   ],
   "source": [
    "# Which 7 predictors does best subset selection choose based on the FULL set?\n",
    "best_subsets_full = best_subset_rss(data[['dspread', 'dcredit', 'dprod', 'dmoney','dinflation', 'mustb3m', 'rterm', 'ersandp']], data['ermsoft'])\n",
    "best_subsets_full[6][0]"
   ]
  },
  {
   "cell_type": "markdown",
   "metadata": {},
   "source": [
    "Both models are the same."
   ]
  },
  {
   "cell_type": "code",
   "execution_count": 126,
   "metadata": {},
   "outputs": [],
   "source": [
    "def cross_val(formula, X, y, k):\n",
    "    \"\"\"Perform k-fold cross validation to return mean MSE score\n",
    "    Expects formula as Patsy formula\"\"\"\n",
    "    # Split dataset into k-folds\n",
    "    # Note: np.array_split doesn't raise excpetion is folds are unequal in size\n",
    "    X_folds = np.array_split(X, k)\n",
    "    y_folds = np.array_split(y, k)\n",
    "    \n",
    "    MSEs = []\n",
    "    for f in np.arange(len(X_folds)):\n",
    "        # Create training and test sets\n",
    "        X_test  = X_folds[f]\n",
    "        y_test  = y_folds[f]\n",
    "        X_train = X.drop(X_folds[f].index)\n",
    "        y_train = y.drop(y_folds[f].index)\n",
    "        \n",
    "        # Fit model\n",
    "        model = smf.ols(formula=formula, data=pd.concat([X_train, y_train], axis=1)).fit()\n",
    "        \n",
    "        # Measure MSE\n",
    "        y_hat = model.predict(X_test)\n",
    "        MSEs += [mse(y_hat, y_test)]\n",
    "    return (MSEs, formula)"
   ]
  },
  {
   "cell_type": "code",
   "execution_count": 165,
   "metadata": {},
   "outputs": [
    {
     "name": "stdout",
     "output_type": "stream",
     "text": [
      "Best subset selected: k = 1/8, done\n",
      "Best subset selected: k = 2/8, done\n",
      "Best subset selected: k = 3/8, done\n",
      "Best subset selected: k = 4/8, done\n",
      "Best subset selected: k = 5/8, done\n",
      "Best subset selected: k = 6/8, done\n",
      "Best subset selected: k = 7/8, done\n",
      "Best subset selected: k = 8/8, done\n"
     ]
    }
   ],
   "source": [
    "# Get best subsets of predictors for full dataset\n",
    "\n",
    "best_subsets_full = best_subset_rss(X, y)"
   ]
  },
  {
   "cell_type": "code",
   "execution_count": 127,
   "metadata": {},
   "outputs": [
    {
     "data": {
      "text/html": [
       "<div>\n",
       "<style scoped>\n",
       "    .dataframe tbody tr th:only-of-type {\n",
       "        vertical-align: middle;\n",
       "    }\n",
       "\n",
       "    .dataframe tbody tr th {\n",
       "        vertical-align: top;\n",
       "    }\n",
       "\n",
       "    .dataframe thead th {\n",
       "        text-align: right;\n",
       "    }\n",
       "</style>\n",
       "<table border=\"1\" class=\"dataframe\">\n",
       "  <thead>\n",
       "    <tr style=\"text-align: right;\">\n",
       "      <th></th>\n",
       "      <th>predictors</th>\n",
       "      <th>MSE_mean</th>\n",
       "      <th>MSE_folds</th>\n",
       "      <th>Model</th>\n",
       "    </tr>\n",
       "  </thead>\n",
       "  <tbody>\n",
       "    <tr>\n",
       "      <th>0</th>\n",
       "      <td>1</td>\n",
       "      <td>87.459449</td>\n",
       "      <td>[171.64357247061176, 74.22246360003767, 26.068...</td>\n",
       "      <td>ermsoft ~ dspread</td>\n",
       "    </tr>\n",
       "    <tr>\n",
       "      <th>1</th>\n",
       "      <td>2</td>\n",
       "      <td>82.734586</td>\n",
       "      <td>[146.8549538575189, 71.76120565250692, 28.5619...</td>\n",
       "      <td>ermsoft ~ dspread + mustb3m</td>\n",
       "    </tr>\n",
       "    <tr>\n",
       "      <th>2</th>\n",
       "      <td>3</td>\n",
       "      <td>83.137086</td>\n",
       "      <td>[143.01609991082412, 71.69732847056672, 29.351...</td>\n",
       "      <td>ermsoft ~ dspread + mustb3m + ersandp</td>\n",
       "    </tr>\n",
       "    <tr>\n",
       "      <th>3</th>\n",
       "      <td>4</td>\n",
       "      <td>83.310400</td>\n",
       "      <td>[151.12354563464592, 69.42680672732226, 29.135...</td>\n",
       "      <td>ermsoft ~ dspread + dinflation + mustb3m + ers...</td>\n",
       "    </tr>\n",
       "    <tr>\n",
       "      <th>4</th>\n",
       "      <td>5</td>\n",
       "      <td>87.593267</td>\n",
       "      <td>[148.91565930956156, 68.1145617674375, 29.5138...</td>\n",
       "      <td>ermsoft ~ dspread + dmoney + dinflation + must...</td>\n",
       "    </tr>\n",
       "    <tr>\n",
       "      <th>5</th>\n",
       "      <td>6</td>\n",
       "      <td>88.541104</td>\n",
       "      <td>[148.18573255230982, 68.24985031468998, 29.083...</td>\n",
       "      <td>ermsoft ~ dspread + dprod + dmoney + dinflatio...</td>\n",
       "    </tr>\n",
       "    <tr>\n",
       "      <th>6</th>\n",
       "      <td>7</td>\n",
       "      <td>90.982077</td>\n",
       "      <td>[148.56203880693835, 69.52979281986579, 29.520...</td>\n",
       "      <td>ermsoft ~ dspread + dcredit + dprod + dmoney +...</td>\n",
       "    </tr>\n",
       "    <tr>\n",
       "      <th>7</th>\n",
       "      <td>8</td>\n",
       "      <td>98.510525</td>\n",
       "      <td>[196.2467231917207, 71.77636575529809, 31.1119...</td>\n",
       "      <td>ermsoft ~ dspread + dcredit + dprod + dmoney +...</td>\n",
       "    </tr>\n",
       "  </tbody>\n",
       "</table>\n",
       "</div>"
      ],
      "text/plain": [
       "   predictors   MSE_mean                                          MSE_folds  \\\n",
       "0           1  87.459449  [171.64357247061176, 74.22246360003767, 26.068...   \n",
       "1           2  82.734586  [146.8549538575189, 71.76120565250692, 28.5619...   \n",
       "2           3  83.137086  [143.01609991082412, 71.69732847056672, 29.351...   \n",
       "3           4  83.310400  [151.12354563464592, 69.42680672732226, 29.135...   \n",
       "4           5  87.593267  [148.91565930956156, 68.1145617674375, 29.5138...   \n",
       "5           6  88.541104  [148.18573255230982, 68.24985031468998, 29.083...   \n",
       "6           7  90.982077  [148.56203880693835, 69.52979281986579, 29.520...   \n",
       "7           8  98.510525  [196.2467231917207, 71.77636575529809, 31.1119...   \n",
       "\n",
       "                                               Model  \n",
       "0                                  ermsoft ~ dspread  \n",
       "1                        ermsoft ~ dspread + mustb3m  \n",
       "2              ermsoft ~ dspread + mustb3m + ersandp  \n",
       "3  ermsoft ~ dspread + dinflation + mustb3m + ers...  \n",
       "4  ermsoft ~ dspread + dmoney + dinflation + must...  \n",
       "5  ermsoft ~ dspread + dprod + dmoney + dinflatio...  \n",
       "6  ermsoft ~ dspread + dcredit + dprod + dmoney +...  \n",
       "7  ermsoft ~ dspread + dcredit + dprod + dmoney +...  "
      ]
     },
     "metadata": {},
     "output_type": "display_data"
    }
   ],
   "source": [
    "# Perform cross validation for each subset of predictors\n",
    "results = []\n",
    "for sub in best_subsets_full:\n",
    "    results += [cross_val(sub[0], X, y, 10)]\n",
    "\n",
    "results_a_df = pd.DataFrame({'predictors': list(np.arange(1, 9)),\n",
    "                           'MSE_mean': [np.mean(i[0]) for i in results],\n",
    "                           'MSE_folds': [i[0] for i in results],\n",
    "                           'Model': [i[1] for i in results]})\n",
    "display(results_a_df)\n"
   ]
  },
  {
   "cell_type": "code",
   "execution_count": 128,
   "metadata": {},
   "outputs": [
    {
     "data": {
      "image/png": "[encoded data removed]",
      "text/plain": [
       "<Figure size 640x480 with 1 Axes>"
      ]
     },
     "metadata": {},
     "output_type": "display_data"
    }
   ],
   "source": [
    "sns.lineplot(x='predictors', y='MSE_mean', data=results_a_df);"
   ]
  },
  {
   "cell_type": "code",
   "execution_count": 129,
   "metadata": {},
   "outputs": [
    {
     "data": {
      "text/html": [
       "<div>\n",
       "<style scoped>\n",
       "    .dataframe tbody tr th:only-of-type {\n",
       "        vertical-align: middle;\n",
       "    }\n",
       "\n",
       "    .dataframe tbody tr th {\n",
       "        vertical-align: top;\n",
       "    }\n",
       "\n",
       "    .dataframe thead th {\n",
       "        text-align: right;\n",
       "    }\n",
       "</style>\n",
       "<table border=\"1\" class=\"dataframe\">\n",
       "  <thead>\n",
       "    <tr style=\"text-align: right;\">\n",
       "      <th></th>\n",
       "      <th>predictors</th>\n",
       "      <th>MSE_mean</th>\n",
       "      <th>MSE_folds</th>\n",
       "      <th>Model</th>\n",
       "    </tr>\n",
       "  </thead>\n",
       "  <tbody>\n",
       "    <tr>\n",
       "      <th>1</th>\n",
       "      <td>2</td>\n",
       "      <td>82.734586</td>\n",
       "      <td>[146.8549538575189, 71.76120565250692, 28.5619...</td>\n",
       "      <td>ermsoft ~ dspread + mustb3m</td>\n",
       "    </tr>\n",
       "  </tbody>\n",
       "</table>\n",
       "</div>"
      ],
      "text/plain": [
       "   predictors   MSE_mean                                          MSE_folds  \\\n",
       "1           2  82.734586  [146.8549538575189, 71.76120565250692, 28.5619...   \n",
       "\n",
       "                         Model  \n",
       "1  ermsoft ~ dspread + mustb3m  "
      ]
     },
     "metadata": {},
     "output_type": "display_data"
    },
    {
     "data": {
      "text/plain": [
       "'ermsoft ~ dspread + mustb3m'"
      ]
     },
     "execution_count": 129,
     "metadata": {},
     "output_type": "execute_result"
    }
   ],
   "source": [
    "best_subset_choice = results_a_df[results_a_df['MSE_mean'] == results_a_df['MSE_mean'].min()]\n",
    "display(best_subset_choice)\n",
    "\n",
    "best_subset_choice['Model'].iloc[0]"
   ]
  },
  {
   "cell_type": "markdown",
   "metadata": {},
   "source": [
    "We see that 10-fold cross validation selects an 5 variable model. The estimated test MSE is 61.49."
   ]
  },
  {
   "cell_type": "markdown",
   "metadata": {},
   "source": [
    "### Can we get a better model by Backwards Stepwise on all features?"
   ]
  },
  {
   "cell_type": "code",
   "execution_count": null,
   "metadata": {},
   "outputs": [],
   "source": []
  },
  {
   "cell_type": "code",
   "execution_count": 130,
   "metadata": {},
   "outputs": [
    {
     "data": {
      "text/html": [
       "<div>\n",
       "<style scoped>\n",
       "    .dataframe tbody tr th:only-of-type {\n",
       "        vertical-align: middle;\n",
       "    }\n",
       "\n",
       "    .dataframe tbody tr th {\n",
       "        vertical-align: top;\n",
       "    }\n",
       "\n",
       "    .dataframe thead th {\n",
       "        text-align: right;\n",
       "    }\n",
       "</style>\n",
       "<table border=\"1\" class=\"dataframe\">\n",
       "  <thead>\n",
       "    <tr style=\"text-align: right;\">\n",
       "      <th></th>\n",
       "      <th>rss</th>\n",
       "      <th>predictors</th>\n",
       "      <th>predictor_count</th>\n",
       "    </tr>\n",
       "  </thead>\n",
       "  <tbody>\n",
       "    <tr>\n",
       "      <th>0</th>\n",
       "      <td>11138.319180</td>\n",
       "      <td>[dspread, dcredit, dprod, dmoney, dinflation, ...</td>\n",
       "      <td>1</td>\n",
       "    </tr>\n",
       "    <tr>\n",
       "      <th>1</th>\n",
       "      <td>11149.337886</td>\n",
       "      <td>[dspread, dcredit, dprod, dmoney, dinflation, ...</td>\n",
       "      <td>2</td>\n",
       "    </tr>\n",
       "    <tr>\n",
       "      <th>2</th>\n",
       "      <td>11168.473506</td>\n",
       "      <td>[dspread, dprod, dmoney, dinflation, mustb3m, ...</td>\n",
       "      <td>3</td>\n",
       "    </tr>\n",
       "    <tr>\n",
       "      <th>3</th>\n",
       "      <td>11195.170348</td>\n",
       "      <td>[dspread, dmoney, dinflation, mustb3m, ersandp]</td>\n",
       "      <td>4</td>\n",
       "    </tr>\n",
       "    <tr>\n",
       "      <th>4</th>\n",
       "      <td>11260.323344</td>\n",
       "      <td>[dspread, dinflation, mustb3m, ersandp]</td>\n",
       "      <td>5</td>\n",
       "    </tr>\n",
       "    <tr>\n",
       "      <th>5</th>\n",
       "      <td>11347.337171</td>\n",
       "      <td>[dspread, mustb3m, ersandp]</td>\n",
       "      <td>6</td>\n",
       "    </tr>\n",
       "    <tr>\n",
       "      <th>6</th>\n",
       "      <td>11469.185321</td>\n",
       "      <td>[dspread, mustb3m]</td>\n",
       "      <td>7</td>\n",
       "    </tr>\n",
       "    <tr>\n",
       "      <th>7</th>\n",
       "      <td>12075.293990</td>\n",
       "      <td>[dspread]</td>\n",
       "      <td>8</td>\n",
       "    </tr>\n",
       "  </tbody>\n",
       "</table>\n",
       "</div>"
      ],
      "text/plain": [
       "            rss                                         predictors  \\\n",
       "0  11138.319180  [dspread, dcredit, dprod, dmoney, dinflation, ...   \n",
       "1  11149.337886  [dspread, dcredit, dprod, dmoney, dinflation, ...   \n",
       "2  11168.473506  [dspread, dprod, dmoney, dinflation, mustb3m, ...   \n",
       "3  11195.170348    [dspread, dmoney, dinflation, mustb3m, ersandp]   \n",
       "4  11260.323344            [dspread, dinflation, mustb3m, ersandp]   \n",
       "5  11347.337171                        [dspread, mustb3m, ersandp]   \n",
       "6  11469.185321                                 [dspread, mustb3m]   \n",
       "7  12075.293990                                          [dspread]   \n",
       "\n",
       "   predictor_count  \n",
       "0                1  \n",
       "1                2  \n",
       "2                3  \n",
       "3                4  \n",
       "4                5  \n",
       "5                6  \n",
       "6                7  \n",
       "7                8  "
      ]
     },
     "metadata": {},
     "output_type": "display_data"
    },
    {
     "data": {
      "image/png": "[encoded data removed]",
      "text/plain": [
       "<Figure size 640x480 with 1 Axes>"
      ]
     },
     "metadata": {},
     "output_type": "display_data"
    }
   ],
   "source": [
    "backward_stepwise_subsets = backward_stepwise(X, y)\n",
    "backward_stepwise_subsets['predictor_count'] = np.arange(1, 9)\n",
    "display(backward_stepwise_subsets)\n",
    "\n",
    "sns.lineplot(x='predictor_count', y='rss', data=backward_stepwise_subsets);"
   ]
  },
  {
   "cell_type": "code",
   "execution_count": 131,
   "metadata": {},
   "outputs": [
    {
     "data": {
      "text/html": [
       "<div>\n",
       "<style scoped>\n",
       "    .dataframe tbody tr th:only-of-type {\n",
       "        vertical-align: middle;\n",
       "    }\n",
       "\n",
       "    .dataframe tbody tr th {\n",
       "        vertical-align: top;\n",
       "    }\n",
       "\n",
       "    .dataframe thead th {\n",
       "        text-align: right;\n",
       "    }\n",
       "</style>\n",
       "<table border=\"1\" class=\"dataframe\">\n",
       "  <thead>\n",
       "    <tr style=\"text-align: right;\">\n",
       "      <th></th>\n",
       "      <th>predictors</th>\n",
       "      <th>MSE_mean</th>\n",
       "      <th>MSE_folds</th>\n",
       "      <th>Model</th>\n",
       "    </tr>\n",
       "  </thead>\n",
       "  <tbody>\n",
       "    <tr>\n",
       "      <th>0</th>\n",
       "      <td>1</td>\n",
       "      <td>98.510525</td>\n",
       "      <td>[196.2467231917207, 71.77636575529809, 31.1119...</td>\n",
       "      <td>ermsoft ~ dspread + dcredit + dprod + dmoney +...</td>\n",
       "    </tr>\n",
       "    <tr>\n",
       "      <th>1</th>\n",
       "      <td>2</td>\n",
       "      <td>90.982077</td>\n",
       "      <td>[148.56203880693835, 69.52979281986579, 29.520...</td>\n",
       "      <td>ermsoft ~ dspread + dcredit + dprod + dmoney +...</td>\n",
       "    </tr>\n",
       "    <tr>\n",
       "      <th>2</th>\n",
       "      <td>3</td>\n",
       "      <td>88.541104</td>\n",
       "      <td>[148.18573255230982, 68.24985031468998, 29.083...</td>\n",
       "      <td>ermsoft ~ dspread + dprod + dmoney + dinflatio...</td>\n",
       "    </tr>\n",
       "    <tr>\n",
       "      <th>3</th>\n",
       "      <td>4</td>\n",
       "      <td>87.593267</td>\n",
       "      <td>[148.91565930956156, 68.1145617674375, 29.5138...</td>\n",
       "      <td>ermsoft ~ dspread + dmoney + dinflation + must...</td>\n",
       "    </tr>\n",
       "    <tr>\n",
       "      <th>4</th>\n",
       "      <td>5</td>\n",
       "      <td>83.310400</td>\n",
       "      <td>[151.12354563464592, 69.42680672732226, 29.135...</td>\n",
       "      <td>ermsoft ~ dspread + dinflation + mustb3m + ers...</td>\n",
       "    </tr>\n",
       "    <tr>\n",
       "      <th>5</th>\n",
       "      <td>6</td>\n",
       "      <td>83.137086</td>\n",
       "      <td>[143.01609991082412, 71.69732847056672, 29.351...</td>\n",
       "      <td>ermsoft ~ dspread + mustb3m + ersandp</td>\n",
       "    </tr>\n",
       "    <tr>\n",
       "      <th>6</th>\n",
       "      <td>7</td>\n",
       "      <td>82.734586</td>\n",
       "      <td>[146.8549538575189, 71.76120565250692, 28.5619...</td>\n",
       "      <td>ermsoft ~ dspread + mustb3m</td>\n",
       "    </tr>\n",
       "    <tr>\n",
       "      <th>7</th>\n",
       "      <td>8</td>\n",
       "      <td>87.459449</td>\n",
       "      <td>[171.64357247061176, 74.22246360003767, 26.068...</td>\n",
       "      <td>ermsoft ~ dspread</td>\n",
       "    </tr>\n",
       "  </tbody>\n",
       "</table>\n",
       "</div>"
      ],
      "text/plain": [
       "   predictors   MSE_mean                                          MSE_folds  \\\n",
       "0           1  98.510525  [196.2467231917207, 71.77636575529809, 31.1119...   \n",
       "1           2  90.982077  [148.56203880693835, 69.52979281986579, 29.520...   \n",
       "2           3  88.541104  [148.18573255230982, 68.24985031468998, 29.083...   \n",
       "3           4  87.593267  [148.91565930956156, 68.1145617674375, 29.5138...   \n",
       "4           5  83.310400  [151.12354563464592, 69.42680672732226, 29.135...   \n",
       "5           6  83.137086  [143.01609991082412, 71.69732847056672, 29.351...   \n",
       "6           7  82.734586  [146.8549538575189, 71.76120565250692, 28.5619...   \n",
       "7           8  87.459449  [171.64357247061176, 74.22246360003767, 26.068...   \n",
       "\n",
       "                                               Model  \n",
       "0  ermsoft ~ dspread + dcredit + dprod + dmoney +...  \n",
       "1  ermsoft ~ dspread + dcredit + dprod + dmoney +...  \n",
       "2  ermsoft ~ dspread + dprod + dmoney + dinflatio...  \n",
       "3  ermsoft ~ dspread + dmoney + dinflation + must...  \n",
       "4  ermsoft ~ dspread + dinflation + mustb3m + ers...  \n",
       "5              ermsoft ~ dspread + mustb3m + ersandp  \n",
       "6                        ermsoft ~ dspread + mustb3m  \n",
       "7                                  ermsoft ~ dspread  "
      ]
     },
     "metadata": {},
     "output_type": "display_data"
    }
   ],
   "source": [
    "# Perform cross validation for each subset of predictors\n",
    "results = []\n",
    "for preds in backward_stepwise_subsets['predictors']:\n",
    "    f = 'ermsoft ~ {}'.format(' + '.join(preds))\n",
    "    results += [cross_val(f, X, y, 10)]\n",
    "\n",
    "results_b_df = pd.DataFrame({'predictors': list(np.arange(1, len(results)+1)),\n",
    "                           'MSE_mean': [np.mean(i[0]) for i in results],\n",
    "                           'MSE_folds': [i[0] for i in results],\n",
    "                           'Model': [i[1] for i in results]})\n",
    "display(results_b_df)\n"
   ]
  },
  {
   "cell_type": "code",
   "execution_count": 132,
   "metadata": {},
   "outputs": [
    {
     "data": {
      "image/png": "[encoded data removed]",
      "text/plain": [
       "<Figure size 640x480 with 1 Axes>"
      ]
     },
     "metadata": {},
     "output_type": "display_data"
    }
   ],
   "source": [
    "sns.lineplot(x='predictors', y='MSE_mean', data=results_b_df);"
   ]
  },
  {
   "cell_type": "code",
   "execution_count": 133,
   "metadata": {},
   "outputs": [
    {
     "data": {
      "text/html": [
       "</br><h4>Best Subset Selection from 10 predictors, with 10-fold Cross Validation</h4>"
      ],
      "text/plain": [
       "<IPython.core.display.HTML object>"
      ]
     },
     "metadata": {},
     "output_type": "display_data"
    },
    {
     "data": {
      "text/html": [
       "<div>\n",
       "<style scoped>\n",
       "    .dataframe tbody tr th:only-of-type {\n",
       "        vertical-align: middle;\n",
       "    }\n",
       "\n",
       "    .dataframe tbody tr th {\n",
       "        vertical-align: top;\n",
       "    }\n",
       "\n",
       "    .dataframe thead th {\n",
       "        text-align: right;\n",
       "    }\n",
       "</style>\n",
       "<table border=\"1\" class=\"dataframe\">\n",
       "  <thead>\n",
       "    <tr style=\"text-align: right;\">\n",
       "      <th></th>\n",
       "      <th>predictors</th>\n",
       "      <th>MSE_mean</th>\n",
       "      <th>MSE_folds</th>\n",
       "      <th>Model</th>\n",
       "    </tr>\n",
       "  </thead>\n",
       "  <tbody>\n",
       "    <tr>\n",
       "      <th>1</th>\n",
       "      <td>2</td>\n",
       "      <td>82.734586</td>\n",
       "      <td>[146.8549538575189, 71.76120565250692, 28.5619...</td>\n",
       "      <td>ermsoft ~ dspread + mustb3m</td>\n",
       "    </tr>\n",
       "  </tbody>\n",
       "</table>\n",
       "</div>"
      ],
      "text/plain": [
       "   predictors   MSE_mean                                          MSE_folds  \\\n",
       "1           2  82.734586  [146.8549538575189, 71.76120565250692, 28.5619...   \n",
       "\n",
       "                         Model  \n",
       "1  ermsoft ~ dspread + mustb3m  "
      ]
     },
     "metadata": {},
     "output_type": "display_data"
    },
    {
     "name": "stdout",
     "output_type": "stream",
     "text": [
      "ermsoft ~ dspread + mustb3m\n"
     ]
    },
    {
     "data": {
      "text/html": [
       "</br><h4>Backward Stepwise Selection from all 10 predictors, with 10-fold Cross Validation</h4>"
      ],
      "text/plain": [
       "<IPython.core.display.HTML object>"
      ]
     },
     "metadata": {},
     "output_type": "display_data"
    },
    {
     "data": {
      "text/html": [
       "<div>\n",
       "<style scoped>\n",
       "    .dataframe tbody tr th:only-of-type {\n",
       "        vertical-align: middle;\n",
       "    }\n",
       "\n",
       "    .dataframe tbody tr th {\n",
       "        vertical-align: top;\n",
       "    }\n",
       "\n",
       "    .dataframe thead th {\n",
       "        text-align: right;\n",
       "    }\n",
       "</style>\n",
       "<table border=\"1\" class=\"dataframe\">\n",
       "  <thead>\n",
       "    <tr style=\"text-align: right;\">\n",
       "      <th></th>\n",
       "      <th>predictors</th>\n",
       "      <th>MSE_mean</th>\n",
       "      <th>MSE_folds</th>\n",
       "      <th>Model</th>\n",
       "    </tr>\n",
       "  </thead>\n",
       "  <tbody>\n",
       "    <tr>\n",
       "      <th>6</th>\n",
       "      <td>7</td>\n",
       "      <td>82.734586</td>\n",
       "      <td>[146.8549538575189, 71.76120565250692, 28.5619...</td>\n",
       "      <td>ermsoft ~ dspread + mustb3m</td>\n",
       "    </tr>\n",
       "  </tbody>\n",
       "</table>\n",
       "</div>"
      ],
      "text/plain": [
       "   predictors   MSE_mean                                          MSE_folds  \\\n",
       "6           7  82.734586  [146.8549538575189, 71.76120565250692, 28.5619...   \n",
       "\n",
       "                         Model  \n",
       "6  ermsoft ~ dspread + mustb3m  "
      ]
     },
     "metadata": {},
     "output_type": "display_data"
    },
    {
     "name": "stdout",
     "output_type": "stream",
     "text": [
      "ermsoft ~ dspread + mustb3m\n"
     ]
    }
   ],
   "source": [
    "display(HTML('</br><h4>Best Subset Selection from 10 predictors, with 10-fold Cross Validation</h4>'))\n",
    "best_subset_choice = results_a_df[results_a_df['MSE_mean'] == results_a_df['MSE_mean'].min()]\n",
    "display(best_subset_choice)\n",
    "print(best_subset_choice['Model'].iloc[0])\n",
    "\n",
    "display(HTML('</br><h4>Backward Stepwise Selection from all 10 predictors, with 10-fold Cross Validation</h4>'))\n",
    "backward_select_choice = results_b_df[results_b_df['MSE_mean'] == results_b_df['MSE_mean'].min()]\n",
    "display(backward_select_choice)\n",
    "print(backward_select_choice['Model'].iloc[0])"
   ]
  },
  {
   "cell_type": "markdown",
   "metadata": {},
   "source": [
    "### Shrinkage"
   ]
  },
  {
   "cell_type": "markdown",
   "metadata": {},
   "source": [
    "## Ridge Regression and the Lasso\n",
    "\n",
    "### Ridge Regression\n",
    "\n",
    "Let's perform ridge regression with 10-fold cross-validation to produce results comparable to those obtained for model selection approaches above."
   ]
  },
  {
   "cell_type": "code",
   "execution_count": 134,
   "metadata": {},
   "outputs": [],
   "source": [
    "def ridge_cv(X, y, λ, k):\n",
    "    \"\"\"Perform ridge regresion with \n",
    "    k-fold cross validation to return mean MSE scores for each fold\"\"\"\n",
    "    # Split dataset into k-folds\n",
    "    # Note: np.array_split doesn't raise excpetion is folds are unequal in size\n",
    "    X_folds = np.array_split(X, k)\n",
    "    y_folds = np.array_split(y, k)\n",
    "    \n",
    "    MSEs = []\n",
    "    for f in np.arange(len(X_folds)):\n",
    "        # Create training and test sets\n",
    "        X_test  = X_folds[f]\n",
    "        y_test  = y_folds[f]\n",
    "        X_train = X.drop(X_folds[f].index)\n",
    "        y_train = y.drop(y_folds[f].index)\n",
    "        \n",
    "        # Fit model\n",
    "        model = linear_model.Ridge(alpha=λ, fit_intercept=False, solver='cholesky').fit(X_train, y_train)\n",
    "        \n",
    "        # Measure MSE\n",
    "        y_hat = model.predict(X_test)\n",
    "        MSEs += [mse(y_hat, y_test)]\n",
    "    return MSEs"
   ]
  },
  {
   "cell_type": "code",
   "execution_count": 135,
   "metadata": {},
   "outputs": [],
   "source": [
    "X.dropna(inplace=True)"
   ]
  },
  {
   "cell_type": "code",
   "execution_count": 136,
   "metadata": {},
   "outputs": [],
   "source": [
    "data.dropna(inplace=True)"
   ]
  },
  {
   "cell_type": "code",
   "execution_count": 137,
   "metadata": {},
   "outputs": [
    {
     "data": {
      "text/plain": [
       "(141, 13)"
      ]
     },
     "execution_count": 137,
     "metadata": {},
     "output_type": "execute_result"
    }
   ],
   "source": [
    "data.shape"
   ]
  },
  {
   "cell_type": "code",
   "execution_count": 138,
   "metadata": {},
   "outputs": [
    {
     "data": {
      "text/html": [
       "<div>\n",
       "<style scoped>\n",
       "    .dataframe tbody tr th:only-of-type {\n",
       "        vertical-align: middle;\n",
       "    }\n",
       "\n",
       "    .dataframe tbody tr th {\n",
       "        vertical-align: top;\n",
       "    }\n",
       "\n",
       "    .dataframe thead th {\n",
       "        text-align: right;\n",
       "    }\n",
       "</style>\n",
       "<table border=\"1\" class=\"dataframe\">\n",
       "  <thead>\n",
       "    <tr style=\"text-align: right;\">\n",
       "      <th></th>\n",
       "      <th>dspread</th>\n",
       "      <th>dcredit</th>\n",
       "      <th>dprod</th>\n",
       "      <th>rmsoft</th>\n",
       "      <th>rsandp</th>\n",
       "      <th>dmoney</th>\n",
       "      <th>inflation</th>\n",
       "      <th>term</th>\n",
       "      <th>dinflation</th>\n",
       "      <th>mustb3m</th>\n",
       "      <th>rterm</th>\n",
       "      <th>ermsoft</th>\n",
       "      <th>ersandp</th>\n",
       "    </tr>\n",
       "    <tr>\n",
       "      <th>Date</th>\n",
       "      <th></th>\n",
       "      <th></th>\n",
       "      <th></th>\n",
       "      <th></th>\n",
       "      <th></th>\n",
       "      <th></th>\n",
       "      <th></th>\n",
       "      <th></th>\n",
       "      <th></th>\n",
       "      <th></th>\n",
       "      <th></th>\n",
       "      <th></th>\n",
       "      <th></th>\n",
       "    </tr>\n",
       "  </thead>\n",
       "  <tbody>\n",
       "    <tr>\n",
       "      <th>1999-12-01</th>\n",
       "      <td>-0.15</td>\n",
       "      <td>21.6611</td>\n",
       "      <td>0.7115</td>\n",
       "      <td>22.990033</td>\n",
       "      <td>5.623278</td>\n",
       "      <td>35.2</td>\n",
       "      <td>0.000000</td>\n",
       "      <td>0.92</td>\n",
       "      <td>-0.059435</td>\n",
       "      <td>0.446667</td>\n",
       "      <td>0.12</td>\n",
       "      <td>22.543367</td>\n",
       "      <td>5.176611</td>\n",
       "    </tr>\n",
       "    <tr>\n",
       "      <th>2000-02-01</th>\n",
       "      <td>-0.03</td>\n",
       "      <td>-4.2935</td>\n",
       "      <td>0.2774</td>\n",
       "      <td>-4.475790</td>\n",
       "      <td>-7.255785</td>\n",
       "      <td>-50.8</td>\n",
       "      <td>0.887317</td>\n",
       "      <td>0.79</td>\n",
       "      <td>0.887317</td>\n",
       "      <td>0.477500</td>\n",
       "      <td>-0.13</td>\n",
       "      <td>-4.953290</td>\n",
       "      <td>-7.733285</td>\n",
       "    </tr>\n",
       "    <tr>\n",
       "      <th>2000-03-01</th>\n",
       "      <td>0.08</td>\n",
       "      <td>4.4365</td>\n",
       "      <td>0.3597</td>\n",
       "      <td>20.322824</td>\n",
       "      <td>9.232375</td>\n",
       "      <td>11.5</td>\n",
       "      <td>0.821119</td>\n",
       "      <td>0.40</td>\n",
       "      <td>-0.066198</td>\n",
       "      <td>0.488333</td>\n",
       "      <td>-0.39</td>\n",
       "      <td>19.834491</td>\n",
       "      <td>8.744042</td>\n",
       "    </tr>\n",
       "    <tr>\n",
       "      <th>2000-05-01</th>\n",
       "      <td>0.22</td>\n",
       "      <td>23.0350</td>\n",
       "      <td>0.8495</td>\n",
       "      <td>9.844007</td>\n",
       "      <td>-5.343866</td>\n",
       "      <td>-8.5</td>\n",
       "      <td>0.175080</td>\n",
       "      <td>0.45</td>\n",
       "      <td>-0.646039</td>\n",
       "      <td>0.499167</td>\n",
       "      <td>0.05</td>\n",
       "      <td>9.344841</td>\n",
       "      <td>-5.843033</td>\n",
       "    </tr>\n",
       "    <tr>\n",
       "      <th>2000-06-01</th>\n",
       "      <td>-0.10</td>\n",
       "      <td>24.9713</td>\n",
       "      <td>0.0943</td>\n",
       "      <td>1.550419</td>\n",
       "      <td>2.365163</td>\n",
       "      <td>1.4</td>\n",
       "      <td>0.523409</td>\n",
       "      <td>0.24</td>\n",
       "      <td>0.348329</td>\n",
       "      <td>0.488333</td>\n",
       "      <td>-0.21</td>\n",
       "      <td>1.062085</td>\n",
       "      <td>1.876830</td>\n",
       "    </tr>\n",
       "  </tbody>\n",
       "</table>\n",
       "</div>"
      ],
      "text/plain": [
       "            dspread  dcredit   dprod     rmsoft    rsandp  dmoney  inflation  \\\n",
       "Date                                                                           \n",
       "1999-12-01    -0.15  21.6611  0.7115  22.990033  5.623278    35.2   0.000000   \n",
       "2000-02-01    -0.03  -4.2935  0.2774  -4.475790 -7.255785   -50.8   0.887317   \n",
       "2000-03-01     0.08   4.4365  0.3597  20.322824  9.232375    11.5   0.821119   \n",
       "2000-05-01     0.22  23.0350  0.8495   9.844007 -5.343866    -8.5   0.175080   \n",
       "2000-06-01    -0.10  24.9713  0.0943   1.550419  2.365163     1.4   0.523409   \n",
       "\n",
       "            term  dinflation   mustb3m  rterm    ermsoft   ersandp  \n",
       "Date                                                                \n",
       "1999-12-01  0.92   -0.059435  0.446667   0.12  22.543367  5.176611  \n",
       "2000-02-01  0.79    0.887317  0.477500  -0.13  -4.953290 -7.733285  \n",
       "2000-03-01  0.40   -0.066198  0.488333  -0.39  19.834491  8.744042  \n",
       "2000-05-01  0.45   -0.646039  0.499167   0.05   9.344841 -5.843033  \n",
       "2000-06-01  0.24    0.348329  0.488333  -0.21   1.062085  1.876830  "
      ]
     },
     "execution_count": 138,
     "metadata": {},
     "output_type": "execute_result"
    }
   ],
   "source": [
    "data.head()"
   ]
  },
  {
   "cell_type": "code",
   "execution_count": 139,
   "metadata": {},
   "outputs": [],
   "source": [
    "X = data.drop(data[['ermsoft', \"rmsoft\", \"rsandp\", \"inflation\", \"term\"]], axis=1)\n",
    "y = data['ermsoft']"
   ]
  },
  {
   "cell_type": "code",
   "execution_count": 140,
   "metadata": {},
   "outputs": [
    {
     "data": {
      "image/png": "[encoded data removed]",
      "text/plain": [
       "<Figure size 640x480 with 1 Axes>"
      ]
     },
     "metadata": {},
     "output_type": "display_data"
    }
   ],
   "source": [
    "#lambdas = np.arange(0, 0.08, 0.0005)\n",
    "lambdas = np.arange(1, 300, 1)\n",
    "MSEs    = [] \n",
    "for l in lambdas:\n",
    "    MSEs += [np.mean(ridge_cv(X, y, λ=l, k=10))]\n",
    "\n",
    "sns.scatterplot(x='λ', y='MSE', data=pd.DataFrame({'λ': lambdas, 'MSE': MSEs}));"
   ]
  },
  {
   "cell_type": "code",
   "execution_count": 141,
   "metadata": {},
   "outputs": [
    {
     "data": {
      "text/plain": [
       "(98.99067485532773, 1)"
      ]
     },
     "execution_count": 141,
     "metadata": {},
     "output_type": "execute_result"
    }
   ],
   "source": [
    "min(zip(MSEs, lambdas))"
   ]
  },
  {
   "cell_type": "markdown",
   "metadata": {},
   "source": [
    "Here we use 10-fold cross-validation to find the optimal value for lambda. The lowest MSE score achieved is 62,20 when λ=7.\n",
    "\n",
    "**Revision note:** This result is worst than our results for backward stepwise selection and best subset.\n"
   ]
  },
  {
   "cell_type": "code",
   "execution_count": 142,
   "metadata": {},
   "outputs": [
    {
     "data": {
      "text/plain": [
       "(array([-8., -6., -4., -2.,  0.,  2.,  4.,  6.,  8.]),\n",
       " [Text(0, 0, ''),\n",
       "  Text(0, 0, ''),\n",
       "  Text(0, 0, ''),\n",
       "  Text(0, 0, ''),\n",
       "  Text(0, 0, ''),\n",
       "  Text(0, 0, ''),\n",
       "  Text(0, 0, ''),\n",
       "  Text(0, 0, ''),\n",
       "  Text(0, 0, '')])"
      ]
     },
     "execution_count": 142,
     "metadata": {},
     "output_type": "execute_result"
    },
    {
     "data": {
      "image/png": "[encoded data removed]",
      "text/plain": [
       "<Figure size 640x480 with 1 Axes>"
      ]
     },
     "metadata": {},
     "output_type": "display_data"
    }
   ],
   "source": [
    "# What coefficients does ridge regression choose for the optimal lambda value?\n",
    "model = linear_model.Ridge(alpha=7, fit_intercept=False, solver='cholesky').fit(X, y)\n",
    "df = pd.DataFrame({'feature': X.columns, 'coefficient': model.coef_})\n",
    "ax = sns.barplot(x='coefficient', y='feature', data=df);\n",
    "plt.xticks(rotation=90)"
   ]
  },
  {
   "cell_type": "markdown",
   "metadata": {},
   "source": [
    "### The Lasso"
   ]
  },
  {
   "cell_type": "code",
   "execution_count": 143,
   "metadata": {},
   "outputs": [],
   "source": [
    "def lasso_cv(X, y, λ, k):\n",
    "    \"\"\"Perform the lasso with \n",
    "    k-fold cross validation to return mean MSE scores for each fold\"\"\"\n",
    "    # Split dataset into k-folds\n",
    "    # Note: np.array_split doesn't raise excpetion is folds are unequal in size\n",
    "    X_folds = np.array_split(X, k)\n",
    "    y_folds = np.array_split(y, k)\n",
    "    \n",
    "    MSEs = []\n",
    "    for f in np.arange(len(X_folds)):\n",
    "        # Create training and test sets\n",
    "        X_test  = X_folds[f]\n",
    "        y_test  = y_folds[f]\n",
    "        X_train = X.drop(X_folds[f].index)\n",
    "        y_train = y.drop(y_folds[f].index)\n",
    "        \n",
    "        # Fit model\n",
    "        model = linear_model.Lasso(alpha=λ, copy_X=True, fit_intercept=False, max_iter=10000,\n",
    "                                   normalize=False, positive=False, precompute=False, random_state=None,\n",
    "                                   selection='cyclic', tol=0.0001, warm_start=False).fit(X_train, y_train)\n",
    "        \n",
    "        # Measure MSE\n",
    "        y_hat = model.predict(X_test)\n",
    "        MSEs += [mse(y_hat, y_test)]\n",
    "    return MSEs"
   ]
  },
  {
   "cell_type": "code",
   "execution_count": 144,
   "metadata": {},
   "outputs": [
    {
     "data": {
      "image/png": "[encoded data removed]",
      "text/plain": [
       "<Figure size 640x480 with 1 Axes>"
      ]
     },
     "metadata": {},
     "output_type": "display_data"
    }
   ],
   "source": [
    "X = data.drop(data[['ermsoft', \"rmsoft\", \"rsandp\", \"inflation\", \"term\"]], axis=1)\n",
    "y = data['ermsoft']\n",
    "\n",
    "#lambdas = np.arange(0, 0.08, 0.0005)\n",
    "\n",
    "lambdas = np.arange(0, 0.08, 0.0005)\n",
    "MSEs    = [] \n",
    "for l in lambdas:\n",
    "    MSEs += [np.mean(lasso_cv(X, y, λ=l, k=10))]\n",
    "\n",
    "sns.scatterplot(x='λ', y='MSE', data=pd.DataFrame({'λ': lambdas, 'MSE': MSEs}));"
   ]
  },
  {
   "cell_type": "code",
   "execution_count": 145,
   "metadata": {},
   "outputs": [
    {
     "data": {
      "text/plain": [
       "(97.26915404550633, 0.028)"
      ]
     },
     "execution_count": 145,
     "metadata": {},
     "output_type": "execute_result"
    }
   ],
   "source": [
    "min(zip(MSEs, lambdas))"
   ]
  },
  {
   "cell_type": "markdown",
   "metadata": {},
   "source": [
    "Here we use 10-fold cross-validation to find the optimal lambda value for the lasso. The lowest MSE score achieved is 62.35 when λ=0.002."
   ]
  },
  {
   "cell_type": "code",
   "execution_count": 146,
   "metadata": {},
   "outputs": [
    {
     "data": {
      "text/plain": [
       "(array([-30., -25., -20., -15., -10.,  -5.,   0.,   5.,  10.,  15.,  20.]),\n",
       " [Text(0, 0, ''),\n",
       "  Text(0, 0, ''),\n",
       "  Text(0, 0, ''),\n",
       "  Text(0, 0, ''),\n",
       "  Text(0, 0, ''),\n",
       "  Text(0, 0, ''),\n",
       "  Text(0, 0, ''),\n",
       "  Text(0, 0, ''),\n",
       "  Text(0, 0, ''),\n",
       "  Text(0, 0, ''),\n",
       "  Text(0, 0, '')])"
      ]
     },
     "execution_count": 146,
     "metadata": {},
     "output_type": "execute_result"
    },
    {
     "data": {
      "image/png": "[encoded data removed]",
      "text/plain": [
       "<Figure size 640x480 with 1 Axes>"
      ]
     },
     "metadata": {},
     "output_type": "display_data"
    }
   ],
   "source": [
    "# What coefficients does the lasso choose for the optimal lambda value?\n",
    "model = linear_model.Lasso(alpha=0.002, copy_X=True, fit_intercept=False, max_iter=10000,\n",
    "                           normalize=False, positive=False, precompute=False, random_state=None,\n",
    "                           selection='cyclic', tol=0.0001, warm_start=False).fit(X, y)\n",
    "df = pd.DataFrame({'feature': X.columns, 'coefficient': model.coef_})\n",
    "ax = sns.barplot(x='coefficient', y='feature', data=df);\n",
    "plt.xticks(rotation=90)"
   ]
  },
  {
   "cell_type": "code",
   "execution_count": 147,
   "metadata": {},
   "outputs": [
    {
     "data": {
      "text/html": [
       "<h4>Model chosen by lasso:</h4>"
      ],
      "text/plain": [
       "<IPython.core.display.HTML object>"
      ]
     },
     "metadata": {},
     "output_type": "display_data"
    },
    {
     "name": "stdout",
     "output_type": "stream",
     "text": [
      "Salary ~ dspread + dcredit + dprod + dmoney + dinflation + mustb3m + rterm + ersandp\n",
      "MSE: 97\n"
     ]
    },
    {
     "data": {
      "text/html": [
       "<h4>Model chosen by backward stepwise selection:</h4>"
      ],
      "text/plain": [
       "<IPython.core.display.HTML object>"
      ]
     },
     "metadata": {},
     "output_type": "display_data"
    },
    {
     "name": "stdout",
     "output_type": "stream",
     "text": [
      "ermsoft ~ dspread + mustb3m\n",
      "MSE: 83\n"
     ]
    }
   ],
   "source": [
    "display(HTML('<h4>Model chosen by lasso:</h4>'))\n",
    "print('Salary ~ {}'.format(' + '.join(X.columns[model.coef_ != 0])))\n",
    "print('MSE: {:01.0f}'.format(min(MSEs)))\n",
    "\n",
    "display(HTML('<h4>Model chosen by backward stepwise selection:</h4>'))\n",
    "print(backward_select_choice['Model'].iloc[0])\n",
    "print('MSE: {:01.0f}'.format(backward_select_choice['MSE_mean'].iloc[0]))"
   ]
  },
  {
   "cell_type": "markdown",
   "metadata": {},
   "source": [
    "The results here suggesat that backward stepwise finds as simpler model thato utperforms lasso and ridge regression. "
   ]
  },
  {
   "cell_type": "markdown",
   "metadata": {},
   "source": [
    "### Dimension reduction"
   ]
  },
  {
   "cell_type": "markdown",
   "metadata": {},
   "source": [
    "#### PCR and PLS Regression\n",
    "\n",
    "##### Principle Components Regression"
   ]
  },
  {
   "cell_type": "code",
   "execution_count": 148,
   "metadata": {},
   "outputs": [],
   "source": [
    "# Deps for pca/pcr\n",
    "from sklearn.preprocessing import scale\n",
    "from sklearn.decomposition import PCA\n",
    "from sklearn.model_selection import cross_val_score\n",
    "from sklearn.linear_model import LinearRegression"
   ]
  },
  {
   "cell_type": "code",
   "execution_count": 149,
   "metadata": {},
   "outputs": [],
   "source": [
    "X = data.drop(data[['ermsoft', \"rmsoft\", \"rsandp\", \"inflation\", \"term\"]], axis=1)\n",
    "y = data['ermsoft']"
   ]
  },
  {
   "cell_type": "markdown",
   "metadata": {},
   "source": [
    "#### PCA\n",
    "\n",
    "What percentage of total variance in our dataset is ecplained by succesive accumulation of principal components?\n",
    "\n",
    "Get all principal components of the predictors in X, using principal component analysis (PCA)"
   ]
  },
  {
   "cell_type": "code",
   "execution_count": 150,
   "metadata": {},
   "outputs": [
    {
     "data": {
      "image/png": "[encoded data removed]",
      "text/plain": [
       "<Figure size 640x480 with 1 Axes>"
      ]
     },
     "metadata": {},
     "output_type": "display_data"
    }
   ],
   "source": [
    "# Get principle components\n",
    "pca = PCA()\n",
    "X_reduced = pca.fit_transform(scale(X))\n",
    "\n",
    "# What variance (%c umulative) is explained by principle components?\n",
    "variance_explained   = np.cumsum(np.around(pca.explained_variance_ratio_ *100, decimals=1))\n",
    "principal_components = np.arange(1, len(variance_explained)+1)\n",
    "\n",
    "sns.lineplot(x='principal components count', y='% variance explained', \n",
    "             data=pd.DataFrame({'principal components count': principal_components, \n",
    "                                '% variance explained': variance_explained}));"
   ]
  },
  {
   "cell_type": "code",
   "execution_count": 151,
   "metadata": {},
   "outputs": [
    {
     "data": {
      "text/plain": [
       "(141, 8)"
      ]
     },
     "execution_count": 151,
     "metadata": {},
     "output_type": "execute_result"
    }
   ],
   "source": [
    "X_reduced = pca.fit_transform(scale(X))\n",
    "X_reduced.shape"
   ]
  },
  {
   "cell_type": "markdown",
   "metadata": {},
   "source": [
    "#### PCR \n",
    "\n",
    "How does linear regression perform when these principle components are used as predictors?"
   ]
  },
  {
   "cell_type": "code",
   "execution_count": 152,
   "metadata": {},
   "outputs": [
    {
     "data": {
      "application/vnd.jupyter.widget-view+json": {
       "model_id": "5f0a7bffb2d341438e2453da45105a01",
       "version_major": 2,
       "version_minor": 0
      },
      "text/plain": [
       "interactive(children=(IntSlider(value=10, description='seed', max=50, min=1), IntSlider(value=10, description=…"
      ]
     },
     "metadata": {},
     "output_type": "display_data"
    }
   ],
   "source": [
    "def pcr_cv(seed, cv_folds):\n",
    "    \"\"\"Perform Principle Component Regression evaluated with\n",
    "    k-fold cross validation\"\"\"\n",
    "    # Load data\n",
    "    X = data.drop(data[['ermsoft', \"rmsoft\", \"rsandp\", \"inflation\", \"term\"]], axis=1)\n",
    "    y = data['ermsoft']\n",
    "    \n",
    "    # Get all principle components\n",
    "    pca = PCA()\n",
    "    X_reduced = pca.fit_transform(scale(X))\n",
    "    \n",
    "    # Get cv MSE for cumulative components\n",
    "    M = X_reduced.shape[1]\n",
    "    MSEs = []\n",
    "    for m in range(M):\n",
    "        model = LinearRegression()\n",
    "        cv    = KFold(n_splits=cv_folds, random_state=seed, shuffle=True)\n",
    "        cv10  = cross_val_score(model, X_reduced[:, 0:m+1], y, cv=cv, scoring='neg_mean_squared_error')\n",
    "        MSEs += [np.mean(np.abs(cv10))]\n",
    "        \n",
    "    ax = sns.lineplot(x='principal components count', y='MSE', \n",
    "                 data=pd.DataFrame({'principal components count': principal_components, \n",
    "                                    'MSE': MSEs}));\n",
    "    ax.axes.set_ylim(10, 100)\n",
    "\n",
    "\n",
    "interact(pcr_cv, \n",
    "         seed=widgets.IntSlider(min=1, max=50, step=1, value=10), \n",
    "         cv_folds=widgets.IntSlider(min=2, max=100, step=1, value=10));"
   ]
  },
  {
   "cell_type": "markdown",
   "metadata": {},
   "source": [
    "Above I've implemented the same with interactive sliders to control the random seed used to shuffle observations before splitting into cross validation folds, and a seperate control for number of cross validation folds k. \n",
    "\n",
    "Interacting with the seed slider we see that there is some significant variability in the results. With 10 folds, most seed values would lead us to conclude the between 8 principal components are optimal, but there are some seed values – such as 8 – that suggest 6-7 components is in fact optimal. This is a significantly different conclusion!\n",
    "\n",
    "The results seem to have higher variance when cv_folds is lower, with variance decreasing as the number of folds increases.\n",
    "\n",
    "**Revision note:** The above point seems counter to what we learned in ch.5, e.g. we expect LOOCV to exhibit highest variance and lowest bias."
   ]
  },
  {
   "cell_type": "code",
   "execution_count": 153,
   "metadata": {},
   "outputs": [
    {
     "data": {
      "application/vnd.jupyter.widget-view+json": {
       "model_id": "2e0740dd03fe475e9f3befe1062c31aa",
       "version_major": 2,
       "version_minor": 0
      },
      "text/plain": [
       "interactive(children=(IntSlider(value=10, description='seed', max=50, min=1), Output()), _dom_classes=('widget…"
      ]
     },
     "metadata": {},
     "output_type": "display_data"
    }
   ],
   "source": [
    "def pcr_holdout(seed):\n",
    "    \"\"\"Perform Principle Component Regression evaluated with\n",
    "    k-fold hold-out set\"\"\"\n",
    "    # With 50% holdout set\n",
    "    np.random.seed(seed)\n",
    "    train = np.random.rand(len(data)) < 0.5\n",
    "    \n",
    "    pca = PCA()\n",
    "    X_train = pca.fit_transform(scale(data.drop('ermsoft', axis=1)[train]))\n",
    "    y_train = data['ermsoft'][train]\n",
    "    X_test  = pca.fit_transform(scale(data.drop('ermsoft', axis=1)[~train]))\n",
    "    y_test  = data['ermsoft'][~train]\n",
    "    \n",
    "    \n",
    "    # Get cv MSE for cumulative components\n",
    "    M = X_reduced.shape[1]\n",
    "    \n",
    "    MSEs = []\n",
    "    for m in range(M):\n",
    "        model = LinearRegression().fit(X_train[:, 0:m+1], y_train)\n",
    "        y_hat = model.predict(X_test[:, 0:m+1])\n",
    "        MSEs += [mse(y_hat, y_test)]\n",
    "    \n",
    "    # Plot results\n",
    "    ax = sns.lineplot(x='principal components count', y='MSE', \n",
    "                      data=pd.DataFrame({'principal components count': principal_components, \n",
    "                                         'MSE': MSEs}))\n",
    "    ax.axes.set_ylim(10, 100);\n",
    "\n",
    "interact(pcr_holdout, seed=widgets.IntSlider(min=1, max=50, step=1, value=10));"
   ]
  },
  {
   "cell_type": "code",
   "execution_count": null,
   "metadata": {},
   "outputs": [],
   "source": []
  }
 ],
 "metadata": {
  "kernelspec": {
   "display_name": "Python 3.10.4 ('metodos')",
   "language": "python",
   "name": "python3"
  },
  "language_info": {
   "codemirror_mode": {
    "name": "ipython",
    "version": 3
   },
   "file_extension": ".py",
   "mimetype": "text/x-python",
   "name": "python",
   "nbconvert_exporter": "python",
   "pygments_lexer": "ipython3",
   "version": "3.10.4"
  },
  "latex_envs": {
   "LaTeX_envs_menu_present": true,
   "autoclose": false,
   "autocomplete": true,
   "bibliofile": "biblio.bib",
   "cite_by": "apalike",
   "current_citInitial": 1,
   "eqLabelWithNumbers": true,
   "eqNumInitial": 1,
   "hotkeys": {
    "equation": "Ctrl-E",
    "itemize": "Ctrl-I"
   },
   "labels_anchors": false,
   "latex_user_defs": false,
   "report_style_numbering": false,
   "user_envs_cfg": false
  },
  "toc": {
   "base_numbering": 1,
   "nav_menu": {},
   "number_sections": true,
   "sideBar": true,
   "skip_h1_title": false,
   "title_cell": "Table of Contents",
   "title_sidebar": "Contents",
   "toc_cell": false,
   "toc_position": {},
   "toc_section_display": true,
   "toc_window_display": false
  },
  "varInspector": {
   "cols": {
    "lenName": 16,
    "lenType": 16,
    "lenVar": 40
   },
   "kernels_config": {
    "python": {
     "delete_cmd_postfix": "",
     "delete_cmd_prefix": "del ",
     "library": "var_list.py",
     "varRefreshCmd": "print(var_dic_list())"
    },
    "r": {
     "delete_cmd_postfix": ") ",
     "delete_cmd_prefix": "rm(",
     "library": "var_list.r",
     "varRefreshCmd": "cat(var_dic_list()) "
    }
   },
   "types_to_exclude": [
    "module",
    "function",
    "builtin_function_or_method",
    "instance",
    "_Feature"
   ],
   "window_display": false
  },
  "vscode": {
   "interpreter": {
    "hash": "7a264cf02235baedc191a9dec9b9e97db7af4c090365dde23adf9d2150b99a47"
   }
  }
 },
 "nbformat": 4,
 "nbformat_minor": 4
}
