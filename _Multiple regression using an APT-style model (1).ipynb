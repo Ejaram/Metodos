{
 "cells": [
  {
   "cell_type": "markdown",
   "metadata": {},
   "source": [
    "### Multiple regression using an APT-style model"
   ]
  },
  {
   "cell_type": "markdown",
   "metadata": {},
   "source": [
    "The following example will show how **we can extend the linear regression model** introduced in\n",
    "previous sections to estimate multiple regressions in Python. In the spirit of **arbitrage pricing theory\n",
    "(APT)**, we will examine regressions that seek to determine whether the monthly returns on **Microsoft\n",
    "stock** can be explained by reference to unexpected changes in a set of macroeconomic and financial\n",
    "variables. "
   ]
  },
  {
   "cell_type": "markdown",
   "metadata": {},
   "source": [
    "For this we rely on the dataset 'macro.xls' which contains 13 data series of financial and\n",
    "economic variables as well as a date variable spanning the time period from March 1986 until March\n",
    "2018 (i.e., 385 monthly observations for each of the series). In particular, the set of financial and\n",
    "economic variables comprises the **Microsoft stock price, the S&P500 index value, the consumer price\n",
    "index, an industrial production index, Treasury bill yields** for the following maturities: three months,\n",
    "six months, one year, three years, five years and ten years, a measure of ’narrow’ **money supply, a\n",
    "consumer credit series, and a ’credit spread’ series**. The latter is defined as the difference in annualised average yields between a portfolio of bonds rated AAA and a portfolio of bonds rated BAA.\n",
    "Before we can start with our analysis, we need to import several libraries and the dataset\n",
    "'macro.xls' into Python. The index column of the imported DataFrame is set by the argument index_col=0."
   ]
  },
  {
   "cell_type": "code",
   "execution_count": 1,
   "metadata": {},
   "outputs": [],
   "source": [
    "import pandas as pd\n",
    "import numpy as np\n",
    "import statsmodels.formula.api as smf"
   ]
  },
  {
   "cell_type": "code",
   "execution_count": 2,
   "metadata": {},
   "outputs": [
    {
     "data": {
      "text/html": [
       "<div>\n",
       "<style scoped>\n",
       "    .dataframe tbody tr th:only-of-type {\n",
       "        vertical-align: middle;\n",
       "    }\n",
       "\n",
       "    .dataframe tbody tr th {\n",
       "        vertical-align: top;\n",
       "    }\n",
       "\n",
       "    .dataframe thead th {\n",
       "        text-align: right;\n",
       "    }\n",
       "</style>\n",
       "<table border=\"1\" class=\"dataframe\">\n",
       "  <thead>\n",
       "    <tr style=\"text-align: right;\">\n",
       "      <th></th>\n",
       "      <th>MICROSOFT</th>\n",
       "      <th>SANDP</th>\n",
       "      <th>CPI</th>\n",
       "      <th>INDPRO</th>\n",
       "      <th>M1SUPPLY</th>\n",
       "      <th>CCREDIT</th>\n",
       "      <th>BMINUSA</th>\n",
       "      <th>USTB3M</th>\n",
       "      <th>USTB10Y</th>\n",
       "    </tr>\n",
       "    <tr>\n",
       "      <th>Date</th>\n",
       "      <th></th>\n",
       "      <th></th>\n",
       "      <th></th>\n",
       "      <th></th>\n",
       "      <th></th>\n",
       "      <th></th>\n",
       "      <th></th>\n",
       "      <th></th>\n",
       "      <th></th>\n",
       "    </tr>\n",
       "  </thead>\n",
       "  <tbody>\n",
       "    <tr>\n",
       "      <th>1986-03-01</th>\n",
       "      <td>0.095486</td>\n",
       "      <td>238.899994</td>\n",
       "      <td>108.8</td>\n",
       "      <td>56.5414</td>\n",
       "      <td>624.3</td>\n",
       "      <td>606.7990</td>\n",
       "      <td>1.50</td>\n",
       "      <td>6.76</td>\n",
       "      <td>7.78</td>\n",
       "    </tr>\n",
       "    <tr>\n",
       "      <th>1986-04-01</th>\n",
       "      <td>0.111979</td>\n",
       "      <td>235.520004</td>\n",
       "      <td>108.6</td>\n",
       "      <td>56.5654</td>\n",
       "      <td>647.0</td>\n",
       "      <td>614.3669</td>\n",
       "      <td>1.40</td>\n",
       "      <td>6.24</td>\n",
       "      <td>7.30</td>\n",
       "    </tr>\n",
       "    <tr>\n",
       "      <th>1986-05-01</th>\n",
       "      <td>0.121528</td>\n",
       "      <td>247.350006</td>\n",
       "      <td>108.9</td>\n",
       "      <td>56.6850</td>\n",
       "      <td>645.7</td>\n",
       "      <td>621.9152</td>\n",
       "      <td>1.20</td>\n",
       "      <td>6.33</td>\n",
       "      <td>7.71</td>\n",
       "    </tr>\n",
       "    <tr>\n",
       "      <th>1986-06-01</th>\n",
       "      <td>0.106771</td>\n",
       "      <td>250.839996</td>\n",
       "      <td>109.5</td>\n",
       "      <td>56.4959</td>\n",
       "      <td>662.8</td>\n",
       "      <td>627.8910</td>\n",
       "      <td>1.21</td>\n",
       "      <td>6.40</td>\n",
       "      <td>7.80</td>\n",
       "    </tr>\n",
       "    <tr>\n",
       "      <th>1986-07-01</th>\n",
       "      <td>0.098958</td>\n",
       "      <td>236.119995</td>\n",
       "      <td>109.5</td>\n",
       "      <td>56.8096</td>\n",
       "      <td>673.4</td>\n",
       "      <td>633.6083</td>\n",
       "      <td>1.28</td>\n",
       "      <td>6.00</td>\n",
       "      <td>7.30</td>\n",
       "    </tr>\n",
       "  </tbody>\n",
       "</table>\n",
       "</div>"
      ],
      "text/plain": [
       "            MICROSOFT       SANDP    CPI   INDPRO  M1SUPPLY   CCREDIT  \\\n",
       "Date                                                                    \n",
       "1986-03-01   0.095486  238.899994  108.8  56.5414     624.3  606.7990   \n",
       "1986-04-01   0.111979  235.520004  108.6  56.5654     647.0  614.3669   \n",
       "1986-05-01   0.121528  247.350006  108.9  56.6850     645.7  621.9152   \n",
       "1986-06-01   0.106771  250.839996  109.5  56.4959     662.8  627.8910   \n",
       "1986-07-01   0.098958  236.119995  109.5  56.8096     673.4  633.6083   \n",
       "\n",
       "            BMINUSA  USTB3M  USTB10Y  \n",
       "Date                                  \n",
       "1986-03-01     1.50    6.76     7.78  \n",
       "1986-04-01     1.40    6.24     7.30  \n",
       "1986-05-01     1.20    6.33     7.71  \n",
       "1986-06-01     1.21    6.40     7.80  \n",
       "1986-07-01     1.28    6.00     7.30  "
      ]
     },
     "execution_count": 2,
     "metadata": {},
     "output_type": "execute_result"
    }
   ],
   "source": [
    "data = pd.read_excel('macro.xls', index_col=0)\n",
    "data.head()\n"
   ]
  },
  {
   "cell_type": "markdown",
   "metadata": {},
   "source": [
    "Now that we have prepared the dataset we can start with the actual analysis. The first stage is **to\n",
    "generate a set of changes or differences for each of the variables**, since APT posits that the stock\n",
    "returns can be explained by reference to the unexpected changes in the macroeconomic variables\n",
    "rather than their levels. The unexpected value of a variable can be defined as **the difference between\n",
    "the actual (realised) value of the variable and its expected value**. The question then arises about how we believe that investors might have formed their expectations, and while there are many ways to\n",
    "construct measures of expectations, **the easiest is to assume that investors have naive expectations\n",
    "that the next period value of the variable is equal to the current value**. This being the case, the entire change in the variable from one period to the next is the unexpected change (because investors are assumed to expect no change)"
   ]
  },
  {
   "cell_type": "markdown",
   "metadata": {},
   "source": [
    "To transform the variables, we re-construct the DataFrame where each variable is defined and\n",
    "computed as follows: To compute changes or differences, we set up a user-defined function to facilitate the calculation as used in previous sections"
   ]
  },
  {
   "cell_type": "code",
   "execution_count": 3,
   "metadata": {},
   "outputs": [],
   "source": [
    "def LogDiff(x):\n",
    "    x_diff = 100*np.log(x/x.shift(1))\n",
    "    x_diff = x_diff.dropna()\n",
    "    return x_diff\n"
   ]
  },
  {
   "cell_type": "code",
   "execution_count": 4,
   "metadata": {},
   "outputs": [],
   "source": [
    "data = pd.DataFrame({'dspread' : data['BMINUSA'] - \\\n",
    "data['BMINUSA'].shift(1),\n",
    "'dcredit' : data['CCREDIT'] - \\\n",
    "data['CCREDIT'].shift(1),\n",
    "'dprod' : data['INDPRO'] - \\\n",
    "data['INDPRO'].shift(1),\n",
    "'rmsoft' : LogDiff(data['MICROSOFT']),\n",
    "'rsandp' : LogDiff(data['SANDP']),\n",
    "'dmoney' : data['M1SUPPLY'] - \\\n",
    "data['M1SUPPLY'].shift(1),\n",
    "'inflation' : LogDiff(data['CPI']),\n",
    "'term' : data['USTB10Y'] - data['USTB3M'],\n",
    "'dinflation' : LogDiff(data['CPI']) - \\\n",
    "LogDiff(data['CPI']).shift(1),\n",
    "'mustb3m' : data['USTB3M']/12,\n",
    "'rterm' : (data['USTB10Y'] - data['USTB3M']) - \\\n",
    "(data['USTB10Y'] - data['USTB3M']).shift(1),\n",
    "'ermsoft' : LogDiff(data['MICROSOFT']) - \\\n",
    "data['USTB3M']/12,\n",
    "'ersandp' : LogDiff(data['SANDP']) - \\\n",
    "data['USTB3M']/12})"
   ]
  },
  {
   "cell_type": "code",
   "execution_count": 5,
   "metadata": {},
   "outputs": [
    {
     "data": {
      "text/html": [
       "<div>\n",
       "<style scoped>\n",
       "    .dataframe tbody tr th:only-of-type {\n",
       "        vertical-align: middle;\n",
       "    }\n",
       "\n",
       "    .dataframe tbody tr th {\n",
       "        vertical-align: top;\n",
       "    }\n",
       "\n",
       "    .dataframe thead th {\n",
       "        text-align: right;\n",
       "    }\n",
       "</style>\n",
       "<table border=\"1\" class=\"dataframe\">\n",
       "  <thead>\n",
       "    <tr style=\"text-align: right;\">\n",
       "      <th></th>\n",
       "      <th>dspread</th>\n",
       "      <th>dcredit</th>\n",
       "      <th>dprod</th>\n",
       "      <th>rmsoft</th>\n",
       "      <th>rsandp</th>\n",
       "      <th>dmoney</th>\n",
       "      <th>inflation</th>\n",
       "      <th>term</th>\n",
       "      <th>dinflation</th>\n",
       "      <th>mustb3m</th>\n",
       "      <th>rterm</th>\n",
       "      <th>ermsoft</th>\n",
       "      <th>ersandp</th>\n",
       "    </tr>\n",
       "    <tr>\n",
       "      <th>Date</th>\n",
       "      <th></th>\n",
       "      <th></th>\n",
       "      <th></th>\n",
       "      <th></th>\n",
       "      <th></th>\n",
       "      <th></th>\n",
       "      <th></th>\n",
       "      <th></th>\n",
       "      <th></th>\n",
       "      <th></th>\n",
       "      <th></th>\n",
       "      <th></th>\n",
       "      <th></th>\n",
       "    </tr>\n",
       "  </thead>\n",
       "  <tbody>\n",
       "    <tr>\n",
       "      <th>1986-03-01</th>\n",
       "      <td>NaN</td>\n",
       "      <td>NaN</td>\n",
       "      <td>NaN</td>\n",
       "      <td>NaN</td>\n",
       "      <td>NaN</td>\n",
       "      <td>NaN</td>\n",
       "      <td>NaN</td>\n",
       "      <td>1.02</td>\n",
       "      <td>NaN</td>\n",
       "      <td>0.563333</td>\n",
       "      <td>NaN</td>\n",
       "      <td>NaN</td>\n",
       "      <td>NaN</td>\n",
       "    </tr>\n",
       "    <tr>\n",
       "      <th>1986-04-01</th>\n",
       "      <td>-0.10</td>\n",
       "      <td>7.5679</td>\n",
       "      <td>0.0240</td>\n",
       "      <td>15.933171</td>\n",
       "      <td>-1.424918</td>\n",
       "      <td>22.7</td>\n",
       "      <td>-0.183993</td>\n",
       "      <td>1.06</td>\n",
       "      <td>NaN</td>\n",
       "      <td>0.520000</td>\n",
       "      <td>0.04</td>\n",
       "      <td>15.413171</td>\n",
       "      <td>-1.944918</td>\n",
       "    </tr>\n",
       "    <tr>\n",
       "      <th>1986-05-01</th>\n",
       "      <td>-0.20</td>\n",
       "      <td>7.5483</td>\n",
       "      <td>0.1196</td>\n",
       "      <td>8.183334</td>\n",
       "      <td>4.900851</td>\n",
       "      <td>-1.3</td>\n",
       "      <td>0.275862</td>\n",
       "      <td>1.38</td>\n",
       "      <td>0.459855</td>\n",
       "      <td>0.527500</td>\n",
       "      <td>0.32</td>\n",
       "      <td>7.655834</td>\n",
       "      <td>4.373351</td>\n",
       "    </tr>\n",
       "    <tr>\n",
       "      <th>1986-06-01</th>\n",
       "      <td>0.01</td>\n",
       "      <td>5.9758</td>\n",
       "      <td>-0.1891</td>\n",
       "      <td>-12.945833</td>\n",
       "      <td>1.401091</td>\n",
       "      <td>17.1</td>\n",
       "      <td>0.549452</td>\n",
       "      <td>1.40</td>\n",
       "      <td>0.273590</td>\n",
       "      <td>0.533333</td>\n",
       "      <td>0.02</td>\n",
       "      <td>-13.479167</td>\n",
       "      <td>0.867757</td>\n",
       "    </tr>\n",
       "    <tr>\n",
       "      <th>1986-07-01</th>\n",
       "      <td>0.07</td>\n",
       "      <td>5.7173</td>\n",
       "      <td>0.3137</td>\n",
       "      <td>-7.599084</td>\n",
       "      <td>-6.047514</td>\n",
       "      <td>10.6</td>\n",
       "      <td>0.000000</td>\n",
       "      <td>1.30</td>\n",
       "      <td>-0.549452</td>\n",
       "      <td>0.500000</td>\n",
       "      <td>-0.10</td>\n",
       "      <td>-8.099084</td>\n",
       "      <td>-6.547514</td>\n",
       "    </tr>\n",
       "  </tbody>\n",
       "</table>\n",
       "</div>"
      ],
      "text/plain": [
       "            dspread  dcredit   dprod     rmsoft    rsandp  dmoney  inflation  \\\n",
       "Date                                                                           \n",
       "1986-03-01      NaN      NaN     NaN        NaN       NaN     NaN        NaN   \n",
       "1986-04-01    -0.10   7.5679  0.0240  15.933171 -1.424918    22.7  -0.183993   \n",
       "1986-05-01    -0.20   7.5483  0.1196   8.183334  4.900851    -1.3   0.275862   \n",
       "1986-06-01     0.01   5.9758 -0.1891 -12.945833  1.401091    17.1   0.549452   \n",
       "1986-07-01     0.07   5.7173  0.3137  -7.599084 -6.047514    10.6   0.000000   \n",
       "\n",
       "            term  dinflation   mustb3m  rterm    ermsoft   ersandp  \n",
       "Date                                                                \n",
       "1986-03-01  1.02         NaN  0.563333    NaN        NaN       NaN  \n",
       "1986-04-01  1.06         NaN  0.520000   0.04  15.413171 -1.944918  \n",
       "1986-05-01  1.38    0.459855  0.527500   0.32   7.655834  4.373351  \n",
       "1986-06-01  1.40    0.273590  0.533333   0.02 -13.479167  0.867757  \n",
       "1986-07-01  1.30   -0.549452  0.500000  -0.10  -8.099084 -6.547514  "
      ]
     },
     "execution_count": 5,
     "metadata": {},
     "output_type": "execute_result"
    }
   ],
   "source": [
    "data.head()"
   ]
  },
  {
   "cell_type": "markdown",
   "metadata": {},
   "source": [
    "We save the data for for future research since the calculation of these series is handy. Recall that although there are several ways of keeping data file, we employ the pickle library and save all columns"
   ]
  },
  {
   "cell_type": "code",
   "execution_count": 6,
   "metadata": {},
   "outputs": [],
   "source": [
    "import pickle\n"
   ]
  },
  {
   "cell_type": "code",
   "execution_count": 7,
   "metadata": {},
   "outputs": [],
   "source": [
    "with open('macro.pickle', 'wb') as handle:\n",
    "    pickle.dump(data, handle)\n"
   ]
  },
  {
   "cell_type": "markdown",
   "metadata": {},
   "source": [
    "We can now run the regression. To create a regression specification, we first write the formula statement ’ermsoft ∼ ersandp + dprod + dcredit + dinflation + dmoney + dspread + rterm’. The formula\n",
    "string will automatically add a constant term, unless the user types ’-1’ at the end of the formula.\n",
    "Next, the regression function ols is called from statsmodels.formula.api, written in shorthand as\n",
    "smf, with both the formula and data input. The function fit following it allows for different treatments of the regression standard errors. Here we leave it as the default setting. Finally, typing the command print(results.summary()) obtains all the information from the regression."
   ]
  },
  {
   "cell_type": "code",
   "execution_count": 8,
   "metadata": {},
   "outputs": [],
   "source": [
    "formula = 'ermsoft ~ ersandp + dprod + dcredit + dinflation + dmoney + dspread + rterm'"
   ]
  },
  {
   "cell_type": "code",
   "execution_count": 9,
   "metadata": {},
   "outputs": [
    {
     "name": "stdout",
     "output_type": "stream",
     "text": [
      "                            OLS Regression Results                            \n",
      "==============================================================================\n",
      "Dep. Variable:                ermsoft   R-squared:                       0.345\n",
      "Model:                            OLS   Adj. R-squared:                  0.333\n",
      "Method:                 Least Squares   F-statistic:                     28.24\n",
      "Date:                Fri, 30 Jul 2021   Prob (F-statistic):           3.52e-31\n",
      "Time:                        08:25:46   Log-Likelihood:                -1328.3\n",
      "No. Observations:                 383   AIC:                             2673.\n",
      "Df Residuals:                     375   BIC:                             2704.\n",
      "Df Model:                           7                                         \n",
      "Covariance Type:            nonrobust                                         \n",
      "==============================================================================\n",
      "                 coef    std err          t      P>|t|      [0.025      0.975]\n",
      "------------------------------------------------------------------------------\n",
      "Intercept      1.3260      0.475      2.789      0.006       0.391       2.261\n",
      "ersandp        1.2808      0.094     13.574      0.000       1.095       1.466\n",
      "dprod         -0.3030      0.737     -0.411      0.681      -1.752       1.146\n",
      "dcredit       -0.0254      0.027     -0.934      0.351      -0.079       0.028\n",
      "dinflation     2.1947      1.264      1.736      0.083      -0.291       4.681\n",
      "dmoney        -0.0069      0.016     -0.441      0.659      -0.037       0.024\n",
      "dspread        2.2601      4.140      0.546      0.585      -5.881      10.401\n",
      "rterm          4.7331      1.716      2.758      0.006       1.359       8.107\n",
      "==============================================================================\n",
      "Omnibus:                       21.147   Durbin-Watson:                   2.097\n",
      "Prob(Omnibus):                  0.000   Jarque-Bera (JB):               63.505\n",
      "Skew:                          -0.006   Prob(JB):                     1.62e-14\n",
      "Kurtosis:                       4.995   Cond. No.                         293.\n",
      "==============================================================================\n",
      "\n",
      "Notes:\n",
      "[1] Standard Errors assume that the covariance matrix of the errors is correctly specified.\n"
     ]
    }
   ],
   "source": [
    "results = smf.ols(formula, data).fit()\n",
    "print(results.summary())"
   ]
  },
  {
   "cell_type": "markdown",
   "metadata": {},
   "source": [
    "### What should we focus on in the regression table? \n",
    "Although the output table above contains a lot of information, we only need to focus on a small number of quantities.\n",
    "These are the coefficients (the estimates of $\\beta_0$ and $\\beta_1$), as well as their $p$- and $R$-squared values."
   ]
  },
  {
   "cell_type": "markdown",
   "metadata": {},
   "source": [
    "### $p$-values\n",
    "The null hypothesis we are testing here is \n",
    "$$ H_0:  \\beta_1 = 0 $$ \n",
    "and the alternative is\n",
    "$$ H_a: \\beta_1 \\neq 0.$$\n",
    "The [p-value](https://towardsdatascience.com/p-values-explained-by-data-scientist-f40a746cfc8) of $\\beta_1$ (given under the column: $\"P>|t|\"$) is XXXX.  Thus, it is statistically significant at the XXXX level, and we XXXX the null hypothesis. This implies that ....."
   ]
  },
  {
   "cell_type": "markdown",
   "metadata": {},
   "source": [
    "Let us take a few minutes to examine the main regression results. Which of the variables has a\n",
    "statistically significant impact on the Microsoft excess returns? Readers can use their knowledge of\n",
    "the effects of the financial and macroeconomic environment on stock returns **to examine whether the\n",
    "coefficients have their expected signs and whether the sizes of the parameters are plausible**.\n",
    "The regression **F-statistic takes a value of 28.24 (third row, top right corner)**. Remember that\n",
    "this tests the null hypothesis of all the slope parameters being jointly zero. The p-value of zero\n",
    "attached to the test statistic shows that this null hypothesis should be rejected. However, a number\n",
    "of parameter estimates are not significantly different from zero -- specifically, those on the ’dprod’,\n",
    "’dcredit’, ’dmoney’ and ’dspread’ variables."
   ]
  },
  {
   "cell_type": "code",
   "execution_count": 10,
   "metadata": {},
   "outputs": [
    {
     "name": "stdout",
     "output_type": "stream",
     "text": [
      "<F test: F=array([[0.41387856]]), p=0.7986453783414765, df_denom=375, df_num=4>\n"
     ]
    }
   ],
   "source": [
    "hypotheses = 'dprod = dcredit = dmoney = dspread = 0'\n",
    "f_test = results.f_test(hypotheses)\n",
    "print(f_test)"
   ]
  },
  {
   "cell_type": "markdown",
   "metadata": {},
   "source": [
    "Let us test the **null hypothesis that the parameters on these four variables are jointly zero using an\n",
    "F-test**. To achieve this, we write the hypotheses using the string literals 'dprod = dcredit = dmoney\n",
    "= dspread = 0'. Applying the function f_test from the instance result and\n",
    "typing the command f_test = results.f_test(hypotheses).\n",
    "As shown, the resulting F-test statistic value is 0.414 with p-value 0.799; there are four restrictions and 375 usable observations. This\n",
    "suggests that the null hypothesis cannot be rejected."
   ]
  },
  {
   "cell_type": "markdown",
   "metadata": {},
   "source": [
    "## $R$-squared\n",
    "\n",
    "One of the key quantities that should be paid attention to while interpreting a regression table is the quantity\n",
    "[$R$-squared](https://blog.minitab.com/blog/adventures-in-statistics-2/regression-analysis-how-do-i-interpret-r-squared-and-assess-the-goodness-of-fit). Note that the table shows $R$-squared and adjusted $R$-squared. We will focus on $R$-squared. This quantity is always going to be between 0 and 1. For the pay vs. age model, this quantity is 0.345 = 34.5%. \n",
    "\n",
    "An $R$-squared of 34.5% in this linear model means that **this observed variation in ermsoft is not due to random chance**; rather, the factors analyzed systematically explains 34.5% of this variation in  ermsoft. The higher the $R$-squared, the higher the percentage of observed variation that can be explained by the model. "
   ]
  },
  {
   "cell_type": "markdown",
   "metadata": {},
   "source": [
    "### Geometric interpretation of $R$-Squared\n",
    "The formula for $R$-squared is the following:\n",
    "  $$ R^2 = 1 - \\frac{\\mathrm{RSS}}{\\mathrm{TSS}} $$\n",
    "Here [RSS](https://gerardnico.com/data_mining/rss) and [TSS](https://gerardnico.com/data_mining/tss) denote the Residual and Total Sum of Squares respectively. To understand the above\n",
    "formula carefully, let us plot pay vs. age again. "
   ]
  },
  {
   "cell_type": "code",
   "execution_count": null,
   "metadata": {},
   "outputs": [],
   "source": []
  },
  {
   "cell_type": "code",
   "execution_count": 21,
   "metadata": {},
   "outputs": [
    {
     "data": {
      "text/plain": [
       "Date\n",
       "1986-05-01    -1.124588\n",
       "1986-06-01   -16.422526\n",
       "1986-07-01     0.794840\n",
       "1986-08-01   -11.473687\n",
       "1986-09-01     6.478145\n",
       "dtype: float64"
      ]
     },
     "execution_count": 21,
     "metadata": {},
     "output_type": "execute_result"
    }
   ],
   "source": [
    "## Write code to find residuals from fitted values\n",
    "res = data['ermsoft'] - results.fittedvalues\n",
    "res = res.dropna()\n",
    "res[0:5]"
   ]
  },
  {
   "cell_type": "code",
   "execution_count": 22,
   "metadata": {},
   "outputs": [
    {
     "data": {
      "text/plain": [
       "Date\n",
       "1986-05-01    -1.124588\n",
       "1986-06-01   -16.422526\n",
       "1986-07-01     0.794840\n",
       "1986-08-01   -11.473687\n",
       "1986-09-01     6.478145\n",
       "dtype: float64"
      ]
     },
     "execution_count": 22,
     "metadata": {},
     "output_type": "execute_result"
    }
   ],
   "source": [
    "results.resid[0:5]"
   ]
  },
  {
   "cell_type": "code",
   "execution_count": 43,
   "metadata": {},
   "outputs": [],
   "source": [
    "# The mean for pay \n",
    "mean_ermsoft = data['ermsoft'].mean()\n",
    "\n",
    "dev = (data['ermsoft'] - mean_ermsoft)\n",
    "\n",
    "dev = dev.dropna()\n",
    "\n",
    "## The total sum of squares:\n",
    "TSS = sum(dev*dev)\n",
    "\n",
    "## Residual sum of squares\n",
    "RSS = sum(res*res)"
   ]
  },
  {
   "cell_type": "code",
   "execution_count": 45,
   "metadata": {},
   "outputs": [
    {
     "data": {
      "text/plain": [
       "23078.10860011572"
      ]
     },
     "execution_count": 45,
     "metadata": {},
     "output_type": "execute_result"
    }
   ],
   "source": [
    "RSS"
   ]
  },
  {
   "cell_type": "code",
   "execution_count": 46,
   "metadata": {},
   "outputs": [
    {
     "data": {
      "text/plain": [
       "0.34878444669506875"
      ]
     },
     "execution_count": 46,
     "metadata": {},
     "output_type": "execute_result"
    }
   ],
   "source": [
    "R_squared = (TSS - RSS)/TSS\n",
    "R_squared"
   ]
  },
  {
   "cell_type": "markdown",
   "metadata": {},
   "source": [
    "### Diagnostic testing"
   ]
  },
  {
   "cell_type": "markdown",
   "metadata": {},
   "source": [
    "#### Testing for heteroscedasticity"
   ]
  },
  {
   "cell_type": "markdown",
   "metadata": {},
   "source": [
    "This time, we are less interested in the coefficient estimates reported in the regression summary table,\n",
    "but we focus on the properties of the residuals from this regression. **To get a first impression of the\n",
    "characteristics of the residuals, we want to plot them**. To obtain the residuals, we use the command\n",
    "**results.resid**, which allows us to access the residuals of regression specification from the instance\n",
    "results. To plot this series, we then create a figure and plot the series by the plot. The X and Y axes\n",
    "are further options to be set up depending on what the user requires. \n"
   ]
  },
  {
   "cell_type": "markdown",
   "metadata": {},
   "source": [
    "Let us examine the patterns in the residuals over time. **If the residuals of the\n",
    "regression have a systematically changing variability over the sample, that is a sign of heteroscedasticity**. In this case, it is hard to see any clear pattern (although it is interesting to note the considerable\n",
    "reduction in volatility post-2003), so we need to run a formal statistical test"
   ]
  },
  {
   "cell_type": "code",
   "execution_count": 15,
   "metadata": {},
   "outputs": [],
   "source": [
    "import pickle\n",
    "import statsmodels.formula.api as smf\n",
    "import statsmodels.stats.api as sms\n",
    "import matplotlib.pyplot as plt\n",
    "from statsmodels.compat import lzip"
   ]
  },
  {
   "cell_type": "code",
   "execution_count": 13,
   "metadata": {},
   "outputs": [
    {
     "data": {
      "image/png": "[encoded data removed]",
      "text/plain": [
       "<Figure size 432x288 with 1 Axes>"
      ]
     },
     "metadata": {
      "needs_background": "light"
     },
     "output_type": "display_data"
    }
   ],
   "source": [
    "plt.figure(1)\n",
    "plt.plot(results.resid)\n",
    "plt.xlabel('Date')\n",
    "plt.ylabel('Residuals')\n",
    "plt.grid(True)\n",
    "plt.show()"
   ]
  },
  {
   "cell_type": "markdown",
   "metadata": {},
   "source": [
    "To do so, we select the function **het_breuschpagan** from the Statsmodel library. **The aim of this function is to test the hypothesis that the residual variance does not depend on functions (higher order\n",
    "powers or multiplicative combinations) of the explanatory variables**, thus requiring two essential\n",
    "inputs: 'residuals' and 'exogenous variables'."
   ]
  },
  {
   "cell_type": "markdown",
   "metadata": {},
   "source": [
    "There are four outputs in total produced by this function: a Lagrange multiplier statistic, p-value,\n",
    "F-test statistic value and F-test p-value. Note that the het_breuschpagan tests the hypothesis in two\n",
    "ways. The first method is to employ the generic formula for an LM test using $n*R^2$\n",
    "(the number\n",
    "of observations times the auxiliary regression), while the F-statistic is preferable when samples are\n",
    "small or moderately large since otherwise the test exaggerates the statistical significance. To better\n",
    "present the two test results, we finally create a list with four names and link them to each statistic."
   ]
  },
  {
   "cell_type": "markdown",
   "metadata": {},
   "source": [
    "As you can see from the test statistics and p-values, both tests lead to the conclusion that there\n",
    "does not seem to be a serious problem of heteroscedastic errors for our APT-style model with the\n",
    "p-values both being 0.87, respectively."
   ]
  },
  {
   "cell_type": "code",
   "execution_count": 16,
   "metadata": {},
   "outputs": [
    {
     "data": {
      "text/plain": [
       "[('Lagrange multiplier statistic', 3.16066015042023),\n",
       " ('p-value', 0.8697526743786463),\n",
       " ('f-value', 0.445770255271215),\n",
       " ('f p-value', 0.8729003404188317)]"
      ]
     },
     "execution_count": 16,
     "metadata": {},
     "output_type": "execute_result"
    }
   ],
   "source": [
    "# breusch-pagan heteroskedasticity test\n",
    "name = ['Lagrange multiplier statistic', 'p-value',\n",
    "'f-value', 'f p-value']\n",
    "test = sms.het_breuschpagan(results.resid, results.model.exog)\n",
    "lzip(name, test)"
   ]
  },
  {
   "cell_type": "markdown",
   "metadata": {},
   "source": [
    "We can specify **to estimate the regression with heteroscedasticity-robust standard errors in Python**.\n",
    "When we create the regression specification by the command smf.ols(formula, data), we usually\n",
    "follow the function fit to produce the result instance. So far, we have only focused on the regression\n",
    "model itself that specifies the dependent and independent variables. If we move to usage of the fit\n",
    "function, we are presented with different options for adjusting the standard errors."
   ]
  },
  {
   "cell_type": "markdown",
   "metadata": {},
   "source": [
    "In order to obtain **standard errors that are robust to heteroscedasticity**, we select the argument\n",
    "cov_type=’HC1’. Obviously, there are a number of options you can select. For more information\n",
    "on the different standard error adjustments, refer to the Statsmodel documentation. Comparing\n",
    "the regression output for our APT-style model using robust standard errors with that using ordinary\n",
    "standard errors, we find that the changes in significance are only marginal, as shown in the output\n",
    "below"
   ]
  },
  {
   "cell_type": "code",
   "execution_count": 17,
   "metadata": {},
   "outputs": [
    {
     "name": "stdout",
     "output_type": "stream",
     "text": [
      "                            OLS Regression Results                            \n",
      "==============================================================================\n",
      "Dep. Variable:                ermsoft   R-squared:                       0.345\n",
      "Model:                            OLS   Adj. R-squared:                  0.333\n",
      "Method:                 Least Squares   F-statistic:                     29.89\n",
      "Date:                Fri, 30 Jul 2021   Prob (F-statistic):           9.27e-33\n",
      "Time:                        09:22:46   Log-Likelihood:                -1328.3\n",
      "No. Observations:                 383   AIC:                             2673.\n",
      "Df Residuals:                     375   BIC:                             2704.\n",
      "Df Model:                           7                                         \n",
      "Covariance Type:                  HC1                                         \n",
      "==============================================================================\n",
      "                 coef    std err          z      P>|z|      [0.025      0.975]\n",
      "------------------------------------------------------------------------------\n",
      "Intercept      1.3260      0.459      2.888      0.004       0.426       2.226\n",
      "ersandp        1.2808      0.093     13.778      0.000       1.099       1.463\n",
      "dprod         -0.3030      0.635     -0.478      0.633      -1.547       0.941\n",
      "dcredit       -0.0254      0.021     -1.219      0.223      -0.066       0.015\n",
      "dinflation     2.1947      1.307      1.679      0.093      -0.367       4.756\n",
      "dmoney        -0.0069      0.011     -0.630      0.528      -0.028       0.014\n",
      "dspread        2.2601      3.428      0.659      0.510      -4.458       8.978\n",
      "rterm          4.7331      1.727      2.741      0.006       1.349       8.117\n",
      "==============================================================================\n",
      "Omnibus:                       21.147   Durbin-Watson:                   2.097\n",
      "Prob(Omnibus):                  0.000   Jarque-Bera (JB):               63.505\n",
      "Skew:                          -0.006   Prob(JB):                     1.62e-14\n",
      "Kurtosis:                       4.995   Cond. No.                         293.\n",
      "==============================================================================\n",
      "\n",
      "Notes:\n",
      "[1] Standard Errors are heteroscedasticity robust (HC1)\n"
     ]
    }
   ],
   "source": [
    "results = smf.ols(formula, data).fit(cov_type='HC1')\n",
    "print(results.summary())"
   ]
  },
  {
   "cell_type": "markdown",
   "metadata": {},
   "source": [
    "**Of course, only the standard errors have changed and the parameter estimates remain identical to\n",
    "those estimated before**. The heteroscedasticity-consistent **standard errors are smaller for most variables, resulting in t-ratios growing in absolute value and p-values being smaller**. The main changes in\n",
    "the conclusions reached are that the difference in the consumer credit variable ('dcredit'), which was\n",
    "previously significant only at the 10% level, is now significant at 5%, and the unexpected inflation\n",
    "and change in industrial production variables are now significant at the 10% level."
   ]
  },
  {
   "cell_type": "markdown",
   "metadata": {},
   "source": [
    "#### Autocorrelation and dynamic models"
   ]
  },
  {
   "cell_type": "markdown",
   "metadata": {},
   "source": [
    "In this section, we want to apply different tests for autocorrelation in Python using the APT-style model. The simplest test for autocorrelation is due to **Durbin and Watson (1951)**. **It is a test for first-order\n",
    "autocorrelation** - i.e., **it tests only for a relationship between an error and its immediately previous\n",
    "value**. To access the Durbin-Watson test, we access the function durbin_watson via the module\n",
    "statsmodels.stats.api and generate a new variable residuals by the command results.resid.\n",
    "\n"
   ]
  },
  {
   "cell_type": "code",
   "execution_count": 19,
   "metadata": {},
   "outputs": [],
   "source": [
    "residuals = results.resid"
   ]
  },
  {
   "cell_type": "code",
   "execution_count": 20,
   "metadata": {},
   "outputs": [
    {
     "data": {
      "text/plain": [
       "2.0973940504299913"
      ]
     },
     "execution_count": 20,
     "metadata": {},
     "output_type": "execute_result"
    }
   ],
   "source": [
    "sms.durbin_watson(residuals)"
   ]
  },
  {
   "cell_type": "markdown",
   "metadata": {},
   "source": [
    "The value of the DW statistic is 2.097. What is the appropriate conclusion regarding the presence or\n",
    "otherwise of first order autocorrelation in this case?"
   ]
  },
  {
   "cell_type": "markdown",
   "metadata": {},
   "source": [
    "We must not reject the null hypothesis because there is little evidence of\n",
    "autocorrelation"
   ]
  },
  {
   "cell_type": "markdown",
   "metadata": {},
   "source": [
    "An alternative test for autocorrelation is the **Breusch-Godfrey test**. It is more general than DW\n",
    "and allows us to test for higher order autocorrelation. In Python, the Breusch-Godfrey test can be\n",
    "conducted by the same module statsmodels.stats.api. There are two inputs for this test: **we need to\n",
    "feed the function with the results instance created by the OLS specification beforehand and employ\n",
    "10 lags in the test**. However, unlike the Durbin-Watson test, which only produces one statistic, there\n",
    "are four outputs for the Breusch-Godfrey test. This is because the hypothesis is tested in two different ways. Consistent with the example above, we create a list with the name of the output in order to better present the results. The final results shall appear as below."
   ]
  },
  {
   "cell_type": "code",
   "execution_count": 21,
   "metadata": {},
   "outputs": [
    {
     "data": {
      "text/plain": [
       "[('Lagrange multiplier statistic', 4.766591436782221),\n",
       " ('p-value', 0.9062145800242334),\n",
       " ('f-value', 0.45998207324796764),\n",
       " ('f p-value', 0.915017998157289)]"
      ]
     },
     "execution_count": 21,
     "metadata": {},
     "output_type": "execute_result"
    }
   ],
   "source": [
    "name = ['Lagrange multiplier statistic', 'p-value',\n",
    "'f-value', 'f p-value']\n",
    "results1 = sms.acorr_breusch_godfrey(results, 10)\n",
    "lzip(name, results1)"
   ]
  },
  {
   "cell_type": "markdown",
   "metadata": {},
   "source": [
    "Therefore, we can not reject the null hypothesis"
   ]
  },
  {
   "cell_type": "markdown",
   "metadata": {},
   "source": [
    "### Testing for non-normality"
   ]
  },
  {
   "cell_type": "markdown",
   "metadata": {},
   "source": [
    "One of the most commonly applied tests for normality is the Bera-Jarque (BJ) test. Assume that we\n",
    "would like to test whether the normality assumption is satisfied for the residuals of the APT-style\n",
    "regression of Microsoft stock on the unexpected changes in the financial and economic factors, i.e.\n",
    "the ’residuals’ variable that we created."
   ]
  },
  {
   "cell_type": "markdown",
   "metadata": {},
   "source": [
    "Before calculating the actual test statistic, it might be useful to have a look at the data as this might\n",
    "give us a first idea of whether the residuals might be normally distributed. If the residuals follow a\n",
    "normal distribution we expect a histogram of the residuals to be bell-shaped (with no outliers). To\n",
    "create a histogram of the residuals, we first generate an OLS regression outcome instance with the\n",
    "variable named results and access the residual series by the command results.resid. We next are going to plot the 'residuals'. Specifically, we first create a figure object by the module matplotlib.pyplot.\n",
    "Plotting the series by the function hist and setting up additional parameters such as the number of\n",
    "bins, edgecolour, linewidth, x and y axis and so on."
   ]
  },
  {
   "cell_type": "code",
   "execution_count": 22,
   "metadata": {},
   "outputs": [
    {
     "data": {
      "image/png": "[encoded data removed]",
      "text/plain": [
       "<Figure size 432x288 with 1 Axes>"
      ]
     },
     "metadata": {
      "needs_background": "light"
     },
     "output_type": "display_data"
    }
   ],
   "source": [
    "plt.figure(1)\n",
    "plt.hist(residuals,20,edgecolor='black',linewidth=1.2)\n",
    "plt.xlabel('Residuals')\n",
    "plt.ylabel('Density')\n",
    "plt.show()"
   ]
  },
  {
   "cell_type": "markdown",
   "metadata": {},
   "source": [
    "Looking at the histogram plot, we see that the distribution of the residuals roughly resembles a bell-shape although we also find that there are some large negative outliers which might\n",
    "lead to a considerable negative skewness. We could increase the number of bins or lower the width\n",
    "of the bins in order to obtain a more differentiated histogram."
   ]
  },
  {
   "cell_type": "markdown",
   "metadata": {},
   "source": [
    "However, if we want to test the normality assumption of the residuals more formally, it is best to\n",
    "turn to a normality test. The standard test for the normality of a data series in Python is the BJ test.\n",
    "To do so, we feed the variable 'residuals' into the function jarque_bera and zip the output’s names\n",
    "with outcomes. The result appear in the output window below."
   ]
  },
  {
   "cell_type": "code",
   "execution_count": 23,
   "metadata": {},
   "outputs": [
    {
     "data": {
      "text/plain": [
       "[('Jarque-Bera', 63.505472671589565),\n",
       " ('Chi^2 two-tail prob.', 1.6216675409917293e-14),\n",
       " ('Skew', -0.00561267747998391),\n",
       " ('Kurtosis', 4.994825605906648)]"
      ]
     },
     "execution_count": 23,
     "metadata": {},
     "output_type": "execute_result"
    }
   ],
   "source": [
    "name = ['Jarque-Bera', 'Chi^2 two-tail prob.', 'Skew', 'Kurtosis']\n",
    "test = sms.jarque_bera(residuals)\n",
    "lzip(name, test)"
   ]
  },
  {
   "cell_type": "markdown",
   "metadata": {},
   "source": [
    "Python reports the BJ statistic and χ\n",
    "2\n",
    "two-tailed p-value for the **test that the residuals are overall\n",
    "normally distributed**, i.e., that both the kurtosis and the skewness are those of a normal distribution.\n",
    "What could cause this strong deviation from normality? Having another look at the histogram,\n",
    "it appears to have been caused by a small number of very large negative residuals representing\n",
    "monthly stock price falls of more than –25%. What does the non-normality of residuals imply for the\n",
    "inferences we make about coefficient estimates? Generally speaking, **it could mean that these inferences could be wrong**, although the sample is probably large enough that we need be less concerned\n",
    "than we would with a smaller sample."
   ]
  },
  {
   "cell_type": "markdown",
   "metadata": {},
   "source": [
    "### Dummy variable construction and use"
   ]
  },
  {
   "cell_type": "markdown",
   "metadata": {},
   "source": [
    "As we saw from the plot of the distribution above, **the non-normality in the residuals from the Microsoft regression appears to have been caused by a small number of outliers in the sample**. Such\n",
    "events can be identified if they are present by plotting the actual values and the residuals of the\n",
    "regression. We have already generated a data series containing the residuals of the Microsoft regression. Let us now create a series of the fitted values. For this, we use the function fittedvalues from the\n",
    "results instance. We name the variable y_fitted and define that it will contain the linear prediction\n",
    "for the Microsoft regression. "
   ]
  },
  {
   "cell_type": "code",
   "execution_count": 24,
   "metadata": {},
   "outputs": [],
   "source": [
    "y_fitted = results.fittedvalues"
   ]
  },
  {
   "cell_type": "markdown",
   "metadata": {},
   "source": [
    "In order to plot both the residuals and fitted values in one times-series graph, we import the matplotlib.pyplot module. As usual, we create a figure object and plot two separate series in two commands. To be able to clearly illustrate each series in the chart, we add the label argument to represent\n",
    "each data series. Then we set up the x and y axis, grid, legend and so on. Finally, type the command\n",
    "plt.show() "
   ]
  },
  {
   "cell_type": "code",
   "execution_count": 25,
   "metadata": {},
   "outputs": [
    {
     "data": {
      "image/png": "[encoded data removed]",
      "text/plain": [
       "<Figure size 432x288 with 1 Axes>"
      ]
     },
     "metadata": {
      "needs_background": "light"
     },
     "output_type": "display_data"
    }
   ],
   "source": [
    "plt.figure(1)\n",
    "plt.plot(residuals, label='resid')\n",
    "plt.plot(y_fitted, label='linear prediction')\n",
    "plt.xlabel('Date')\n",
    "plt.ylabel('Residuals')\n",
    "plt.grid(True)\n",
    "plt.legend()\n",
    "plt.show()"
   ]
  },
  {
   "cell_type": "markdown",
   "metadata": {},
   "source": [
    "From the graph, **it can be seen that there are several large (negative) outliers**, but the largest all occur\n",
    "in 2000. These large outliers correspond to months where the actual return was much smaller (i.e.,\n",
    "more negative) than the model would have predicted, resulting in a large residual. Interestingly, **the\n",
    "residual in October 1987** is not quite so prominent because even though the stock price fell considerably, the market index value fell as well, so that the stock price fall was at least in part predicted.\n",
    "In order to identify the exact dates when the biggest outliers were realised, it is probably easiest\n",
    "to just examine a table of values for the residuals. This can be done by applying the Pandas built-in\n",
    "function nsmallest and specifying the number of smallest values to pick up. Hitting SHIFT and\n",
    "ENTER leads Python to output the two smallest values from the given series."
   ]
  },
  {
   "cell_type": "code",
   "execution_count": 26,
   "metadata": {},
   "outputs": [
    {
     "data": {
      "text/plain": [
       "Date\n",
       "2000-04-01   -36.075347\n",
       "2000-12-01   -28.143156\n",
       "dtype: float64"
      ]
     },
     "execution_count": 26,
     "metadata": {},
     "output_type": "execute_result"
    }
   ],
   "source": [
    "residuals.nsmallest(2)"
   ]
  },
  {
   "cell_type": "markdown",
   "metadata": {},
   "source": [
    "It is evident that the two most extreme residuals were in April (–36.075) and December 2000 (–28.143). One way of removing the (distorting) effect of big outliers in the data is by using dummy variables. It would be tempting, but incorrect, to construct one dummy variable that takes the value 1 for both\n",
    "April and December 2000. This would not have the desired effect of setting both residuals to zero.\n",
    "Instead, to remove two outliers requires us to construct two separate dummy variables. In order to\n",
    "create the April 2000 dummy first, we generate a series called 'APR00DUM' into data DataFrame. To\n",
    "precisely assign the value 1 on the date of April 2000 while keeping the rest of the series as zeros, we employ the built-in function where from the NumPy module; there are three parameters are required\n",
    "as inputs: condition, x, and y, respectively. The first argument would be the condition, since the aim\n",
    "of this function is to return elements, either from the series x or y, depending on the condition. In\n",
    "other words, the function will yield the value of x when the condition is true, otherwise it will yield\n",
    "y. "
   ]
  },
  {
   "cell_type": "markdown",
   "metadata": {},
   "source": [
    "In this setting, we set up the argument data.index == '2000-4-1' since the returned elements would\n",
    "take the value 1 only when the index value of the data DataFrame is April 2000.\n",
    "We repeat the process above to create another dummy variable called 'DEC00DUM' that takes\n",
    "the value 1 in December 2000 and zero elsewhere."
   ]
  },
  {
   "cell_type": "markdown",
   "metadata": {},
   "source": [
    "Let us now rerun the regression to see whether the results change once we have removed the\n",
    "effect of the two largest outliers. For this, we just add the two dummy variables APR00DUM and\n",
    "DEC00DUM to the list of independent variables written in the formula statement. Repeating the\n",
    "regression specification commands, the output of this regression should look as follows."
   ]
  },
  {
   "cell_type": "code",
   "execution_count": 27,
   "metadata": {},
   "outputs": [],
   "source": [
    "data['APR00DUM'] = np.where(data.index == '2000-4-1', 1, 0)\n",
    "data['DEC00DUM'] = np.where(data.index == '2000-12-1', 1, 0)\n"
   ]
  },
  {
   "cell_type": "code",
   "execution_count": 28,
   "metadata": {},
   "outputs": [
    {
     "name": "stdout",
     "output_type": "stream",
     "text": [
      "                            OLS Regression Results                            \n",
      "==============================================================================\n",
      "Dep. Variable:                ermsoft   R-squared:                       0.406\n",
      "Model:                            OLS   Adj. R-squared:                  0.392\n",
      "Method:                 Least Squares   F-statistic:                     28.33\n",
      "Date:                Fri, 30 Jul 2021   Prob (F-statistic):           2.22e-37\n",
      "Time:                        11:35:12   Log-Likelihood:                -1309.7\n",
      "No. Observations:                 383   AIC:                             2639.\n",
      "Df Residuals:                     373   BIC:                             2679.\n",
      "Df Model:                           9                                         \n",
      "Covariance Type:            nonrobust                                         \n",
      "==============================================================================\n",
      "                 coef    std err          t      P>|t|      [0.025      0.975]\n",
      "------------------------------------------------------------------------------\n",
      "Intercept      1.4198      0.454      3.125      0.002       0.526       2.313\n",
      "ersandp        1.2539      0.090     13.897      0.000       1.076       1.431\n",
      "dprod         -0.3211      0.705     -0.456      0.649      -1.707       1.065\n",
      "dcredit       -0.0157      0.026     -0.603      0.547      -0.067       0.035\n",
      "dinflation     1.4421      1.215      1.187      0.236      -0.946       3.830\n",
      "dmoney        -0.0057      0.015     -0.383      0.702      -0.035       0.024\n",
      "dspread        1.8693      3.955      0.473      0.637      -5.908       9.647\n",
      "rterm          4.2642      1.641      2.599      0.010       1.038       7.490\n",
      "APR00DUM     -37.0288      7.576     -4.888      0.000     -51.926     -22.132\n",
      "DEC00DUM     -28.7300      7.546     -3.807      0.000     -43.569     -13.891\n",
      "==============================================================================\n",
      "Omnibus:                       20.084   Durbin-Watson:                   2.088\n",
      "Prob(Omnibus):                  0.000   Jarque-Bera (JB):               28.877\n",
      "Skew:                           0.404   Prob(JB):                     5.36e-07\n",
      "Kurtosis:                       4.076   Cond. No.                         560.\n",
      "==============================================================================\n",
      "\n",
      "Notes:\n",
      "[1] Standard Errors assume that the covariance matrix of the errors is correctly specified.\n"
     ]
    }
   ],
   "source": [
    "# regression\n",
    "formula = 'ermsoft ~ ersandp + dprod + dcredit + \\\n",
    "dinflation + dmoney + dspread + rterm + \\\n",
    "APR00DUM + DEC00DUM'\n",
    "results = smf.ols(formula, data).fit()\n",
    "print(results.summary())"
   ]
  },
  {
   "cell_type": "markdown",
   "metadata": {},
   "source": [
    "Note that the dummy variable parameters are both highly significant and take approximately the\n",
    "values that the corresponding residuals would have taken if the dummy variables had not been\n",
    "included in the model. By comparing the results with those of the regression above that excluded\n",
    "the dummy variables, it can be seen that the coefficient estimates on the remaining variables change\n",
    "quite a bit in this instance and the significances improve considerably. The R\n",
    "2 value has risen from 0.34 to 0.41 because of the perfect fit of the dummy\n",
    "variables to those two extreme outlying observations."
   ]
  },
  {
   "cell_type": "markdown",
   "metadata": {},
   "source": [
    " ### Multicollinearity"
   ]
  },
  {
   "cell_type": "markdown",
   "metadata": {},
   "source": [
    "Let us assume that we would like to test for multicollinearity in the Microsoft regression\n",
    "('macro.pickle' workfile). To generate a correlation matrix in Python, we apply the Pandas built-in function corr followed by the DataFrame data. In the command for indexing Pandas columns, we\n",
    "enter the list of regressors (not including the regressand or the S&P500 returns)."
   ]
  },
  {
   "cell_type": "code",
   "execution_count": 30,
   "metadata": {},
   "outputs": [],
   "source": [
    "data = data[['dprod','dcredit','dinflation','dmoney','dspread','rterm']]"
   ]
  },
  {
   "cell_type": "code",
   "execution_count": 31,
   "metadata": {},
   "outputs": [
    {
     "data": {
      "text/html": [
       "<div>\n",
       "<style scoped>\n",
       "    .dataframe tbody tr th:only-of-type {\n",
       "        vertical-align: middle;\n",
       "    }\n",
       "\n",
       "    .dataframe tbody tr th {\n",
       "        vertical-align: top;\n",
       "    }\n",
       "\n",
       "    .dataframe thead th {\n",
       "        text-align: right;\n",
       "    }\n",
       "</style>\n",
       "<table border=\"1\" class=\"dataframe\">\n",
       "  <thead>\n",
       "    <tr style=\"text-align: right;\">\n",
       "      <th></th>\n",
       "      <th>dprod</th>\n",
       "      <th>dcredit</th>\n",
       "      <th>dinflation</th>\n",
       "      <th>dmoney</th>\n",
       "      <th>dspread</th>\n",
       "      <th>rterm</th>\n",
       "    </tr>\n",
       "  </thead>\n",
       "  <tbody>\n",
       "    <tr>\n",
       "      <th>dprod</th>\n",
       "      <td>1.000000</td>\n",
       "      <td>0.094295</td>\n",
       "      <td>-0.143551</td>\n",
       "      <td>-0.052768</td>\n",
       "      <td>-0.052216</td>\n",
       "      <td>-0.043832</td>\n",
       "    </tr>\n",
       "    <tr>\n",
       "      <th>dcredit</th>\n",
       "      <td>0.094295</td>\n",
       "      <td>1.000000</td>\n",
       "      <td>-0.024604</td>\n",
       "      <td>0.150026</td>\n",
       "      <td>0.062877</td>\n",
       "      <td>-0.004053</td>\n",
       "    </tr>\n",
       "    <tr>\n",
       "      <th>dinflation</th>\n",
       "      <td>-0.143551</td>\n",
       "      <td>-0.024604</td>\n",
       "      <td>1.000000</td>\n",
       "      <td>-0.093571</td>\n",
       "      <td>-0.227100</td>\n",
       "      <td>0.041606</td>\n",
       "    </tr>\n",
       "    <tr>\n",
       "      <th>dmoney</th>\n",
       "      <td>-0.052768</td>\n",
       "      <td>0.150026</td>\n",
       "      <td>-0.093571</td>\n",
       "      <td>1.000000</td>\n",
       "      <td>0.169047</td>\n",
       "      <td>0.004045</td>\n",
       "    </tr>\n",
       "    <tr>\n",
       "      <th>dspread</th>\n",
       "      <td>-0.052216</td>\n",
       "      <td>0.062877</td>\n",
       "      <td>-0.227100</td>\n",
       "      <td>0.169047</td>\n",
       "      <td>1.000000</td>\n",
       "      <td>-0.018023</td>\n",
       "    </tr>\n",
       "    <tr>\n",
       "      <th>rterm</th>\n",
       "      <td>-0.043832</td>\n",
       "      <td>-0.004053</td>\n",
       "      <td>0.041606</td>\n",
       "      <td>0.004045</td>\n",
       "      <td>-0.018023</td>\n",
       "      <td>1.000000</td>\n",
       "    </tr>\n",
       "  </tbody>\n",
       "</table>\n",
       "</div>"
      ],
      "text/plain": [
       "               dprod   dcredit  dinflation    dmoney   dspread     rterm\n",
       "dprod       1.000000  0.094295   -0.143551 -0.052768 -0.052216 -0.043832\n",
       "dcredit     0.094295  1.000000   -0.024604  0.150026  0.062877 -0.004053\n",
       "dinflation -0.143551 -0.024604    1.000000 -0.093571 -0.227100  0.041606\n",
       "dmoney     -0.052768  0.150026   -0.093571  1.000000  0.169047  0.004045\n",
       "dspread    -0.052216  0.062877   -0.227100  0.169047  1.000000 -0.018023\n",
       "rterm      -0.043832 -0.004053    0.041606  0.004045 -0.018023  1.000000"
      ]
     },
     "execution_count": 31,
     "metadata": {},
     "output_type": "execute_result"
    }
   ],
   "source": [
    "data.corr()"
   ]
  },
  {
   "cell_type": "markdown",
   "metadata": {},
   "source": [
    "Do the results indicate any significant correlations between the independent variables? In this particular case, the largest observed correlations (in absolute value) are 0.17 between the money supply\n",
    "and spread variables, and −0.23 between the spread and unexpected inflation. Both are probably\n",
    "sufficiently small in absolute value that they can reasonably be ignored."
   ]
  },
  {
   "cell_type": "markdown",
   "metadata": {},
   "source": [
    "### The RESET test for functional form"
   ]
  },
  {
   "cell_type": "markdown",
   "metadata": {},
   "source": [
    "To conduct the RESET test for our Microsoft regression, we need to import the reset_ramsay function\n",
    "from the statsmodels.stats.outliers_influence module. This function requires the regression results."
   ]
  },
  {
   "cell_type": "code",
   "execution_count": 33,
   "metadata": {},
   "outputs": [],
   "source": [
    "from statsmodels.stats.outliers_influence import reset_ramsey"
   ]
  },
  {
   "cell_type": "code",
   "execution_count": 40,
   "metadata": {},
   "outputs": [],
   "source": [
    "with open('macro.pickle', 'rb') as handle:\n",
    "    data = pickle.load(handle)\n"
   ]
  },
  {
   "cell_type": "code",
   "execution_count": 41,
   "metadata": {},
   "outputs": [],
   "source": [
    "data = data.dropna() "
   ]
  },
  {
   "cell_type": "code",
   "execution_count": 42,
   "metadata": {},
   "outputs": [],
   "source": [
    "#formula = 'ermsoft ~ ersandp + dprod + dcredit + dinflation + dmoney + dspread + rterm'\n",
    "results = smf.ols(formula, data).fit()"
   ]
  },
  {
   "cell_type": "code",
   "execution_count": 43,
   "metadata": {},
   "outputs": [
    {
     "data": {
      "text/plain": [
       "<class 'statsmodels.stats.contrast.ContrastResults'>\n",
       "<F test: F=array([[0.9937673]]), p=0.3957441239174355, df_denom=372, df_num=3>"
      ]
     },
     "execution_count": 43,
     "metadata": {},
     "output_type": "execute_result"
    }
   ],
   "source": [
    "reset_ramsey(results,degree=4)"
   ]
  },
  {
   "cell_type": "markdown",
   "metadata": {},
   "source": [
    "Take some time to examine the result statistics. Based on the\n",
    "F-statistic having four degrees of freedom, we can assume that **Python included three higher order\n",
    "terms of the fitted values in the auxiliary regression**. With an F-value of 0.9937 and a corresponding\n",
    "p-value of 0.3957, the RESET test results imply that we cannot reject the null hypothesis that the\n",
    "model has no omitted variables. In other words, we do not find strong evidence that the chosen\n",
    "linear functional form of the model is incorrect."
   ]
  },
  {
   "cell_type": "code",
   "execution_count": null,
   "metadata": {},
   "outputs": [],
   "source": []
  }
 ],
 "metadata": {
  "kernelspec": {
   "display_name": "Python 3.10.4 ('metodos')",
   "language": "python",
   "name": "python3"
  },
  "language_info": {
   "codemirror_mode": {
    "name": "ipython",
    "version": 3
   },
   "file_extension": ".py",
   "mimetype": "text/x-python",
   "name": "python",
   "nbconvert_exporter": "python",
   "pygments_lexer": "ipython3",
   "version": "3.10.4"
  },
  "latex_envs": {
   "LaTeX_envs_menu_present": true,
   "autoclose": false,
   "autocomplete": true,
   "bibliofile": "biblio.bib",
   "cite_by": "apalike",
   "current_citInitial": 1,
   "eqLabelWithNumbers": true,
   "eqNumInitial": 1,
   "hotkeys": {
    "equation": "Ctrl-E",
    "itemize": "Ctrl-I"
   },
   "labels_anchors": false,
   "latex_user_defs": false,
   "report_style_numbering": false,
   "user_envs_cfg": false
  },
  "toc": {
   "base_numbering": 1,
   "nav_menu": {},
   "number_sections": true,
   "sideBar": true,
   "skip_h1_title": false,
   "title_cell": "Table of Contents",
   "title_sidebar": "Contents",
   "toc_cell": false,
   "toc_position": {},
   "toc_section_display": true,
   "toc_window_display": false
  },
  "varInspector": {
   "cols": {
    "lenName": 16,
    "lenType": 16,
    "lenVar": 40
   },
   "kernels_config": {
    "python": {
     "delete_cmd_postfix": "",
     "delete_cmd_prefix": "del ",
     "library": "var_list.py",
     "varRefreshCmd": "print(var_dic_list())"
    },
    "r": {
     "delete_cmd_postfix": ") ",
     "delete_cmd_prefix": "rm(",
     "library": "var_list.r",
     "varRefreshCmd": "cat(var_dic_list()) "
    }
   },
   "types_to_exclude": [
    "module",
    "function",
    "builtin_function_or_method",
    "instance",
    "_Feature"
   ],
   "window_display": false
  },
  "vscode": {
   "interpreter": {
    "hash": "7a264cf02235baedc191a9dec9b9e97db7af4c090365dde23adf9d2150b99a47"
   }
  }
 },
 "nbformat": 4,
 "nbformat_minor": 4
}
